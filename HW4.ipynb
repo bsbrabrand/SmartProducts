{
  "nbformat": 4,
  "nbformat_minor": 0,
  "metadata": {
    "colab": {
      "provenance": [],
      "toc_visible": true,
      "authorship_tag": "ABX9TyP79bYIZxBgn49uRguO5eA7",
      "include_colab_link": true
    },
    "kernelspec": {
      "name": "python3",
      "display_name": "Python 3"
    },
    "language_info": {
      "name": "python"
    }
  },
  "cells": [
    {
      "cell_type": "markdown",
      "metadata": {
        "id": "view-in-github",
        "colab_type": "text"
      },
      "source": [
        "<a href=\"https://colab.research.google.com/github/bsbrabrand/SmartProducts/blob/main/HW4.ipynb\" target=\"_parent\"><img src=\"https://colab.research.google.com/assets/colab-badge.svg\" alt=\"Open In Colab\"/></a>"
      ]
    },
    {
      "cell_type": "markdown",
      "source": [
        "# Bennett Brabrand"
      ],
      "metadata": {
        "id": "gUg9vU9lzvGE"
      }
    },
    {
      "cell_type": "code",
      "execution_count": 1,
      "metadata": {
        "tags": [],
        "id": "295ac6d7",
        "colab": {
          "base_uri": "https://localhost:8080/"
        },
        "outputId": "21cead99-4205-4085-f248-786617579437"
      },
      "outputs": [
        {
          "output_type": "stream",
          "name": "stdout",
          "text": [
            "Downloaded thinkpython.py\n",
            "Downloaded diagram.py\n"
          ]
        }
      ],
      "source": [
        "from os.path import basename, exists\n",
        "\n",
        "def download(url):\n",
        "    filename = basename(url)\n",
        "    if not exists(filename):\n",
        "        from urllib.request import urlretrieve\n",
        "\n",
        "        local, _ = urlretrieve(url, filename)\n",
        "        print(\"Downloaded \" + str(local))\n",
        "    return filename\n",
        "\n",
        "download('https://github.com/AllenDowney/ThinkPython/raw/v3/thinkpython.py');\n",
        "download('https://github.com/AllenDowney/ThinkPython/raw/v3/diagram.py');\n",
        "\n",
        "import thinkpython"
      ]
    },
    {
      "cell_type": "markdown",
      "metadata": {
        "id": "f90e011f"
      },
      "source": [
        "# 11.11.2\n",
        "\n",
        "In this chapter I said that tuples can be used as keys in dictionaries because they are hashable, and they are hashable because they are immutable.\n",
        "But that is not always true.\n",
        "\n",
        "If a tuple contains a mutable value, like a list or a dictionary, the tuple is no longer hashable because it contains elements that are not hashable. As an example, here's a tuple that contains two lists of integers."
      ]
    },
    {
      "cell_type": "code",
      "execution_count": 2,
      "metadata": {
        "id": "4416fe4a",
        "colab": {
          "base_uri": "https://localhost:8080/"
        },
        "outputId": "952ff733-cdbd-478c-e0cb-5dcb1a41b1b2"
      },
      "outputs": [
        {
          "output_type": "execute_result",
          "data": {
            "text/plain": [
              "([1, 2, 3], [4, 5])"
            ]
          },
          "metadata": {},
          "execution_count": 2
        }
      ],
      "source": [
        "list0 = [1, 2, 3]\n",
        "list1 = [4, 5]\n",
        "\n",
        "t = (list0, list1)\n",
        "t"
      ]
    },
    {
      "cell_type": "markdown",
      "metadata": {
        "id": "02799077"
      },
      "source": [
        "Write a line of code that appends the value `6` to the end of the second list in `t`. If you display `t`, the result should be `([1, 2, 3], [4, 5, 6])`."
      ]
    },
    {
      "cell_type": "code",
      "execution_count": 3,
      "metadata": {
        "tags": [],
        "id": "e6eda0e4",
        "colab": {
          "base_uri": "https://localhost:8080/"
        },
        "outputId": "7fcf79fd-1bda-4282-be22-aca5e8e2b906"
      },
      "outputs": [
        {
          "output_type": "execute_result",
          "data": {
            "text/plain": [
              "([1, 2, 3], [4, 5, 6])"
            ]
          },
          "metadata": {},
          "execution_count": 3
        }
      ],
      "source": [
        "# Solution goes here\n",
        "#add the value 6 to the second element of t\n",
        "t[1].append(6)\n",
        "t"
      ]
    },
    {
      "cell_type": "markdown",
      "metadata": {
        "id": "644b1dfb"
      },
      "source": [
        "Try to create a dictionary that maps from `t` to a string, and confirm that you get a `TypeError`."
      ]
    },
    {
      "cell_type": "code",
      "execution_count": 4,
      "metadata": {
        "tags": [],
        "id": "4fae1acc",
        "colab": {
          "base_uri": "https://localhost:8080/",
          "height": 55
        },
        "outputId": "78739551-3b51-4a68-ab51-442a9d0c64cc"
      },
      "outputs": [
        {
          "output_type": "error",
          "ename": "TypeError",
          "evalue": "unhashable type: 'list'",
          "traceback": [
            "\u001b[0;31mTypeError\u001b[0m\u001b[0;31m:\u001b[0m unhashable type: 'list'\n"
          ]
        }
      ],
      "source": [
        "# Solution goes here\n",
        "dictionary = {t: \"test\"}"
      ]
    },
    {
      "cell_type": "markdown",
      "metadata": {
        "id": "fb77a352"
      },
      "source": [
        "## 11.11.2 Explanation\n",
        "For the first part, the append method is applied to the second [1] element of t with a value of 6. This adds the value of 6 to the list that is located at position 1 of t. For the second part, a type error occurs since t is a list and the key for a dictionary needs to be hashable. Since a list can be appended it is mutable and unable to be hashed.\n",
        "\n",
        "Insights: Using the append command on a list would be very useful for data storage and analytics. It could be used to add x/y entries to a plot, or add user data to a database."
      ]
    },
    {
      "cell_type": "markdown",
      "metadata": {
        "tags": [],
        "id": "bdfc8c27"
      },
      "source": [
        "# 11.11.3\n",
        "\n",
        "In this chapter we made a dictionary that maps from each letter to its index in the alphabet."
      ]
    },
    {
      "cell_type": "code",
      "execution_count": 5,
      "metadata": {
        "id": "855c7ed2"
      },
      "outputs": [],
      "source": [
        "letters = 'abcdefghijklmnopqrstuvwxyz'\n",
        "numbers = range(len(letters))\n",
        "letter_map = dict(zip(letters, numbers))"
      ]
    },
    {
      "cell_type": "markdown",
      "metadata": {
        "id": "a8cd720b"
      },
      "source": [
        "For example, the index of `'a'` is `0`."
      ]
    },
    {
      "cell_type": "code",
      "execution_count": 6,
      "metadata": {
        "id": "3c921f68",
        "colab": {
          "base_uri": "https://localhost:8080/"
        },
        "outputId": "21f4b153-153d-48c7-8b34-b2f0e5dfb244"
      },
      "outputs": [
        {
          "output_type": "execute_result",
          "data": {
            "text/plain": [
              "0"
            ]
          },
          "metadata": {},
          "execution_count": 6
        }
      ],
      "source": [
        "letter_map['a']"
      ]
    },
    {
      "cell_type": "markdown",
      "metadata": {
        "id": "a04c25db"
      },
      "source": [
        "To go in the other direction, we can use list indexing.\n",
        "For example, the letter at index `1` is `'b'`."
      ]
    },
    {
      "cell_type": "code",
      "execution_count": 7,
      "metadata": {
        "id": "b029b0da",
        "colab": {
          "base_uri": "https://localhost:8080/",
          "height": 36
        },
        "outputId": "5792eb8c-fb45-4b25-e19b-a2eec7afc8e4"
      },
      "outputs": [
        {
          "output_type": "execute_result",
          "data": {
            "text/plain": [
              "'b'"
            ],
            "application/vnd.google.colaboratory.intrinsic+json": {
              "type": "string"
            }
          },
          "metadata": {},
          "execution_count": 7
        }
      ],
      "source": [
        "letters[1]"
      ]
    },
    {
      "cell_type": "markdown",
      "metadata": {
        "id": "165ab770"
      },
      "source": [
        "We can use `letter_map` and `letters` to encode and decode words using a Caesar cipher.\n",
        "\n",
        "A Caesar cipher is a weak form of encryption that involves shifting each letter\n",
        "by a fixed number of places in the alphabet, wrapping around to the beginning if necessary. For example, `'a'` shifted by 2 is `'c'` and `'z'` shifted by 1 is `'a'`.\n",
        "\n",
        "Write a function called `shift_word` that takes as parameters a string and an integer, and returns a new string that contains the letters from the string shifted by the given number of places.\n",
        "\n",
        "To test your function, confirm that \"cheer\" shifted by 7 is \"jolly\" and \"melon\" shifted by 16 is \"cubed\".\n",
        "\n",
        "Hints: Use the modulus operator to wrap around from `'z'` back to `'a'`.\n",
        "Loop through the letters of the word, shift each one, and append the result to a list of letters.\n",
        "Then use `join` to concatenate the letters into a string."
      ]
    },
    {
      "cell_type": "markdown",
      "metadata": {
        "tags": [],
        "id": "e7478b18"
      },
      "source": [
        "You can use this outline to get started."
      ]
    },
    {
      "cell_type": "code",
      "execution_count": 8,
      "metadata": {
        "tags": [],
        "id": "1cc07036"
      },
      "outputs": [],
      "source": [
        "def shift_word(word, n):\n",
        "    \"\"\"Shift the letters of `word` by `n` places.\n",
        "\n",
        "    >>> shift_word('cheer', 7)\n",
        "    'jolly'\n",
        "    >>> shift_word('melon', 16)\n",
        "    'cubed'\n",
        "    \"\"\"\n",
        "    cipher = [] #create empty list\n",
        "    #iterate through each letter\n",
        "    for letter in word:\n",
        "      #convert to number, add 'n', mod 26 to wrap around z->a, then convert back to a letter and add to list\n",
        "      cipher.append(letters[(letter_map[letter]+n)%26])\n",
        "    #after list is created, join each letter to a string with no delimiter\n",
        "    return ''.join(cipher)"
      ]
    },
    {
      "cell_type": "code",
      "execution_count": 9,
      "metadata": {
        "tags": [],
        "id": "c026c6d1",
        "colab": {
          "base_uri": "https://localhost:8080/",
          "height": 36
        },
        "outputId": "1e162f65-04d7-4acc-9c3b-6e4e984b3f47"
      },
      "outputs": [
        {
          "output_type": "execute_result",
          "data": {
            "text/plain": [
              "'jolly'"
            ],
            "application/vnd.google.colaboratory.intrinsic+json": {
              "type": "string"
            }
          },
          "metadata": {},
          "execution_count": 9
        }
      ],
      "source": [
        "shift_word('cheer', 7)"
      ]
    },
    {
      "cell_type": "code",
      "execution_count": 10,
      "metadata": {
        "tags": [],
        "id": "5814999d",
        "colab": {
          "base_uri": "https://localhost:8080/",
          "height": 36
        },
        "outputId": "1dabf4cf-b6be-42c7-99d9-adcea3a5fd2c"
      },
      "outputs": [
        {
          "output_type": "execute_result",
          "data": {
            "text/plain": [
              "'cubed'"
            ],
            "application/vnd.google.colaboratory.intrinsic+json": {
              "type": "string"
            }
          },
          "metadata": {},
          "execution_count": 10
        }
      ],
      "source": [
        "shift_word('melon', 16)"
      ]
    },
    {
      "cell_type": "markdown",
      "metadata": {
        "tags": [],
        "id": "39a67af9"
      },
      "source": [
        "You can use `doctest` to test your function."
      ]
    },
    {
      "cell_type": "code",
      "execution_count": 11,
      "metadata": {
        "tags": [],
        "id": "9464d140",
        "colab": {
          "base_uri": "https://localhost:8080/"
        },
        "outputId": "ea18e278-a21f-46f3-9230-f258da59efa1"
      },
      "outputs": [
        {
          "output_type": "stream",
          "name": "stderr",
          "text": [
            "\n",
            "PYDEV DEBUGGER WARNING:\n",
            "sys.settrace() should not be used when the debugger is being used.\n",
            "This may cause the debugger to stop working correctly.\n",
            "If this is needed, please check: \n",
            "http://pydev.blogspot.com/2007/06/why-cant-pydev-debugger-work-with.html\n",
            "to see how to restore the debug tracing back correctly.\n",
            "Call Location:\n",
            "  File \"/usr/lib/python3.11/doctest.py\", line 1523, in run\n",
            "    sys.settrace(save_trace)\n",
            "\n"
          ]
        }
      ],
      "source": [
        "from doctest import run_docstring_examples\n",
        "\n",
        "def run_doctests(func):\n",
        "    run_docstring_examples(func, globals(), name=func.__name__)\n",
        "\n",
        "run_doctests(shift_word)"
      ]
    },
    {
      "cell_type": "markdown",
      "source": [
        "## 11.11.3 Explanation\n",
        "This function takes a word and the number of letters to shift as inputs. First it creates an empty list for the ciphered word. Next, it iterates through each letter of the word. For each letter, it is first mapped to a number using the letter_map dictionary. Next, the shift value is added to that number. The result then undergoes the mod operator of 26 to loop back to 'a' and avoid an index error. The numerical value is used as the index for the string of letters so that the shifted letter can be appended to the cipher list. After iterating through all the letters, the cipher list is joined with no delimiter to return the shifted word as a string.\n",
        "\n",
        "Insights: Ciphers are the backbone for many important security features such as encyption. This basic cipher uses similar features like hashing that more sophisticated encyption systems use."
      ],
      "metadata": {
        "id": "zvmalZeL5wjr"
      }
    },
    {
      "cell_type": "markdown",
      "metadata": {
        "id": "779f13af"
      },
      "source": [
        "# 11.11.4\n",
        "\n",
        "Write a function called `most_frequent_letters` that takes a string and prints the letters in decreasing order of frequency.\n",
        "\n",
        "To get the items in decreasing order, you can use `reversed` along with `sorted` or you can pass `reverse=True` as a keyword parameter to `sorted`."
      ]
    },
    {
      "cell_type": "markdown",
      "metadata": {
        "tags": [],
        "id": "d71923e6"
      },
      "source": [
        "You can use this outline of the function to get started."
      ]
    },
    {
      "cell_type": "code",
      "execution_count": 12,
      "metadata": {
        "id": "52228828"
      },
      "outputs": [],
      "source": [
        "# Solution goes here\n",
        "def most_frequent_letters(string):\n",
        "  ''' Print the most frequent letters in 'string' in decreasing order of frequency.'''\n",
        "  #intialize dictionary\n",
        "  letter_dict = {}\n",
        "  #for each letter of the input string\n",
        "  for letter in string:\n",
        "    #check if letter is a key in dictionary\n",
        "    if letter.lower() in letter_dict:\n",
        "      #if letter is a key, increment its value by 1\n",
        "      letter_dict[letter.lower()] += 1\n",
        "    else:\n",
        "      #if letter is not already a key, create it as a key with a value of 1\n",
        "      letter_dict[letter.lower()] = 1\n",
        "  #sort the dictonary in reverse based on the second item\n",
        "  sorted_list= sorted(letter_dict.items(), key= lambda x: x[1], reverse=True)\n",
        "  #print each letter from the sorted list\n",
        "  for item in sorted_list:\n",
        "    print(item[0])\n",
        "  return None"
      ]
    },
    {
      "cell_type": "markdown",
      "metadata": {
        "tags": [],
        "id": "c6354c44"
      },
      "source": [
        "And this example to test your function."
      ]
    },
    {
      "cell_type": "code",
      "execution_count": 13,
      "metadata": {
        "tags": [],
        "id": "3bf2aa0d",
        "colab": {
          "base_uri": "https://localhost:8080/"
        },
        "outputId": "a527cc4d-6758-4687-d220-66d63def1172"
      },
      "outputs": [
        {
          "output_type": "stream",
          "name": "stdout",
          "text": [
            "r\n",
            "o\n",
            "s\n",
            "u\n",
            "b\n",
            "n\n",
            "t\n",
            "a\n"
          ]
        }
      ],
      "source": [
        "most_frequent_letters('brontosaurus')"
      ]
    },
    {
      "cell_type": "markdown",
      "metadata": {
        "tags": [],
        "id": "2ca1e337"
      },
      "source": [
        "Once your function is working, you can use the following code to print the most common letters in *Dracula*, which we can download from Project Gutenberg."
      ]
    },
    {
      "cell_type": "code",
      "execution_count": 14,
      "metadata": {
        "tags": [],
        "id": "e4fbf5d9",
        "colab": {
          "base_uri": "https://localhost:8080/"
        },
        "outputId": "ec8151d8-6922-4039-de69-d7a6824509fc"
      },
      "outputs": [
        {
          "output_type": "stream",
          "name": "stdout",
          "text": [
            "Downloaded pg345.txt\n"
          ]
        }
      ],
      "source": [
        "download('https://www.gutenberg.org/cache/epub/345/pg345.txt');"
      ]
    },
    {
      "cell_type": "code",
      "execution_count": 15,
      "metadata": {
        "tags": [],
        "id": "817ec689",
        "colab": {
          "base_uri": "https://localhost:8080/"
        },
        "outputId": "51eac26b-fc94-4c13-f844-9b75590a8666"
      },
      "outputs": [
        {
          "output_type": "stream",
          "name": "stdout",
          "text": [
            " \n",
            "e\n",
            "t\n",
            "a\n",
            "o\n",
            "n\n",
            "h\n",
            "i\n",
            "s\n",
            "r\n",
            "d\n",
            "l\n",
            "u\n",
            "w\n",
            "m\n",
            "\n",
            "\n",
            "f\n",
            "c\n",
            "g\n",
            "y\n",
            ",\n",
            "p\n",
            "b\n",
            ".\n",
            "k\n",
            "v\n",
            "-\n",
            ";\n",
            "’\n",
            "“\n",
            "”\n",
            "_\n",
            "j\n",
            "x\n",
            "!\n",
            "*\n",
            ":\n",
            "q\n",
            "?\n",
            "z\n",
            "1\n",
            "2\n",
            "‘\n",
            "3\n",
            "0\n",
            "™\n",
            "(\n",
            ")\n",
            "5\n",
            "4\n",
            "7\n",
            "9\n",
            "8\n",
            "6\n",
            "&\n",
            "è\n",
            "æ\n",
            "ö\n",
            "/\n",
            "•\n",
            "[\n",
            "]\n",
            "—\n",
            "ë\n",
            "£\n",
            "{\n",
            "}\n",
            "é\n",
            "â\n",
            "ï\n",
            "$\n",
            "﻿\n",
            "#\n",
            "á\n",
            "ô\n",
            "à\n",
            "%\n"
          ]
        }
      ],
      "source": [
        "string = open('pg345.txt').read()\n",
        "most_frequent_letters(string)"
      ]
    },
    {
      "cell_type": "markdown",
      "metadata": {
        "tags": [],
        "id": "211c09c9"
      },
      "source": [
        "According to Zim's \"Codes and Secret Writing\", the sequence of letters in decreasing order of frequency in English starts with \"ETAONRISH\".\n",
        "How does this sequence compare with the results from *Dracula*?"
      ]
    },
    {
      "cell_type": "markdown",
      "source": [
        "## 11.11.4 Explanation\n",
        "This function takes a string as input. First, it creates an empty dictionary. Then, it iterates through each letter of the input string. If the letter is already a key in the dictionary, the value for that letter is increased by one. Otherwise, the letter is added as a new key with a value of 1.\n",
        "\n",
        "  Once the iteration is finished, there will be a dictionary with all the letters in the word as keys with their values being the number of occurances. The function then sorts the items of the dictionary based on the second value using a lambda function that looks at only the second value of each tuple. Since the second value is the number of occurances, sorting by this results in the list being in order of frequency. To list the higher frequencies first, the reverse flag is set equal to true. Finally, the function prints the first value of each item of the sorted list, which corresponds to the letters in decreasing order of frequency of occurance.\n",
        "\n",
        "  Insight: Using a dictionary to count occurances has many applications in data processing and analytics. This basic structure can be used to track consumer trends, find patterns, and monitor popularity of items given a list of items ordered."
      ],
      "metadata": {
        "id": "O8OtjFP7AAQq"
      }
    },
    {
      "cell_type": "markdown",
      "metadata": {
        "id": "4fbe939e"
      },
      "source": [
        "# 11.11.6\n",
        "\n",
        "Write a function called `word_distance` that takes two words with the same length and returns the number of places where the two words differ.\n",
        "\n",
        "Hint: Use `zip` to loop through the corresponding letters of the words."
      ]
    },
    {
      "cell_type": "markdown",
      "metadata": {
        "tags": [],
        "id": "8b48dbdc"
      },
      "source": [
        "Here's an outline of the function with doctests you can use to check your function."
      ]
    },
    {
      "cell_type": "code",
      "execution_count": 16,
      "metadata": {
        "tags": [],
        "id": "3d5a75f8"
      },
      "outputs": [],
      "source": [
        "def word_distance(word1, word2):\n",
        "    \"\"\"Computes the number of places where two word differ.\n",
        "\n",
        "    >>> word_distance(\"hello\", \"hxllo\")\n",
        "    1\n",
        "    >>> word_distance(\"ample\", \"apply\")\n",
        "    2\n",
        "    >>> word_distance(\"kitten\", \"mutton\")\n",
        "    3\n",
        "    \"\"\"\n",
        "    #check word lengths\n",
        "    if len(word1) != len(word2):\n",
        "      print(\"Words must be the same length\")\n",
        "      return None\n",
        "    #initialize counter to 0\n",
        "    counter=0\n",
        "    #iterate through each pair of zipped letters\n",
        "    for pair in zip(word1, word2):\n",
        "      #if the letter from the first word is not equal to the corresponding letter of the second\n",
        "      if pair[0] != pair[1]:\n",
        "        #increase the counter by 1\n",
        "        counter +=1\n",
        "    #return the final value of counter after iterating through the entire word\n",
        "    return counter"
      ]
    },
    {
      "cell_type": "code",
      "execution_count": 17,
      "metadata": {
        "tags": [],
        "id": "753a23c1"
      },
      "outputs": [],
      "source": [
        "from doctest import run_docstring_examples\n",
        "\n",
        "def run_doctests(func):\n",
        "    run_docstring_examples(func, globals(), name=func.__name__)\n",
        "\n",
        "run_doctests(word_distance)"
      ]
    },
    {
      "cell_type": "markdown",
      "source": [
        "## 11.11.6 Explanation\n",
        "This function takes two strings of the same length. If they are not the same length, none is returned. The function initialized a counter to 0, then pairs each letter of the first string to the corresponding letter of the second string using zip. For each pair, the two letters are compared and the counter is increased by one if they are not the same letter. After iterating through the whole word, the final count is returned.\n",
        "\n",
        "Insight: This uses the zip function to convert two strings to a list of tuples and compare corresponding values. This can have applications with sorting algorithms and data manipulation."
      ],
      "metadata": {
        "id": "KZvVZ1wrCl3X"
      }
    },
    {
      "cell_type": "markdown",
      "metadata": {
        "id": "060c9ef6"
      },
      "source": [
        "# 12.12.2\n",
        "\n",
        "Write a function that counts the number of times each trigram (sequence of three words) appears.\n",
        "If you test your function with the text of _Dr. Jekyll and Mr. Hyde_, you should find that the most common trigram is \"said the lawyer\".\n",
        "\n",
        "Hint: Write a function called `count_trigram` that is similar to `count_bigram`. Then write a function called `process_word_trigram` that is similar to `process_word_bigram`."
      ]
    },
    {
      "cell_type": "code",
      "source": [
        "download('https://www.gutenberg.org/cache/epub/43/pg43.txt');\n",
        "def is_special_line(line):\n",
        "    return line.strip().startswith('*** ')\n",
        "def clean_file(input_file, output_file):\n",
        "    reader = open(input_file, encoding='utf-8')\n",
        "    writer = open(output_file, 'w')\n",
        "\n",
        "    for line in reader:\n",
        "        if is_special_line(line):\n",
        "            break\n",
        "\n",
        "    for line in reader:\n",
        "        if is_special_line(line):\n",
        "            break\n",
        "        writer.write(line)\n",
        "\n",
        "    reader.close()\n",
        "    writer.close()\n",
        "filename = 'dr_jekyll.txt'\n",
        "clean_file('pg43.txt', filename)\n",
        "import unicodedata\n",
        "\n",
        "unicodedata.category('A')\n",
        "unicodedata.category('.')\n",
        "punc_marks = {}\n",
        "for line in open(filename):\n",
        "    for char in line:\n",
        "        category = unicodedata.category(char)\n",
        "        if category.startswith('P'):\n",
        "            punc_marks[char] = 1\n",
        "punctuation = ''.join(punc_marks)\n",
        "print(punctuation)\n",
        "def split_line(line):\n",
        "    return line.replace('—', ' ').split()\n",
        "def clean_word(word):\n",
        "    return word.strip(punctuation).lower()\n",
        "def print_most_common(word_counter, num=5):\n",
        "    items = sorted(word_counter.items(), key=lambda x: x[1], reverse=True)\n",
        "\n",
        "    for word, freq in items[:num]:\n",
        "        print(freq, word, sep='\\t')"
      ],
      "metadata": {
        "colab": {
          "base_uri": "https://localhost:8080/"
        },
        "id": "lflIKqbr8xeM",
        "outputId": "671a9860-2f09-47ac-8c44-f02a936a8c84"
      },
      "execution_count": 18,
      "outputs": [
        {
          "output_type": "stream",
          "name": "stdout",
          "text": [
            "Downloaded pg43.txt\n",
            ".’;,-“”:?—‘!()_\n"
          ]
        }
      ]
    },
    {
      "cell_type": "code",
      "execution_count": 19,
      "metadata": {
        "id": "f38a61ff"
      },
      "outputs": [],
      "source": [
        "# Solution goes here\n",
        "#initialize blank dictionary\n",
        "trigram_counter = {}\n",
        "def count_trigram(trigram):\n",
        "  '''add trigrams to a dictionary'''\n",
        "  #convert a list of three strings to a tuple\n",
        "  key = tuple(trigram)\n",
        "  #increment the value of the trigram if it is already present, otherwise set its value to 1\n",
        "  if key in trigram_counter:\n",
        "    trigram_counter[key] += 1\n",
        "  else:\n",
        "    trigram_counter[key] = 1"
      ]
    },
    {
      "cell_type": "code",
      "execution_count": 20,
      "metadata": {
        "id": "d047e546"
      },
      "outputs": [],
      "source": [
        "# Solution goes here\n",
        "#initialize blank list\n",
        "window = []\n",
        "def process_word_trigram(word):\n",
        "  ''' Add a new word to the list and remove the first word if the list has 3 elements.'''\n",
        "  #add word to end of list\n",
        "  window.append(word)\n",
        "  #wait until list has 3 elements before removing counting the trigram and removing the first word in the list\n",
        "  if len(window) == 3:\n",
        "    count_trigram(window)\n",
        "    window.pop(0)"
      ]
    },
    {
      "cell_type": "markdown",
      "metadata": {
        "tags": [],
        "id": "ca1f8a79"
      },
      "source": [
        "You can use the following loop to read the book and process the words."
      ]
    },
    {
      "cell_type": "code",
      "execution_count": 21,
      "metadata": {
        "tags": [],
        "id": "6b8932ee"
      },
      "outputs": [],
      "source": [
        "for line in open(filename):\n",
        "    for word in split_line(line):\n",
        "        word = clean_word(word)\n",
        "        process_word_trigram(word)"
      ]
    },
    {
      "cell_type": "markdown",
      "metadata": {
        "tags": [],
        "id": "35d37fa1"
      },
      "source": [
        "Then use `print_most_common` to find the most common trigrams in the book."
      ]
    },
    {
      "cell_type": "code",
      "execution_count": 22,
      "metadata": {
        "tags": [],
        "id": "44c3f0d8",
        "colab": {
          "base_uri": "https://localhost:8080/"
        },
        "outputId": "cbda1d4e-1347-43c4-87fc-02a1b79a5754"
      },
      "outputs": [
        {
          "output_type": "stream",
          "name": "stdout",
          "text": [
            "20\t('said', 'the', 'lawyer')\n",
            "16\t('said', 'mr', 'utterson')\n",
            "15\t('of', 'edward', 'hyde')\n",
            "13\t('the', 'name', 'of')\n",
            "11\t('it', 'was', 'a')\n"
          ]
        }
      ],
      "source": [
        "print_most_common(trigram_counter)"
      ]
    },
    {
      "cell_type": "markdown",
      "source": [
        "## 12.2.2 Explanation\n",
        "The first function converts a list of three strings to a tuple so that it is hashable. Then, the value of that tuple is incremented in a dictionary if it is present or set to a value of 1 if it is not.\n",
        "\n",
        "The second function adds the string, which was passed as an arguement, to a list. Once the list has 3 elements, the 3 strings are passed into the previous function and the first element of the list is removed. This allows for overlap so every set of 3 consectutive words can be added to the dictionary.\n",
        "\n",
        "Inisight: The window used in the second function can be used in other applications such as calculating a rolling average. The first function is similar to the one used in chapter 11 that allows for tracking occurances with a dictionary for trend analysis"
      ],
      "metadata": {
        "id": "a-ezhA9fAcEL"
      }
    },
    {
      "cell_type": "markdown",
      "metadata": {
        "id": "7b2589a4"
      },
      "source": [
        "# 13.10.3\n",
        "\n",
        "In [a previous section](section_storing_data_structure), we used the `shelve` module to make a key-value store that maps from a sorted string of letters to a list of anagrams.\n",
        "To finish the example, write a function called `add_word` that takes as arguments a string and a shelf object.\n",
        "\n",
        "It should sort the letters of the word to make a key, then check whether the key is already in the shelf. If not, it should make a list that contains the new word and add it to the shelf. If so, it should append the new word to the existing value."
      ]
    },
    {
      "cell_type": "code",
      "execution_count": 23,
      "metadata": {
        "id": "1c2fff95"
      },
      "outputs": [],
      "source": [
        "# Solution goes here\n",
        "#import required module\n",
        "import shelve\n",
        "def add_word(word,db):\n",
        "  ''' This function takes a string, word, and a shelve, db, and adds the word\n",
        "  to the shelf that corresponds with other anagrams of that word '''\n",
        "  #to avoid duplicates, use the sorted version of the word as the key\n",
        "  key=''.join(sorted(word.lower()))\n",
        "  #if the key for an anagram is already in the database, set anagram list to the existing list\n",
        "  if key in db:\n",
        "    anagram_list=db[key]\n",
        "    #if that word is not in the anagram list, add it to the list and overwrite the list for that key\n",
        "    if word not in anagram_list:\n",
        "      anagram_list.append(word)\n",
        "      db[key]=anagram_list\n",
        "  #if the key is not in the database, create a list with just that word and assign it to its sorted key\n",
        "  else:\n",
        "    db[key]=[word]"
      ]
    },
    {
      "cell_type": "markdown",
      "metadata": {
        "tags": [],
        "id": "07cb454f"
      },
      "source": [
        "You can use this loop to test your function."
      ]
    },
    {
      "cell_type": "code",
      "execution_count": 24,
      "metadata": {
        "tags": [],
        "id": "8008cde6",
        "colab": {
          "base_uri": "https://localhost:8080/"
        },
        "outputId": "8dfeca0c-b954-467d-8469-a1511d229825"
      },
      "outputs": [
        {
          "output_type": "stream",
          "name": "stdout",
          "text": [
            "Downloaded words.txt\n"
          ]
        }
      ],
      "source": [
        "download('https://raw.githubusercontent.com/AllenDowney/ThinkPython/v3/words.txt');"
      ]
    },
    {
      "cell_type": "code",
      "execution_count": 25,
      "metadata": {
        "tags": [],
        "id": "a6b5e51a"
      },
      "outputs": [],
      "source": [
        "word_list = open('words.txt').read().split()\n",
        "\n",
        "db = shelve.open('anagram_map', 'n')\n",
        "for word in word_list:\n",
        "    add_word(word, db)"
      ]
    },
    {
      "cell_type": "markdown",
      "metadata": {
        "tags": [],
        "id": "40342366"
      },
      "source": [
        "If everything is working, you should be able to look up a key like `'opst'` and get a list of words that can be spelled with those letters."
      ]
    },
    {
      "cell_type": "code",
      "execution_count": 26,
      "metadata": {
        "tags": [],
        "id": "ffefe13e",
        "colab": {
          "base_uri": "https://localhost:8080/"
        },
        "outputId": "f17acf4f-de67-4ec0-e270-e7d2d3f63563"
      },
      "outputs": [
        {
          "output_type": "execute_result",
          "data": {
            "text/plain": [
              "['opts', 'post', 'pots', 'spot', 'stop', 'tops']"
            ]
          },
          "metadata": {},
          "execution_count": 26
        }
      ],
      "source": [
        "db['opst']"
      ]
    },
    {
      "cell_type": "code",
      "execution_count": 27,
      "metadata": {
        "tags": [],
        "id": "7eb54fbc",
        "colab": {
          "base_uri": "https://localhost:8080/"
        },
        "outputId": "64fb695d-77df-4f8a-9926-2ee4f079095f"
      },
      "outputs": [
        {
          "output_type": "stream",
          "name": "stdout",
          "text": [
            "['estrin', 'inerts', 'insert', 'inters', 'niters', 'nitres', 'sinter', 'triens', 'trines']\n",
            "['apers', 'asper', 'pares', 'parse', 'pears', 'prase', 'presa', 'rapes', 'reaps', 'spare', 'spear']\n",
            "['alerts', 'alters', 'artels', 'estral', 'laster', 'ratels', 'salter', 'slater', 'staler', 'stelar', 'talers']\n",
            "['least', 'setal', 'slate', 'stale', 'steal', 'stela', 'taels', 'tales', 'teals', 'tesla']\n",
            "['capers', 'crapes', 'escarp', 'pacers', 'parsec', 'recaps', 'scrape', 'secpar', 'spacer']\n"
          ]
        }
      ],
      "source": [
        "for key, value in db.items():\n",
        "    if len(value) > 8:\n",
        "        print(value)"
      ]
    },
    {
      "cell_type": "code",
      "execution_count": 28,
      "metadata": {
        "tags": [],
        "id": "ac784df7"
      },
      "outputs": [],
      "source": [
        "db.close()"
      ]
    },
    {
      "cell_type": "markdown",
      "source": [
        "## 13.10.3 Explanation\n",
        "\n",
        "This function takes a word and a shelve object as inputs to create a database of anagrams. The keys in this database are the letters of the word sorted alphbetically, and the values are a list of anagrams that use those letters.\n",
        "\n",
        "The first thing this function does is sort the letters of the word alphabetically to create the key. Next, it checks if the key is already in the database. If it is, anagram list is set to the current list. Then the function checks if the current word is in that list. If the word isn't there, the word is added to the list and the database entry is overwritten for the new list. If the key did not exist in the database, a list with just the current word is added to the database.\n",
        "\n",
        "Insights: This function creates a database with lists of similar words. This could be used to record different words that start with a prefix or end with a certain suffix."
      ],
      "metadata": {
        "id": "MkkImR12gZv4"
      }
    },
    {
      "cell_type": "markdown",
      "metadata": {
        "id": "228e977c"
      },
      "source": [
        "# 13.10.4\n",
        "\n",
        "In a large collection of files, there may be more than one copy of the same file, stored in different directories or with different file names.\n",
        "The goal of this exercise is to search for duplicates.\n",
        "As an example, we'll work with image files in the `photos` directory.\n",
        "\n",
        "Here's how it will work:\n",
        "\n",
        "* We'll use the `walk` function from [](section_walking_directories) to search this directory for files that end with one of the extensions in `config['extensions']`.\n",
        "\n",
        "* For each file, we'll use `md5_digest` from [](section_md5_digest) to compute a digest of the contents.\n",
        "\n",
        "* Using a shelf, we'll make a mapping from each digest to a list of paths with that digest.\n",
        "\n",
        "* Finally, we'll search the shelf for any digests that map to multiple files.\n",
        "\n",
        "* If we find any, we'll use `same_contents` to confirm that the files contain the same data."
      ]
    },
    {
      "cell_type": "markdown",
      "metadata": {
        "id": "8f5365da"
      },
      "source": [
        "I'll suggest some functions to write first, then we'll bring it all together.\n",
        "\n",
        "1. To identify image files, write a function called `is_image` that takes a path and a list of file extensions, and returns `True` if the path ends with one of the extensions in the list. Hint: Use `os.path.splitext` -- or ask a virtual assistant to write this function for you."
      ]
    },
    {
      "cell_type": "code",
      "execution_count": 29,
      "metadata": {
        "id": "03b6acf9"
      },
      "outputs": [],
      "source": [
        "# Solution goes here\n",
        "import os\n",
        "\n",
        "def is_image(filepath,extensions):\n",
        "  '''\n",
        "  This function takes a filepath and a list of extensions and returns True if the\n",
        "  file given has one of those extensions\n",
        "  >>> is_image('/user/test/home/image.png', ['.png','.jpg'])\n",
        "  True\n",
        "  >>> is_image('/system/test/photos/text.txt',['.png','.jpg'])\n",
        "  False\n",
        "  '''\n",
        "  #Split the filepath at the extension and store the second element (the extension)\n",
        "  extension = os.path.splitext(filepath)[1]\n",
        "  #Return true if the files extension is in the list of extensions\n",
        "  return extension in extensions"
      ]
    },
    {
      "cell_type": "markdown",
      "metadata": {
        "tags": [],
        "id": "dde4b5c8"
      },
      "source": [
        "You can use `doctest` to test your function."
      ]
    },
    {
      "cell_type": "code",
      "execution_count": 30,
      "metadata": {
        "tags": [],
        "id": "21c33092"
      },
      "outputs": [],
      "source": [
        "from doctest import run_docstring_examples\n",
        "\n",
        "def run_doctests(func):\n",
        "    run_docstring_examples(func, globals(), name=func.__name__)\n",
        "\n",
        "run_doctests(is_image)"
      ]
    },
    {
      "cell_type": "markdown",
      "metadata": {
        "id": "1a7c8f49"
      },
      "source": [
        "2. Write a function called `add_path` that takes as arguments a path and a shelf. It should use `md5_digest` to compute a digest of the file contents. Then it should update the shelf, either creating a new item that maps from the digest to a list containing the path, or appending the path to the list if it exists."
      ]
    },
    {
      "cell_type": "code",
      "execution_count": 31,
      "metadata": {
        "id": "31c056a9"
      },
      "outputs": [],
      "source": [
        "import hashlib\n",
        "def md5_digest(filename):\n",
        "    data = open(filename, 'rb').read()\n",
        "    md5_hash = hashlib.md5()\n",
        "    md5_hash.update(data)\n",
        "    digest = md5_hash.hexdigest()\n",
        "    return digest\n",
        "\n",
        "\n",
        "# Solution goes here\n",
        "def add_path(path, db):\n",
        "  ''' Given a file path and a database, calculate the md5 digest of the file.\n",
        "  If the digest is already in the database, add the filepath to a list for that\n",
        "  digest, otherwise create a new entry in the database for that digest.'''\n",
        "  #calulate the digest of the filepath\n",
        "  digest= md5_digest(path)\n",
        "  #if the digest is in the database, add the filepath to the list of filepaths\n",
        "  if digest in db:\n",
        "    path_list =db[digest]\n",
        "    path_list.append(path)\n",
        "    db[digest]=path_list\n",
        "  #if the digest is not in the database, create a entry with the filepath in a list\n",
        "  else:\n",
        "    db[digest]=[path]"
      ]
    },
    {
      "cell_type": "markdown",
      "metadata": {
        "id": "08223a21"
      },
      "source": [
        "3. Write a version of `walk` called `walk_images` that takes a directory and walks through the files in the directory and its subdirectories. For each file, it should use `is_image` to check whether it's an image file and `add_path` to add it to the shelf."
      ]
    },
    {
      "cell_type": "code",
      "execution_count": 32,
      "metadata": {
        "id": "e54d6993"
      },
      "outputs": [],
      "source": [
        "# Solution goes here\n",
        "def walk_images(directory):\n",
        "  ''' go through each file in a directory. If the file is an image, add the filepath to the database using\n",
        "  the add_path function, if the file is a directory, call walk_images recursively on that directory.\n",
        "  If the file is neither an image nor a directory, continue to the next file.\n",
        "  '''\n",
        "  #loop though each item of a directory\n",
        "  for name in os.listdir(directory):\n",
        "        #get the full filepath\n",
        "        path = os.path.join(directory, name)\n",
        "        #if the file is an image, add the filepath to the database\n",
        "        if is_image(path,['.png','.jpg','.jpeg','.heic']):\n",
        "            add_path(path,db)\n",
        "        #if the file is a directory, recursively call walk_images\n",
        "        elif os.path.isdir(path):\n",
        "            walk_images(path)"
      ]
    },
    {
      "cell_type": "markdown",
      "metadata": {
        "id": "1ea76a52"
      },
      "source": [
        "When everything is working, you can use the following program to create the shelf, search the `photos` directory and add paths to the shelf, and then check whether there are multiple files with the same digest."
      ]
    },
    {
      "cell_type": "code",
      "source": [
        "download('https://github.com/AllenDowney/ThinkPython/raw/v3/photos.zip');\n",
        "!unzip -o photos.zip"
      ],
      "metadata": {
        "colab": {
          "base_uri": "https://localhost:8080/"
        },
        "id": "lJO1n0cGygN0",
        "outputId": "1246e429-6d29-4669-f40b-3d87718370d3"
      },
      "execution_count": 33,
      "outputs": [
        {
          "output_type": "stream",
          "name": "stdout",
          "text": [
            "Downloaded photos.zip\n",
            "Archive:  photos.zip\n",
            "   creating: photos/\n",
            "  inflating: photos/notes.txt        \n",
            "   creating: photos/mar-2023/\n",
            "  inflating: photos/mar-2023/photo2.jpg  \n",
            "  inflating: photos/mar-2023/photo1.jpg  \n",
            "   creating: photos/jan-2023/\n",
            "  inflating: photos/jan-2023/photo3.jpg  \n",
            "  inflating: photos/jan-2023/photo2.jpg  \n",
            "  inflating: photos/jan-2023/photo1.jpg  \n",
            "   creating: photos/feb-2023/\n",
            "  inflating: photos/feb-2023/photo2.jpg  \n",
            "  inflating: photos/feb-2023/photo1.jpg  \n"
          ]
        }
      ]
    },
    {
      "cell_type": "code",
      "execution_count": 34,
      "metadata": {
        "tags": [],
        "id": "c31ba5b6",
        "colab": {
          "base_uri": "https://localhost:8080/"
        },
        "outputId": "3f2f34fc-208d-4c75-d574-200ee89ca744"
      },
      "outputs": [
        {
          "output_type": "stream",
          "name": "stdout",
          "text": [
            "['photos/mar-2023/photo2.jpg', 'photos/jan-2023/photo1.jpg']\n"
          ]
        }
      ],
      "source": [
        "import shelve\n",
        "db = shelve.open('photos/digests', 'n')\n",
        "walk_images('photos')\n",
        "\n",
        "for digest, paths in db.items():\n",
        "  if len(paths) > 1:\n",
        "    print(paths)"
      ]
    },
    {
      "cell_type": "markdown",
      "metadata": {
        "id": "102d4d10"
      },
      "source": [
        "You should find one pair of files that have the same digest.\n",
        "Use `same_contents` to check whether they contain the same data."
      ]
    },
    {
      "cell_type": "code",
      "execution_count": 35,
      "metadata": {
        "id": "d7c7e679",
        "colab": {
          "base_uri": "https://localhost:8080/"
        },
        "outputId": "df9639ea-514b-4211-9999-5f3ba89dc402"
      },
      "outputs": [
        {
          "output_type": "execute_result",
          "data": {
            "text/plain": [
              "True"
            ]
          },
          "metadata": {},
          "execution_count": 35
        }
      ],
      "source": [
        "def same_contents(path1, path2):\n",
        "    data1 = open(path1, 'rb').read()\n",
        "    data2 = open(path2, 'rb').read()\n",
        "    return data1 == data2\n",
        "# Solution goes here\n",
        "same_contents('photos/mar-2023/photo2.jpg', 'photos/jan-2023/photo1.jpg')"
      ]
    },
    {
      "cell_type": "markdown",
      "source": [
        "## 13.10.4 Explanation\n",
        "The first function, is_image, splits the given filepath before its extension and compares the second part of it (the extension) to the given list of acceptable extensions.\n",
        "\n",
        "\n",
        "The second function, add_path, calculates the md5 digest of the file and checks if that value is in the database. If it is, the filepath is added to a list for its corresponding digest in the databse. Otherwise a new databse entry is created with the digest and filepath.\n",
        "\n",
        "\n",
        "The third function, walk_images, goes through the entirity of a directory, recursively calling itself if the directory contains another directory, and adds any files with an image extension to the databse.\n",
        "\n",
        "Insights: These functions can be used to save space by eliminating duplicate files. Additionally, they can be used to search through a directory to find a file. For example, these functions could be altered to find all executable files in a directory."
      ],
      "metadata": {
        "id": "3dy3bon8NRW3"
      }
    }
  ]
}