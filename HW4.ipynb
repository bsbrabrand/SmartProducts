{
  "nbformat": 4,
  "nbformat_minor": 0,
  "metadata": {
    "colab": {
      "provenance": [],
      "toc_visible": true,
      "authorship_tag": "ABX9TyPAXsTYaXWDdkDYM7+FyHQ0",
      "include_colab_link": true
    },
    "kernelspec": {
      "name": "python3",
      "display_name": "Python 3"
    },
    "language_info": {
      "name": "python"
    }
  },
  "cells": [
    {
      "cell_type": "markdown",
      "metadata": {
        "id": "view-in-github",
        "colab_type": "text"
      },
      "source": [
        "<a href=\"https://colab.research.google.com/github/bsbrabrand/SmartProducts/blob/main/HW4.ipynb\" target=\"_parent\"><img src=\"https://colab.research.google.com/assets/colab-badge.svg\" alt=\"Open In Colab\"/></a>"
      ]
    },
    {
      "cell_type": "markdown",
      "source": [
        "# Bennett Brabrand"
      ],
      "metadata": {
        "id": "gUg9vU9lzvGE"
      }
    },
    {
      "cell_type": "code",
      "execution_count": 3,
      "metadata": {
        "tags": [],
        "id": "295ac6d7",
        "colab": {
          "base_uri": "https://localhost:8080/"
        },
        "outputId": "8e5c2fa0-c308-4058-caf9-258fd10cf09a"
      },
      "outputs": [
        {
          "output_type": "stream",
          "name": "stdout",
          "text": [
            "Downloaded thinkpython.py\n",
            "Downloaded diagram.py\n"
          ]
        }
      ],
      "source": [
        "from os.path import basename, exists\n",
        "\n",
        "def download(url):\n",
        "    filename = basename(url)\n",
        "    if not exists(filename):\n",
        "        from urllib.request import urlretrieve\n",
        "\n",
        "        local, _ = urlretrieve(url, filename)\n",
        "        print(\"Downloaded \" + str(local))\n",
        "    return filename\n",
        "\n",
        "download('https://github.com/AllenDowney/ThinkPython/raw/v3/thinkpython.py');\n",
        "download('https://github.com/AllenDowney/ThinkPython/raw/v3/diagram.py');\n",
        "\n",
        "import thinkpython"
      ]
    },
    {
      "cell_type": "markdown",
      "metadata": {
        "id": "f90e011f"
      },
      "source": [
        "# 11.11.2\n",
        "\n",
        "In this chapter I said that tuples can be used as keys in dictionaries because they are hashable, and they are hashable because they are immutable.\n",
        "But that is not always true.\n",
        "\n",
        "If a tuple contains a mutable value, like a list or a dictionary, the tuple is no longer hashable because it contains elements that are not hashable. As an example, here's a tuple that contains two lists of integers."
      ]
    },
    {
      "cell_type": "code",
      "execution_count": null,
      "metadata": {
        "id": "4416fe4a",
        "colab": {
          "base_uri": "https://localhost:8080/"
        },
        "outputId": "3bd578c2-fc5a-4c4e-e354-b247b0f56b54"
      },
      "outputs": [
        {
          "output_type": "execute_result",
          "data": {
            "text/plain": [
              "([1, 2, 3], [4, 5])"
            ]
          },
          "metadata": {},
          "execution_count": 1
        }
      ],
      "source": [
        "list0 = [1, 2, 3]\n",
        "list1 = [4, 5]\n",
        "\n",
        "t = (list0, list1)\n",
        "t"
      ]
    },
    {
      "cell_type": "markdown",
      "metadata": {
        "id": "02799077"
      },
      "source": [
        "Write a line of code that appends the value `6` to the end of the second list in `t`. If you display `t`, the result should be `([1, 2, 3], [4, 5, 6])`."
      ]
    },
    {
      "cell_type": "code",
      "execution_count": null,
      "metadata": {
        "tags": [],
        "id": "e6eda0e4",
        "colab": {
          "base_uri": "https://localhost:8080/"
        },
        "outputId": "89777a7f-f93b-41ca-b569-eadeaf420586"
      },
      "outputs": [
        {
          "output_type": "execute_result",
          "data": {
            "text/plain": [
              "([1, 2, 3], [4, 5, 6])"
            ]
          },
          "metadata": {},
          "execution_count": 2
        }
      ],
      "source": [
        "# Solution goes here\n",
        "#add the value 6 to the second element of t\n",
        "t[1].append(6)\n",
        "t"
      ]
    },
    {
      "cell_type": "markdown",
      "metadata": {
        "id": "644b1dfb"
      },
      "source": [
        "Try to create a dictionary that maps from `t` to a string, and confirm that you get a `TypeError`."
      ]
    },
    {
      "cell_type": "code",
      "execution_count": null,
      "metadata": {
        "tags": [],
        "id": "4fae1acc",
        "colab": {
          "base_uri": "https://localhost:8080/",
          "height": 164
        },
        "outputId": "ad202796-34a5-4206-e611-d3b9b3230917"
      },
      "outputs": [
        {
          "output_type": "error",
          "ename": "TypeError",
          "evalue": "unhashable type: 'list'",
          "traceback": [
            "\u001b[0;31m---------------------------------------------------------------------------\u001b[0m",
            "\u001b[0;31mTypeError\u001b[0m                                 Traceback (most recent call last)",
            "\u001b[0;32m<ipython-input-3-dbe822de3d0c>\u001b[0m in \u001b[0;36m<cell line: 0>\u001b[0;34m()\u001b[0m\n\u001b[1;32m      1\u001b[0m \u001b[0;31m# Solution goes here\u001b[0m\u001b[0;34m\u001b[0m\u001b[0;34m\u001b[0m\u001b[0m\n\u001b[0;32m----> 2\u001b[0;31m \u001b[0mdictionary\u001b[0m \u001b[0;34m=\u001b[0m \u001b[0;34m{\u001b[0m\u001b[0mt\u001b[0m\u001b[0;34m:\u001b[0m \u001b[0;34m\"test\"\u001b[0m\u001b[0;34m}\u001b[0m\u001b[0;34m\u001b[0m\u001b[0;34m\u001b[0m\u001b[0m\n\u001b[0m",
            "\u001b[0;31mTypeError\u001b[0m: unhashable type: 'list'"
          ]
        }
      ],
      "source": [
        "# Solution goes here\n",
        "dictionary = {t: \"test\"}"
      ]
    },
    {
      "cell_type": "markdown",
      "metadata": {
        "id": "fb77a352"
      },
      "source": [
        "## 11.11.2 Explanation\n",
        "For the first part, the append method is applied to the second [1] element of t with a value of 6. This adds the value of 6 to the list that is located at position 1 of t. For the second part, a type error occurs since t is a list and the key for a dictionary needs to be hashable. Since a list can be appended it is mutable and unable to be hashed."
      ]
    },
    {
      "cell_type": "markdown",
      "metadata": {
        "tags": [],
        "id": "bdfc8c27"
      },
      "source": [
        "# 11.11.3\n",
        "\n",
        "In this chapter we made a dictionary that maps from each letter to its index in the alphabet."
      ]
    },
    {
      "cell_type": "code",
      "execution_count": null,
      "metadata": {
        "id": "855c7ed2"
      },
      "outputs": [],
      "source": [
        "letters = 'abcdefghijklmnopqrstuvwxyz'\n",
        "numbers = range(len(letters))\n",
        "letter_map = dict(zip(letters, numbers))"
      ]
    },
    {
      "cell_type": "markdown",
      "metadata": {
        "id": "a8cd720b"
      },
      "source": [
        "For example, the index of `'a'` is `0`."
      ]
    },
    {
      "cell_type": "code",
      "execution_count": null,
      "metadata": {
        "id": "3c921f68",
        "colab": {
          "base_uri": "https://localhost:8080/"
        },
        "outputId": "38217734-9518-4ad4-8667-c53fa778939d"
      },
      "outputs": [
        {
          "output_type": "execute_result",
          "data": {
            "text/plain": [
              "0"
            ]
          },
          "metadata": {},
          "execution_count": 5
        }
      ],
      "source": [
        "letter_map['a']"
      ]
    },
    {
      "cell_type": "markdown",
      "metadata": {
        "id": "a04c25db"
      },
      "source": [
        "To go in the other direction, we can use list indexing.\n",
        "For example, the letter at index `1` is `'b'`."
      ]
    },
    {
      "cell_type": "code",
      "execution_count": null,
      "metadata": {
        "id": "b029b0da",
        "colab": {
          "base_uri": "https://localhost:8080/",
          "height": 36
        },
        "outputId": "7c29469f-6c3c-4bbe-9e53-6fa65e39e950"
      },
      "outputs": [
        {
          "output_type": "execute_result",
          "data": {
            "text/plain": [
              "'b'"
            ],
            "application/vnd.google.colaboratory.intrinsic+json": {
              "type": "string"
            }
          },
          "metadata": {},
          "execution_count": 6
        }
      ],
      "source": [
        "letters[1]"
      ]
    },
    {
      "cell_type": "markdown",
      "metadata": {
        "id": "165ab770"
      },
      "source": [
        "We can use `letter_map` and `letters` to encode and decode words using a Caesar cipher.\n",
        "\n",
        "A Caesar cipher is a weak form of encryption that involves shifting each letter\n",
        "by a fixed number of places in the alphabet, wrapping around to the beginning if necessary. For example, `'a'` shifted by 2 is `'c'` and `'z'` shifted by 1 is `'a'`.\n",
        "\n",
        "Write a function called `shift_word` that takes as parameters a string and an integer, and returns a new string that contains the letters from the string shifted by the given number of places.\n",
        "\n",
        "To test your function, confirm that \"cheer\" shifted by 7 is \"jolly\" and \"melon\" shifted by 16 is \"cubed\".\n",
        "\n",
        "Hints: Use the modulus operator to wrap around from `'z'` back to `'a'`.\n",
        "Loop through the letters of the word, shift each one, and append the result to a list of letters.\n",
        "Then use `join` to concatenate the letters into a string."
      ]
    },
    {
      "cell_type": "markdown",
      "metadata": {
        "tags": [],
        "id": "e7478b18"
      },
      "source": [
        "You can use this outline to get started."
      ]
    },
    {
      "cell_type": "code",
      "execution_count": null,
      "metadata": {
        "tags": [],
        "id": "1cc07036"
      },
      "outputs": [],
      "source": [
        "def shift_word(word, n):\n",
        "    \"\"\"Shift the letters of `word` by `n` places.\n",
        "\n",
        "    >>> shift_word('cheer', 7)\n",
        "    'jolly'\n",
        "    >>> shift_word('melon', 16)\n",
        "    'cubed'\n",
        "    \"\"\"\n",
        "    cipher = [] #create empty list\n",
        "    #iterate through each letter\n",
        "    for letter in word:\n",
        "      #convert to number, add 'n', mod 26 to wrap around z->a, then convert back to a letter and add to list\n",
        "      cipher.append(letters[(letter_map[letter]+n)%26])\n",
        "    #after list is created, join each letter to a string with no delimiter\n",
        "    return ''.join(cipher)"
      ]
    },
    {
      "cell_type": "code",
      "execution_count": null,
      "metadata": {
        "tags": [],
        "id": "c026c6d1",
        "colab": {
          "base_uri": "https://localhost:8080/",
          "height": 36
        },
        "outputId": "e4c6ae5d-2073-42aa-b389-1ae7eb1c33dd"
      },
      "outputs": [
        {
          "output_type": "execute_result",
          "data": {
            "text/plain": [
              "'jolly'"
            ],
            "application/vnd.google.colaboratory.intrinsic+json": {
              "type": "string"
            }
          },
          "metadata": {},
          "execution_count": 22
        }
      ],
      "source": [
        "shift_word('cheer', 7)"
      ]
    },
    {
      "cell_type": "code",
      "execution_count": null,
      "metadata": {
        "tags": [],
        "id": "5814999d",
        "colab": {
          "base_uri": "https://localhost:8080/",
          "height": 36
        },
        "outputId": "4c11bc1d-ef27-4f5e-ed5e-13d973ba9646"
      },
      "outputs": [
        {
          "output_type": "execute_result",
          "data": {
            "text/plain": [
              "'cubed'"
            ],
            "application/vnd.google.colaboratory.intrinsic+json": {
              "type": "string"
            }
          },
          "metadata": {},
          "execution_count": 23
        }
      ],
      "source": [
        "shift_word('melon', 16)"
      ]
    },
    {
      "cell_type": "markdown",
      "metadata": {
        "tags": [],
        "id": "39a67af9"
      },
      "source": [
        "You can use `doctest` to test your function."
      ]
    },
    {
      "cell_type": "code",
      "execution_count": null,
      "metadata": {
        "tags": [],
        "id": "9464d140"
      },
      "outputs": [],
      "source": [
        "from doctest import run_docstring_examples\n",
        "\n",
        "def run_doctests(func):\n",
        "    run_docstring_examples(func, globals(), name=func.__name__)\n",
        "\n",
        "run_doctests(shift_word)"
      ]
    },
    {
      "cell_type": "markdown",
      "source": [
        "## 11.11.3 Explanation\n",
        "This function takes a word and the number of letters to shift as inputs. First it creates an empty list for the ciphered word. Next, it iterates through each letter of the word. For each letter, it is first mapped to a number using the letter_map dictionary. Next, the shift value is added to that number. The result then undergoes the mod operator of 26 to loop back to 'a' and avoid an index error. The numerical value is used as the index for the string of letters so that the shifted letter can be appended to the cipher list. After iterating through all the letters, the cipher list is joined with no delimiter to return the shifted word as a string."
      ],
      "metadata": {
        "id": "zvmalZeL5wjr"
      }
    },
    {
      "cell_type": "markdown",
      "metadata": {
        "id": "779f13af"
      },
      "source": [
        "# 11.11.4\n",
        "\n",
        "Write a function called `most_frequent_letters` that takes a string and prints the letters in decreasing order of frequency.\n",
        "\n",
        "To get the items in decreasing order, you can use `reversed` along with `sorted` or you can pass `reverse=True` as a keyword parameter to `sorted`."
      ]
    },
    {
      "cell_type": "markdown",
      "metadata": {
        "tags": [],
        "id": "d71923e6"
      },
      "source": [
        "You can use this outline of the function to get started."
      ]
    },
    {
      "cell_type": "code",
      "execution_count": 6,
      "metadata": {
        "id": "52228828"
      },
      "outputs": [],
      "source": [
        "# Solution goes here\n",
        "def most_frequent_letters(string):\n",
        "  ''' Print the most frequent letters in 'string' in decreasing order of frequency.'''\n",
        "  #intialize dictionary\n",
        "  letter_dict = {}\n",
        "  #for each letter of the input string\n",
        "  for letter in string:\n",
        "    #check if letter is a key in dictionary\n",
        "    if letter.lower() in letter_dict:\n",
        "      #if letter is a key, increment its value by 1\n",
        "      letter_dict[letter.lower()] += 1\n",
        "    else:\n",
        "      #if letter is not already a key, create it as a key with a value of 1\n",
        "      letter_dict[letter.lower()] = 1\n",
        "  #sort the dictonary in reverse based on the second item\n",
        "  sorted_list= sorted(letter_dict.items(), key= lambda x: x[1], reverse=True)\n",
        "  #print each letter from the sorted list\n",
        "  for item in sorted_list:\n",
        "    print(item[0])\n",
        "  return None"
      ]
    },
    {
      "cell_type": "markdown",
      "metadata": {
        "tags": [],
        "id": "c6354c44"
      },
      "source": [
        "And this example to test your function."
      ]
    },
    {
      "cell_type": "code",
      "execution_count": null,
      "metadata": {
        "tags": [],
        "id": "3bf2aa0d",
        "colab": {
          "base_uri": "https://localhost:8080/"
        },
        "outputId": "287b36b3-5842-4dde-9bc2-f7b0e7e6ef6a"
      },
      "outputs": [
        {
          "output_type": "stream",
          "name": "stdout",
          "text": [
            "r\n",
            "o\n",
            "s\n",
            "u\n",
            "b\n",
            "n\n",
            "t\n",
            "a\n"
          ]
        }
      ],
      "source": [
        "most_frequent_letters('brontosaurus')"
      ]
    },
    {
      "cell_type": "markdown",
      "metadata": {
        "tags": [],
        "id": "2ca1e337"
      },
      "source": [
        "Once your function is working, you can use the following code to print the most common letters in *Dracula*, which we can download from Project Gutenberg."
      ]
    },
    {
      "cell_type": "code",
      "execution_count": 4,
      "metadata": {
        "tags": [],
        "id": "e4fbf5d9",
        "colab": {
          "base_uri": "https://localhost:8080/"
        },
        "outputId": "c8dc707e-c459-4261-ddd1-eba1d23573cf"
      },
      "outputs": [
        {
          "output_type": "stream",
          "name": "stdout",
          "text": [
            "Downloaded pg345.txt\n"
          ]
        }
      ],
      "source": [
        "download('https://www.gutenberg.org/cache/epub/345/pg345.txt');"
      ]
    },
    {
      "cell_type": "code",
      "execution_count": 8,
      "metadata": {
        "tags": [],
        "id": "817ec689",
        "colab": {
          "base_uri": "https://localhost:8080/"
        },
        "outputId": "9cf29b08-2481-4524-f760-49bcd847d757"
      },
      "outputs": [
        {
          "output_type": "stream",
          "name": "stdout",
          "text": [
            " \n",
            "e\n",
            "t\n",
            "a\n",
            "o\n",
            "n\n",
            "h\n",
            "i\n",
            "s\n",
            "r\n",
            "d\n",
            "l\n",
            "u\n",
            "w\n",
            "m\n",
            "\n",
            "\n",
            "f\n",
            "c\n",
            "g\n",
            "y\n",
            ",\n",
            "p\n",
            "b\n",
            ".\n",
            "k\n",
            "v\n",
            "-\n",
            ";\n",
            "’\n",
            "“\n",
            "”\n",
            "_\n",
            "j\n",
            "x\n",
            "!\n",
            "*\n",
            ":\n",
            "q\n",
            "?\n",
            "z\n",
            "1\n",
            "2\n",
            "‘\n",
            "3\n",
            "0\n",
            "™\n",
            "(\n",
            ")\n",
            "5\n",
            "4\n",
            "7\n",
            "9\n",
            "8\n",
            "6\n",
            "&\n",
            "è\n",
            "æ\n",
            "ö\n",
            "/\n",
            "•\n",
            "[\n",
            "]\n",
            "—\n",
            "ë\n",
            "£\n",
            "{\n",
            "}\n",
            "é\n",
            "â\n",
            "ï\n",
            "$\n",
            "﻿\n",
            "#\n",
            "á\n",
            "ô\n",
            "à\n",
            "%\n"
          ]
        }
      ],
      "source": [
        "string = open('pg345.txt').read()\n",
        "most_frequent_letters(string)"
      ]
    },
    {
      "cell_type": "markdown",
      "metadata": {
        "tags": [],
        "id": "211c09c9"
      },
      "source": [
        "According to Zim's \"Codes and Secret Writing\", the sequence of letters in decreasing order of frequency in English starts with \"ETAONRISH\".\n",
        "How does this sequence compare with the results from *Dracula*?"
      ]
    },
    {
      "cell_type": "markdown",
      "source": [
        "## 11.11.4 Explanation\n",
        "This function takes a string as input. First, it creates an empty dictionary. Then, it iterates through each letter of the input string. If the letter is already a key in the dictionary, the value for that letter is increased by one. Otherwise, the letter is added as a new key with a value of 1.\n",
        "  Once the iteration is finished, there will be a dictionary with all the letters in the word as keys with their values being the number of occurances. The function then sorts the items of the dictionary based on the second value using a lambda function that looks at only the second value of each tuple. Since the second value is the number of occurances, sorting by this results in the list being in order of frequency. To list the higher frequencies first, the reverse flag is set equal to true. Finally, the function prints the first value of each item of the sorted list, which corresponds to the letters in decreasing order of frequency of occurance."
      ],
      "metadata": {
        "id": "O8OtjFP7AAQq"
      }
    },
    {
      "cell_type": "markdown",
      "metadata": {
        "id": "4fbe939e"
      },
      "source": [
        "# 11.11.6\n",
        "\n",
        "Write a function called `word_distance` that takes two words with the same length and returns the number of places where the two words differ.\n",
        "\n",
        "Hint: Use `zip` to loop through the corresponding letters of the words."
      ]
    },
    {
      "cell_type": "markdown",
      "metadata": {
        "tags": [],
        "id": "8b48dbdc"
      },
      "source": [
        "Here's an outline of the function with doctests you can use to check your function."
      ]
    },
    {
      "cell_type": "code",
      "execution_count": null,
      "metadata": {
        "tags": [],
        "id": "3d5a75f8"
      },
      "outputs": [],
      "source": [
        "def word_distance(word1, word2):\n",
        "    \"\"\"Computes the number of places where two word differ.\n",
        "\n",
        "    >>> word_distance(\"hello\", \"hxllo\")\n",
        "    1\n",
        "    >>> word_distance(\"ample\", \"apply\")\n",
        "    2\n",
        "    >>> word_distance(\"kitten\", \"mutton\")\n",
        "    3\n",
        "    \"\"\"\n",
        "    #check word lengths\n",
        "    if len(word1) != len(word2):\n",
        "      print(\"Words must be the same length\")\n",
        "      return None\n",
        "    #initialize counter to 0\n",
        "    counter=0\n",
        "    #iterate through each pair of zipped letters\n",
        "    for pair in zip(word1, word2):\n",
        "      #if the letter from the first word is not equal to the corresponding letter of the second\n",
        "      if pair[0] != pair[1]:\n",
        "        #increase the counter by 1\n",
        "        counter +=1\n",
        "    #return the final value of counter after iterating through the entire word\n",
        "    return counter"
      ]
    },
    {
      "cell_type": "code",
      "execution_count": null,
      "metadata": {
        "tags": [],
        "id": "753a23c1"
      },
      "outputs": [],
      "source": [
        "from doctest import run_docstring_examples\n",
        "\n",
        "def run_doctests(func):\n",
        "    run_docstring_examples(func, globals(), name=func.__name__)\n",
        "\n",
        "run_doctests(word_distance)"
      ]
    },
    {
      "cell_type": "markdown",
      "source": [
        "## 11.11.6 Explanation\n",
        "This function takes two strings of the same length. If they are not the same length, none is returned. The function initialized a counter to 0, then pairs each letter of the first string to the corresponding letter of the second string using zip. For each pair, the two letters are compared and the counter is increased by one if they are not the same letter. After iterating through the whole word, the final count is returned."
      ],
      "metadata": {
        "id": "KZvVZ1wrCl3X"
      }
    },
    {
      "cell_type": "markdown",
      "metadata": {
        "id": "060c9ef6"
      },
      "source": [
        "# 12.12.2\n",
        "\n",
        "Write a function that counts the number of times each trigram (sequence of three words) appears.\n",
        "If you test your function with the text of _Dr. Jekyll and Mr. Hyde_, you should find that the most common trigram is \"said the lawyer\".\n",
        "\n",
        "Hint: Write a function called `count_trigram` that is similar to `count_bigram`. Then write a function called `process_word_trigram` that is similar to `process_word_bigram`."
      ]
    },
    {
      "cell_type": "code",
      "execution_count": null,
      "metadata": {
        "id": "f38a61ff"
      },
      "outputs": [],
      "source": [
        "# Solution goes here\n",
        "def count_trigram(trigram):\n",
        ""
      ]
    },
    {
      "cell_type": "code",
      "execution_count": null,
      "metadata": {
        "id": "d047e546"
      },
      "outputs": [],
      "source": [
        "# Solution goes here"
      ]
    },
    {
      "cell_type": "markdown",
      "metadata": {
        "tags": [],
        "id": "ca1f8a79"
      },
      "source": [
        "You can use the following loop to read the book and process the words."
      ]
    },
    {
      "cell_type": "code",
      "execution_count": null,
      "metadata": {
        "tags": [],
        "id": "6b8932ee"
      },
      "outputs": [],
      "source": [
        "trigram_counter = {}\n",
        "window = []\n",
        "\n",
        "for line in open(filename):\n",
        "    for word in split_line(line):\n",
        "        word = clean_word(word)\n",
        "        process_word_trigram(word)"
      ]
    },
    {
      "cell_type": "markdown",
      "metadata": {
        "tags": [],
        "id": "35d37fa1"
      },
      "source": [
        "Then use `print_most_common` to find the most common trigrams in the book."
      ]
    },
    {
      "cell_type": "code",
      "execution_count": null,
      "metadata": {
        "tags": [],
        "id": "44c3f0d8"
      },
      "outputs": [],
      "source": [
        "print_most_common(trigram_counter)"
      ]
    }
  ]
}