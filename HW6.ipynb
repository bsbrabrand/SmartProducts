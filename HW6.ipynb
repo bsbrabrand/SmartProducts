{
  "nbformat": 4,
  "nbformat_minor": 0,
  "metadata": {
    "colab": {
      "provenance": [],
      "authorship_tag": "ABX9TyNmGV+56Ryz7v0mVincMl1H",
      "include_colab_link": true
    },
    "kernelspec": {
      "name": "python3",
      "display_name": "Python 3"
    },
    "language_info": {
      "name": "python"
    }
  },
  "cells": [
    {
      "cell_type": "markdown",
      "metadata": {
        "id": "view-in-github",
        "colab_type": "text"
      },
      "source": [
        "<a href=\"https://colab.research.google.com/github/bsbrabrand/SmartProducts/blob/main/HW6.ipynb\" target=\"_parent\"><img src=\"https://colab.research.google.com/assets/colab-badge.svg\" alt=\"Open In Colab\"/></a>"
      ]
    },
    {
      "cell_type": "markdown",
      "source": [
        "# Bennett Brabrand"
      ],
      "metadata": {
        "id": "HKTQQhCL8Kkd"
      }
    },
    {
      "cell_type": "markdown",
      "metadata": {
        "id": "7721e47b"
      },
      "source": [
        "# 16.10.2\n",
        "\n",
        "Write an `__eq__` method for the `Line` class that returns `True` if the `Line` objects refer to `Point` objects that are equivalent, in either order."
      ]
    },
    {
      "cell_type": "markdown",
      "metadata": {
        "tags": [],
        "id": "2e488e0f"
      },
      "source": [
        "You can use the following outline to get started."
      ]
    },
    {
      "cell_type": "code",
      "execution_count": null,
      "metadata": {
        "tags": [],
        "id": "92c07380"
      },
      "outputs": [],
      "source": [
        "%%add_method_to Line\n",
        "\n",
        "def __eq__(self, other):\n",
        "    return None"
      ]
    },
    {
      "cell_type": "code",
      "execution_count": null,
      "metadata": {
        "tags": [],
        "id": "a99446c4"
      },
      "outputs": [],
      "source": [
        "%%add_method_to Line\n",
        "\n",
        "def __eq__(self, other):\n",
        "    if (self.p1 == other.p1) and (self.p2 == other.p2):\n",
        "        return True\n",
        "    if (self.p1 == other.p2) and (self.p2 == other.p1):\n",
        "        return True\n",
        "    return False"
      ]
    },
    {
      "cell_type": "markdown",
      "metadata": {
        "tags": [],
        "id": "3a44e45a"
      },
      "source": [
        "You can use these examples to test your code."
      ]
    },
    {
      "cell_type": "code",
      "execution_count": null,
      "metadata": {
        "tags": [],
        "id": "aa086dd1"
      },
      "outputs": [],
      "source": [
        "start1 = Point(0, 0)\n",
        "start2 = Point(0, 0)\n",
        "end = Point(200, 100)"
      ]
    },
    {
      "cell_type": "markdown",
      "metadata": {
        "tags": [],
        "id": "e825f049"
      },
      "source": [
        "This example should be `True` because the `Line` objects refer to `Point` objects that are equivalent, in the same order."
      ]
    },
    {
      "cell_type": "code",
      "execution_count": null,
      "metadata": {
        "tags": [],
        "id": "857cba26"
      },
      "outputs": [],
      "source": [
        "line_a = Line(start1, end)\n",
        "line_b = Line(start2, end)\n",
        "line_a == line_b    # should be True"
      ]
    },
    {
      "cell_type": "markdown",
      "metadata": {
        "tags": [],
        "id": "c3d8fb2b"
      },
      "source": [
        "This example should be `True` because the `Line` objects refer to `Point` objects that are equivalent, in reverse order."
      ]
    },
    {
      "cell_type": "code",
      "execution_count": null,
      "metadata": {
        "tags": [],
        "id": "b45def0a"
      },
      "outputs": [],
      "source": [
        "line_c = Line(end, start1)\n",
        "line_a == line_c     # should be True"
      ]
    },
    {
      "cell_type": "markdown",
      "metadata": {
        "tags": [],
        "id": "8c9c787b"
      },
      "source": [
        "Equivalence should always be transitive -- that is, if `line_a` and `line_b` are equivalent, and `line_a` and `line_c` are equivalent, then `line_b` and `line_c` should also be equivalent."
      ]
    },
    {
      "cell_type": "code",
      "execution_count": null,
      "metadata": {
        "tags": [],
        "id": "9784300c"
      },
      "outputs": [],
      "source": [
        "line_b == line_c     # should be True"
      ]
    },
    {
      "cell_type": "markdown",
      "metadata": {
        "tags": [],
        "id": "d4f385fa"
      },
      "source": [
        "This example should be `False` because the `Line` objects refer to `Point` objects that are not equivalent."
      ]
    },
    {
      "cell_type": "code",
      "execution_count": null,
      "metadata": {
        "tags": [],
        "id": "5435c8e4"
      },
      "outputs": [],
      "source": [
        "line_d = Line(start1, start2)\n",
        "line_a == line_d    # should be False"
      ]
    }
  ]
}