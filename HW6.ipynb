{
  "nbformat": 4,
  "nbformat_minor": 0,
  "metadata": {
    "colab": {
      "provenance": [],
      "toc_visible": true,
      "authorship_tag": "ABX9TyOCJMU2z0ZsA+9Ik5ocpLlX",
      "include_colab_link": true
    },
    "kernelspec": {
      "name": "python3",
      "display_name": "Python 3"
    },
    "language_info": {
      "name": "python"
    }
  },
  "cells": [
    {
      "cell_type": "markdown",
      "metadata": {
        "id": "view-in-github",
        "colab_type": "text"
      },
      "source": [
        "<a href=\"https://colab.research.google.com/github/bsbrabrand/SmartProducts/blob/main/HW6.ipynb\" target=\"_parent\"><img src=\"https://colab.research.google.com/assets/colab-badge.svg\" alt=\"Open In Colab\"/></a>"
      ]
    },
    {
      "cell_type": "markdown",
      "source": [
        "# Bennett Brabrand"
      ],
      "metadata": {
        "id": "HKTQQhCL8Kkd"
      }
    },
    {
      "cell_type": "code",
      "execution_count": 2,
      "metadata": {
        "tags": [],
        "id": "ae5a86f8",
        "colab": {
          "base_uri": "https://localhost:8080/"
        },
        "outputId": "4f45dbe5-3001-4a2b-daf9-33b5928b06a0"
      },
      "outputs": [
        {
          "output_type": "stream",
          "name": "stdout",
          "text": [
            "Downloaded thinkpython.py\n",
            "Downloaded diagram.py\n",
            "Downloaded jupyturtle.py\n"
          ]
        }
      ],
      "source": [
        "from os.path import basename, exists\n",
        "\n",
        "def download(url):\n",
        "    filename = basename(url)\n",
        "    if not exists(filename):\n",
        "        from urllib.request import urlretrieve\n",
        "\n",
        "        local, _ = urlretrieve(url, filename)\n",
        "        print(\"Downloaded \" + str(local))\n",
        "    return filename\n",
        "\n",
        "download('https://github.com/AllenDowney/ThinkPython/raw/v3/thinkpython.py');\n",
        "download('https://github.com/AllenDowney/ThinkPython/raw/v3/diagram.py');\n",
        "download('https://github.com/ramalho/jupyturtle/releases/download/2024-03/jupyturtle.py');\n",
        "\n",
        "import thinkpython"
      ]
    },
    {
      "cell_type": "code",
      "execution_count": 3,
      "metadata": {
        "id": "c9c99d2c"
      },
      "outputs": [],
      "source": [
        "from copy import copy, deepcopy\n",
        "class Point:\n",
        "    \"\"\"Represents a point in 2-D space.\"\"\"\n",
        "\n",
        "    def __init__(self, x, y):\n",
        "        self.x = x\n",
        "        self.y = y\n",
        "\n",
        "    def __str__(self):\n",
        "        return f'Point({self.x}, {self.y})'\n",
        "    def translate(self, dx, dy):\n",
        "        self.x += dx\n",
        "        self.y += dy\n",
        "    def translated(self, dx=0, dy=0):\n",
        "        point = copy(self)\n",
        "        point.translate(dx, dy)\n",
        "        return point\n",
        "    def __eq__(self, other):\n",
        "      return (self.x == other.x) and (self.y == other.y)"
      ]
    },
    {
      "cell_type": "code",
      "execution_count": 4,
      "metadata": {
        "id": "5225d870"
      },
      "outputs": [],
      "source": [
        "from jupyturtle import make_turtle, jumpto, moveto"
      ]
    },
    {
      "cell_type": "code",
      "execution_count": 5,
      "metadata": {
        "id": "6ae012a1"
      },
      "outputs": [],
      "source": [
        "class Line:\n",
        "    def __init__(self, p1, p2):\n",
        "        self.p1 = p1\n",
        "        self.p2 = p2\n",
        "\n",
        "    def __str__(self):\n",
        "        return f'Line({self.p1}, {self.p2})'\n",
        "    def draw(self):\n",
        "        jumpto(self.p1.x, self.p1.y)\n",
        "        moveto(self.p2.x, self.p2.y)"
      ]
    },
    {
      "cell_type": "code",
      "execution_count": 6,
      "metadata": {
        "id": "c2a2aa29"
      },
      "outputs": [],
      "source": [
        "class Rectangle:\n",
        "    \"\"\"Represents a rectangle.\n",
        "\n",
        "    attributes: width, height, corner.\n",
        "    \"\"\"\n",
        "    def __init__(self, width, height, corner):\n",
        "        self.width = width\n",
        "        self.height = height\n",
        "        self.corner = corner\n",
        "\n",
        "    def __str__(self):\n",
        "        return f'Rectangle({self.width}, {self.height}, {self.corner})'\n",
        "    def make_points(self):\n",
        "        p1 = self.corner\n",
        "        p2 = p1.translated(self.width, 0)\n",
        "        p3 = p2.translated(0, self.height)\n",
        "        p4 = p3.translated(-self.width, 0)\n",
        "        return p1, p2, p3, p4\n",
        "    def make_lines(self):\n",
        "        p1, p2, p3, p4 = self.make_points()\n",
        "        return Line(p1, p2), Line(p2, p3), Line(p3, p4), Line(p4, p1)\n",
        "    def draw(self):\n",
        "        lines = self.make_lines()\n",
        "        for line in lines:\n",
        "            line.draw()\n",
        "    def grow(self, dwidth, dheight):\n",
        "        self.width += dwidth\n",
        "        self.height += dheight\n",
        "    def translate(self, dx, dy):\n",
        "        self.corner.translate(dx, dy)"
      ]
    },
    {
      "cell_type": "markdown",
      "metadata": {
        "id": "7721e47b"
      },
      "source": [
        "# 16.10.2\n",
        "\n",
        "Write an `__eq__` method for the `Line` class that returns `True` if the `Line` objects refer to `Point` objects that are equivalent, in either order."
      ]
    },
    {
      "cell_type": "markdown",
      "metadata": {
        "tags": [],
        "id": "2e488e0f"
      },
      "source": [
        "You can use the following outline to get started."
      ]
    },
    {
      "cell_type": "code",
      "execution_count": 7,
      "metadata": {
        "tags": [],
        "id": "92c07380"
      },
      "outputs": [],
      "source": [
        "%%add_method_to Line\n",
        "\n",
        "def __eq__(self, other):\n",
        "    ''' check if two lines are equivalent '''\n",
        "    #check if the first points of each line match and the second points of each line match\n",
        "    if (self.p1 == other.p1) and (self.p2 == other.p2):\n",
        "        return True\n",
        "    #check if the order of the points are swapped but the lines are the same\n",
        "    elif (self.p1 == other.p2) and (self.p2 == other.p1):\n",
        "        return True\n",
        "    #if neither condition above is true, the lines are not equivalent\n",
        "    else:\n",
        "      return False"
      ]
    },
    {
      "cell_type": "markdown",
      "metadata": {
        "tags": [],
        "id": "3a44e45a"
      },
      "source": [
        "You can use these examples to test your code."
      ]
    },
    {
      "cell_type": "code",
      "execution_count": 8,
      "metadata": {
        "tags": [],
        "id": "aa086dd1"
      },
      "outputs": [],
      "source": [
        "start1 = Point(0, 0)\n",
        "start2 = Point(0, 0)\n",
        "end = Point(200, 100)"
      ]
    },
    {
      "cell_type": "markdown",
      "metadata": {
        "tags": [],
        "id": "e825f049"
      },
      "source": [
        "This example should be `True` because the `Line` objects refer to `Point` objects that are equivalent, in the same order."
      ]
    },
    {
      "cell_type": "code",
      "execution_count": 9,
      "metadata": {
        "tags": [],
        "id": "857cba26",
        "colab": {
          "base_uri": "https://localhost:8080/"
        },
        "outputId": "a39c43d3-74c5-436b-8614-0a6075e9c35c"
      },
      "outputs": [
        {
          "output_type": "execute_result",
          "data": {
            "text/plain": [
              "True"
            ]
          },
          "metadata": {},
          "execution_count": 9
        }
      ],
      "source": [
        "line_a = Line(start1, end)\n",
        "line_b = Line(start2, end)\n",
        "line_a == line_b    # should be True"
      ]
    },
    {
      "cell_type": "markdown",
      "metadata": {
        "tags": [],
        "id": "c3d8fb2b"
      },
      "source": [
        "This example should be `True` because the `Line` objects refer to `Point` objects that are equivalent, in reverse order."
      ]
    },
    {
      "cell_type": "code",
      "execution_count": 10,
      "metadata": {
        "tags": [],
        "id": "b45def0a",
        "colab": {
          "base_uri": "https://localhost:8080/"
        },
        "outputId": "a84b1164-8757-49c7-808c-839fee3d0502"
      },
      "outputs": [
        {
          "output_type": "execute_result",
          "data": {
            "text/plain": [
              "True"
            ]
          },
          "metadata": {},
          "execution_count": 10
        }
      ],
      "source": [
        "line_c = Line(end, start1)\n",
        "line_a == line_c     # should be True"
      ]
    },
    {
      "cell_type": "markdown",
      "metadata": {
        "tags": [],
        "id": "8c9c787b"
      },
      "source": [
        "Equivalence should always be transitive -- that is, if `line_a` and `line_b` are equivalent, and `line_a` and `line_c` are equivalent, then `line_b` and `line_c` should also be equivalent."
      ]
    },
    {
      "cell_type": "code",
      "execution_count": 11,
      "metadata": {
        "tags": [],
        "id": "9784300c",
        "colab": {
          "base_uri": "https://localhost:8080/"
        },
        "outputId": "73a9df8e-ebc4-463f-8c0b-4fa2c59d731a"
      },
      "outputs": [
        {
          "output_type": "execute_result",
          "data": {
            "text/plain": [
              "True"
            ]
          },
          "metadata": {},
          "execution_count": 11
        }
      ],
      "source": [
        "line_b == line_c     # should be True"
      ]
    },
    {
      "cell_type": "markdown",
      "metadata": {
        "tags": [],
        "id": "d4f385fa"
      },
      "source": [
        "This example should be `False` because the `Line` objects refer to `Point` objects that are not equivalent."
      ]
    },
    {
      "cell_type": "code",
      "execution_count": 12,
      "metadata": {
        "tags": [],
        "id": "5435c8e4",
        "colab": {
          "base_uri": "https://localhost:8080/"
        },
        "outputId": "239de8fc-b187-465a-e724-3024fb30a434"
      },
      "outputs": [
        {
          "output_type": "execute_result",
          "data": {
            "text/plain": [
              "False"
            ]
          },
          "metadata": {},
          "execution_count": 12
        }
      ],
      "source": [
        "line_d = Line(start1, start2)\n",
        "line_a == line_d    # should be False"
      ]
    },
    {
      "cell_type": "markdown",
      "source": [
        "## 16.10.2 Explanation\n",
        "\n",
        "This function is a special method for the line class. It is run when the '==' operator is used on two line objects. It takes itself and another line object as inputs. The function compares the start and endpoints of each object and returns true if they are equal. It will also return true if the two points are in different positions. If neither condition is true, the function returns false.\n",
        "\n",
        "Insights: Using a special function such as \"==\" allows code to be significantly more readable and allows objects to be used intuitively. This can be very helpful for reducing learning curves and helping code to be more efficient."
      ],
      "metadata": {
        "id": "NhrUaZIKUiEW"
      }
    },
    {
      "cell_type": "markdown",
      "metadata": {
        "id": "0e629491"
      },
      "source": [
        "# 16.10.3\n",
        "\n",
        "Write a `Line` method called `midpoint` that computes the midpoint of a line segment and returns the result as a `Point` object."
      ]
    },
    {
      "cell_type": "markdown",
      "metadata": {
        "tags": [],
        "id": "b8c52d19"
      },
      "source": [
        "You can use the following outline to get started."
      ]
    },
    {
      "cell_type": "code",
      "execution_count": 23,
      "metadata": {
        "tags": [],
        "id": "f377afbb"
      },
      "outputs": [],
      "source": [
        "%%add_method_to Line\n",
        "\n",
        "def midpoint(self):\n",
        "  ''' calculate the midpoint of a line object'''\n",
        "  #calculate x midpoint\n",
        "  x_midpoint = 0.5*(self.p1.x + self.p2.x)\n",
        "  #calculate y midpoint\n",
        "  y_midpoint = 0.5*(self.p1.y + self.p2.y)\n",
        "  #return midpoint as a point object\n",
        "  return Point(x_midpoint, y_midpoint)"
      ]
    },
    {
      "cell_type": "markdown",
      "metadata": {
        "tags": [],
        "id": "4df69a9f"
      },
      "source": [
        "You can use the following examples to test your code and draw the result."
      ]
    },
    {
      "cell_type": "code",
      "execution_count": 24,
      "metadata": {
        "tags": [],
        "id": "0d603aa3"
      },
      "outputs": [],
      "source": [
        "start = Point(0, 0)\n",
        "end1 = Point(300, 0)\n",
        "end2 = Point(0, 150)\n",
        "line1 = Line(start, end1)\n",
        "line2 = Line(start, end2)"
      ]
    },
    {
      "cell_type": "code",
      "execution_count": 25,
      "metadata": {
        "tags": [],
        "id": "647d0982",
        "colab": {
          "base_uri": "https://localhost:8080/"
        },
        "outputId": "3824a77b-870d-4be1-fb5c-0095272a7f64"
      },
      "outputs": [
        {
          "output_type": "stream",
          "name": "stdout",
          "text": [
            "Point(150.0, 0.0)\n"
          ]
        }
      ],
      "source": [
        "mid1 = line1.midpoint()\n",
        "print(mid1)"
      ]
    },
    {
      "cell_type": "code",
      "execution_count": 26,
      "metadata": {
        "tags": [],
        "id": "e351bea3",
        "colab": {
          "base_uri": "https://localhost:8080/"
        },
        "outputId": "3d8742bb-9189-4864-8ca0-28fcce7c4d8f"
      },
      "outputs": [
        {
          "output_type": "stream",
          "name": "stdout",
          "text": [
            "Point(0.0, 75.0)\n"
          ]
        }
      ],
      "source": [
        "mid2 = line2.midpoint()\n",
        "print(mid2)"
      ]
    },
    {
      "cell_type": "code",
      "execution_count": 27,
      "metadata": {
        "tags": [],
        "id": "5ad5a076"
      },
      "outputs": [],
      "source": [
        "line3 = Line(mid1, mid2)"
      ]
    },
    {
      "cell_type": "code",
      "execution_count": 28,
      "metadata": {
        "tags": [],
        "id": "8effaff0",
        "colab": {
          "base_uri": "https://localhost:8080/",
          "height": 171
        },
        "outputId": "d3bccacc-6b23-45a4-92f2-09349d981802"
      },
      "outputs": [
        {
          "output_type": "display_data",
          "data": {
            "text/plain": [
              "<IPython.core.display.HTML object>"
            ],
            "text/html": [
              "<svg width=\"300\" height=\"150\">\n",
              "    <rect width=\"100%\" height=\"100%\" fill=\"#F3F3F7\" />\n",
              "\n",
              "<line x1=\"0\" y1=\"0\" x2=\"300\" y2=\"0\"\n",
              "    stroke=\"#663399\" stroke-width=\"2\" />\n",
              "<line x1=\"0\" y1=\"0\" x2=\"0\" y2=\"150\"\n",
              "    stroke=\"#663399\" stroke-width=\"2\" />\n",
              "<line x1=\"150.0\" y1=\"0.0\" x2=\"0.0\" y2=\"75.0\"\n",
              "    stroke=\"#663399\" stroke-width=\"2\" />\n",
              "\n",
              "<g transform=\"rotate(-90.0,0.0,75.0) translate(0.0, 75.0)\">\n",
              "    <circle stroke=\"#63A375\" stroke-width=\"2\" fill=\"transparent\" r=\"5.5\" cx=\"0\" cy=\"0\"/>\n",
              "    <polygon points=\"0,12 2,9 -2,9\" style=\"fill:#63A375;stroke:#63A375;stroke-width:2\"/>\n",
              "</g>\n",
              "\n",
              "</svg>"
            ]
          },
          "metadata": {}
        }
      ],
      "source": [
        "make_turtle()\n",
        "\n",
        "for shape in [line1, line2, line3]:\n",
        "    shape.draw()"
      ]
    },
    {
      "cell_type": "markdown",
      "source": [
        "## 16.10.3 Explanation\n",
        "This method calculates the midpoint of a line by adding the x value of the start point and endpoint together and then finding the middle by multiplying that sum by a factor of 0.5. The same process is then done with the y values. The method then returns these two values as a point object using the Point class's initialization method.\n",
        "\n",
        "Insight: This method uses very simple arithmetic but it provides a meaningful function that can be useful for many potential applications. By making a method for this, midpoints can easily be calculated in a readable way. A similar function could be used to find the average of a set of data or draw shapes that are centered within other shapes."
      ],
      "metadata": {
        "id": "DnMjEaHXwaSM"
      }
    },
    {
      "cell_type": "markdown",
      "metadata": {
        "id": "00cbc4d9"
      },
      "source": [
        "# 16.10.5\n",
        "\n",
        "Write a `Rectangle` method called `make_cross` that:\n",
        "\n",
        "1. Uses `make_lines` to get a list of `Line` objects that represent the four sides of the rectangle.\n",
        "\n",
        "2. Computes the midpoints of the four lines.\n",
        "\n",
        "3. Makes and returns a list of two `Line` objects that represent lines connecting opposite midpoints, forming a cross through the middle of the rectangle."
      ]
    },
    {
      "cell_type": "markdown",
      "metadata": {
        "tags": [],
        "id": "29e994c6"
      },
      "source": [
        "You can use this outline to get started."
      ]
    },
    {
      "cell_type": "code",
      "execution_count": 33,
      "metadata": {
        "tags": [],
        "id": "30cc0726"
      },
      "outputs": [],
      "source": [
        "%%add_method_to Rectangle\n",
        "\n",
        "def make_cross(self):\n",
        "  '''create a cross inside the middle of a rectangle'''\n",
        "  #initialize list of midpoints\n",
        "  midpoints_list = []\n",
        "  #get 4 line objects from the rectangle object and iterate through each one\n",
        "  for line in self.make_lines():\n",
        "    #for each line, add the midpoint to the list of midpoints\n",
        "    midpoints_list.append(line.midpoint())\n",
        "  #return the two lines formed from opposing midpoints\n",
        "  return [Line(midpoints_list[0], midpoints_list[2]), Line(midpoints_list[1], midpoints_list[3])]"
      ]
    },
    {
      "cell_type": "markdown",
      "metadata": {
        "tags": [],
        "id": "970fcbca"
      },
      "source": [
        "You can use the following example to test your code."
      ]
    },
    {
      "cell_type": "code",
      "execution_count": 34,
      "metadata": {
        "tags": [],
        "id": "2afd718c"
      },
      "outputs": [],
      "source": [
        "corner = Point(30, 20)\n",
        "rectangle = Rectangle(100, 80, corner)"
      ]
    },
    {
      "cell_type": "code",
      "execution_count": 35,
      "metadata": {
        "tags": [],
        "id": "b7bdb467"
      },
      "outputs": [],
      "source": [
        "lines = rectangle.make_cross()"
      ]
    },
    {
      "cell_type": "code",
      "execution_count": 36,
      "metadata": {
        "tags": [],
        "id": "9d09b2c3",
        "colab": {
          "base_uri": "https://localhost:8080/",
          "height": 171
        },
        "outputId": "d76a9bec-f357-4f68-e023-4154e762ead9"
      },
      "outputs": [
        {
          "output_type": "display_data",
          "data": {
            "text/plain": [
              "<IPython.core.display.HTML object>"
            ],
            "text/html": [
              "<svg width=\"300\" height=\"150\">\n",
              "    <rect width=\"100%\" height=\"100%\" fill=\"#F3F3F7\" />\n",
              "\n",
              "<line x1=\"30\" y1=\"20\" x2=\"130\" y2=\"20\"\n",
              "    stroke=\"#663399\" stroke-width=\"2\" />\n",
              "<line x1=\"130\" y1=\"20\" x2=\"130\" y2=\"100\"\n",
              "    stroke=\"#663399\" stroke-width=\"2\" />\n",
              "<line x1=\"130\" y1=\"100\" x2=\"30\" y2=\"100\"\n",
              "    stroke=\"#663399\" stroke-width=\"2\" />\n",
              "<line x1=\"30\" y1=\"100\" x2=\"30\" y2=\"20\"\n",
              "    stroke=\"#663399\" stroke-width=\"2\" />\n",
              "<line x1=\"80.0\" y1=\"20.0\" x2=\"80.0\" y2=\"100.0\"\n",
              "    stroke=\"#663399\" stroke-width=\"2\" />\n",
              "<line x1=\"130.0\" y1=\"60.0\" x2=\"30.0\" y2=\"60.0\"\n",
              "    stroke=\"#663399\" stroke-width=\"2\" />\n",
              "\n",
              "<g transform=\"rotate(-90.0,30.0,60.0) translate(30.0, 60.0)\">\n",
              "    <circle stroke=\"#63A375\" stroke-width=\"2\" fill=\"transparent\" r=\"5.5\" cx=\"0\" cy=\"0\"/>\n",
              "    <polygon points=\"0,12 2,9 -2,9\" style=\"fill:#63A375;stroke:#63A375;stroke-width:2\"/>\n",
              "</g>\n",
              "\n",
              "</svg>"
            ]
          },
          "metadata": {}
        }
      ],
      "source": [
        "make_turtle()\n",
        "\n",
        "rectangle.draw()\n",
        "for line in lines:\n",
        "    line.draw()"
      ]
    },
    {
      "cell_type": "markdown",
      "source": [
        "## 16.10.5 Explanation\n",
        "\n",
        "This method works on a rectangle object to create a cross from the 4 midpoints. First, an empty list is created. Then, the make_lines method is used to generate 4 line objects that represent each side of the rectangle. Next, a for loop iterates through these lines, calculating the midpoint of each and then adding it to the list. Finally, each set of opposing midpoints are made into line objects and returned as a list of two lines.\n",
        "\n",
        "Insight: This function makes use of the previously defined midpoint method in a useful way. The function takes a rectangle object, uses a rectangle method to generate line objects, then uses a line method to generate point objects. Finally, the function pairs these point objects to return a list of line objects. This utilizes the power of multiple classes and their methods to create a shape uses relatively simple code. Each method is fairly simple and compact, and they are strung together to easily make the cross. This shows the value of classes and objects as they can aid in programming simplicity when attempting to do more complicated problems."
      ],
      "metadata": {
        "id": "Ye1R8CyEzuyO"
      }
    },
    {
      "cell_type": "markdown",
      "metadata": {
        "id": "0f707fe3"
      },
      "source": [
        "# 16.10.6\n",
        "\n",
        "Write a definition for a class named `Circle` with attributes `center` and `radius`, where `center` is a Point object and `radius` is a number.\n",
        "Include special methods `__init__` and a `__str__`, and a method called `draw` that uses `jupyturtle` functions to draw the circle."
      ]
    },
    {
      "cell_type": "markdown",
      "metadata": {
        "tags": [],
        "id": "cb1b24a3"
      },
      "source": [
        "You can use the following function, which is a version of the `circle` function we wrote in Chapter 4."
      ]
    },
    {
      "cell_type": "code",
      "execution_count": 73,
      "metadata": {
        "tags": [],
        "id": "b3d2328f"
      },
      "outputs": [],
      "source": [
        "from jupyturtle import make_turtle, forward, left, right, penup, pendown\n",
        "import math\n",
        "\n",
        "def draw_circle(radius):\n",
        "    circumference = 2 * math.pi * radius\n",
        "    n = 30\n",
        "    length = circumference / n\n",
        "    angle = 360 / n\n",
        "    left(angle / 2)\n",
        "    for i in range(n):\n",
        "        forward(length)\n",
        "        left(angle)"
      ]
    },
    {
      "cell_type": "code",
      "execution_count": 87,
      "metadata": {
        "id": "189c30d4"
      },
      "outputs": [],
      "source": [
        "# Solution goes here\n",
        "class Circle:\n",
        "  '''This class represents a circle'''\n",
        "  def __init__(self, center, radius):\n",
        "    '''initialize the circle object'''\n",
        "    self.center = center\n",
        "    self.radius = radius\n",
        "  def __str__(self):\n",
        "    '''represent the circle object as a string'''\n",
        "    return f'Circle(center:{self.center}, radius:{self.radius})'\n",
        "  def draw(self):\n",
        "    '''draw the given circle object'''\n",
        "    #move to the a point on the circumference of the circle, below the center\n",
        "    jumpto(self.center.x, self.center.y+self.radius)\n",
        "    draw_circle(self.radius)\n",
        ""
      ]
    },
    {
      "cell_type": "markdown",
      "metadata": {
        "tags": [],
        "id": "b4325143"
      },
      "source": [
        "You can use the following example to test your code.\n",
        "We'll start with a square `Rectangle` with width and height `100`."
      ]
    },
    {
      "cell_type": "code",
      "execution_count": 88,
      "metadata": {
        "tags": [],
        "id": "49074ed5"
      },
      "outputs": [],
      "source": [
        "corner = Point(20, 20)\n",
        "rectangle = Rectangle(100, 100, corner)"
      ]
    },
    {
      "cell_type": "markdown",
      "metadata": {
        "tags": [],
        "id": "2cdecfa9"
      },
      "source": [
        "The following code should create a `Circle` that fits inside the square."
      ]
    },
    {
      "cell_type": "code",
      "execution_count": 89,
      "metadata": {
        "tags": [],
        "id": "d65a9163",
        "colab": {
          "base_uri": "https://localhost:8080/"
        },
        "outputId": "ca30f820-e9b4-4cd2-d3c1-90e02eae2857"
      },
      "outputs": [
        {
          "output_type": "stream",
          "name": "stdout",
          "text": [
            "Circle(center:Point(70, 70), radius:50.0)\n"
          ]
        }
      ],
      "source": [
        "#Didn't do 16.10.4 so hardcoded this value\n",
        "center = Point(70,70)#rectangle.midpoint()\n",
        "radius = rectangle.height / 2\n",
        "\n",
        "circle = Circle(center, radius)\n",
        "print(circle)"
      ]
    },
    {
      "cell_type": "markdown",
      "metadata": {
        "tags": [],
        "id": "37e94d98"
      },
      "source": [
        "If everything worked correctly, the following code should draw the circle inside the square (touching on all four sides)."
      ]
    },
    {
      "cell_type": "code",
      "execution_count": 90,
      "metadata": {
        "tags": [],
        "id": "e3b23b4d",
        "colab": {
          "base_uri": "https://localhost:8080/",
          "height": 171
        },
        "outputId": "fc2eb6e2-e98e-42c6-b4c7-9fd899110589"
      },
      "outputs": [
        {
          "output_type": "display_data",
          "data": {
            "text/plain": [
              "<IPython.core.display.HTML object>"
            ],
            "text/html": [
              "<svg width=\"300\" height=\"150\">\n",
              "    <rect width=\"100%\" height=\"100%\" fill=\"#F3F3F7\" />\n",
              "\n",
              "<line x1=\"20\" y1=\"20\" x2=\"120\" y2=\"20\"\n",
              "    stroke=\"#663399\" stroke-width=\"2\" />\n",
              "<line x1=\"120\" y1=\"20\" x2=\"120\" y2=\"120\"\n",
              "    stroke=\"#663399\" stroke-width=\"2\" />\n",
              "<line x1=\"120\" y1=\"120\" x2=\"20\" y2=\"120\"\n",
              "    stroke=\"#663399\" stroke-width=\"2\" />\n",
              "<line x1=\"20\" y1=\"120\" x2=\"20\" y2=\"20\"\n",
              "    stroke=\"#663399\" stroke-width=\"2\" />\n",
              "<line x1=\"70\" y1=\"120.0\" x2=\"80.4\" y2=\"118.9\"\n",
              "    stroke=\"#663399\" stroke-width=\"2\" />\n",
              "<line x1=\"80.4\" y1=\"118.9\" x2=\"90.4\" y2=\"115.7\"\n",
              "    stroke=\"#663399\" stroke-width=\"2\" />\n",
              "<line x1=\"90.4\" y1=\"115.7\" x2=\"99.4\" y2=\"110.4\"\n",
              "    stroke=\"#663399\" stroke-width=\"2\" />\n",
              "<line x1=\"99.4\" y1=\"110.4\" x2=\"107.2\" y2=\"103.4\"\n",
              "    stroke=\"#663399\" stroke-width=\"2\" />\n",
              "<line x1=\"107.2\" y1=\"103.4\" x2=\"113.4\" y2=\"95.0\"\n",
              "    stroke=\"#663399\" stroke-width=\"2\" />\n",
              "<line x1=\"113.4\" y1=\"95.0\" x2=\"117.6\" y2=\"85.4\"\n",
              "    stroke=\"#663399\" stroke-width=\"2\" />\n",
              "<line x1=\"117.6\" y1=\"85.4\" x2=\"119.8\" y2=\"75.1\"\n",
              "    stroke=\"#663399\" stroke-width=\"2\" />\n",
              "<line x1=\"119.8\" y1=\"75.1\" x2=\"119.8\" y2=\"64.7\"\n",
              "    stroke=\"#663399\" stroke-width=\"2\" />\n",
              "<line x1=\"119.8\" y1=\"64.7\" x2=\"117.6\" y2=\"54.4\"\n",
              "    stroke=\"#663399\" stroke-width=\"2\" />\n",
              "<line x1=\"117.6\" y1=\"54.4\" x2=\"113.4\" y2=\"44.9\"\n",
              "    stroke=\"#663399\" stroke-width=\"2\" />\n",
              "<line x1=\"113.4\" y1=\"44.9\" x2=\"107.2\" y2=\"36.4\"\n",
              "    stroke=\"#663399\" stroke-width=\"2\" />\n",
              "<line x1=\"107.2\" y1=\"36.4\" x2=\"99.4\" y2=\"29.4\"\n",
              "    stroke=\"#663399\" stroke-width=\"2\" />\n",
              "<line x1=\"99.4\" y1=\"29.4\" x2=\"90.4\" y2=\"24.1\"\n",
              "    stroke=\"#663399\" stroke-width=\"2\" />\n",
              "<line x1=\"90.4\" y1=\"24.1\" x2=\"80.4\" y2=\"20.9\"\n",
              "    stroke=\"#663399\" stroke-width=\"2\" />\n",
              "<line x1=\"80.4\" y1=\"20.9\" x2=\"70.0\" y2=\"19.8\"\n",
              "    stroke=\"#663399\" stroke-width=\"2\" />\n",
              "<line x1=\"70.0\" y1=\"19.8\" x2=\"59.6\" y2=\"20.9\"\n",
              "    stroke=\"#663399\" stroke-width=\"2\" />\n",
              "<line x1=\"59.6\" y1=\"20.9\" x2=\"49.6\" y2=\"24.1\"\n",
              "    stroke=\"#663399\" stroke-width=\"2\" />\n",
              "<line x1=\"49.6\" y1=\"24.1\" x2=\"40.6\" y2=\"29.4\"\n",
              "    stroke=\"#663399\" stroke-width=\"2\" />\n",
              "<line x1=\"40.6\" y1=\"29.4\" x2=\"32.8\" y2=\"36.4\"\n",
              "    stroke=\"#663399\" stroke-width=\"2\" />\n",
              "<line x1=\"32.8\" y1=\"36.4\" x2=\"26.6\" y2=\"44.9\"\n",
              "    stroke=\"#663399\" stroke-width=\"2\" />\n",
              "<line x1=\"26.6\" y1=\"44.9\" x2=\"22.4\" y2=\"54.4\"\n",
              "    stroke=\"#663399\" stroke-width=\"2\" />\n",
              "<line x1=\"22.4\" y1=\"54.4\" x2=\"20.2\" y2=\"64.7\"\n",
              "    stroke=\"#663399\" stroke-width=\"2\" />\n",
              "<line x1=\"20.2\" y1=\"64.7\" x2=\"20.2\" y2=\"75.1\"\n",
              "    stroke=\"#663399\" stroke-width=\"2\" />\n",
              "<line x1=\"20.2\" y1=\"75.1\" x2=\"22.4\" y2=\"85.4\"\n",
              "    stroke=\"#663399\" stroke-width=\"2\" />\n",
              "<line x1=\"22.4\" y1=\"85.4\" x2=\"26.6\" y2=\"95.0\"\n",
              "    stroke=\"#663399\" stroke-width=\"2\" />\n",
              "<line x1=\"26.6\" y1=\"95.0\" x2=\"32.8\" y2=\"103.4\"\n",
              "    stroke=\"#663399\" stroke-width=\"2\" />\n",
              "<line x1=\"32.8\" y1=\"103.4\" x2=\"40.6\" y2=\"110.4\"\n",
              "    stroke=\"#663399\" stroke-width=\"2\" />\n",
              "<line x1=\"40.6\" y1=\"110.4\" x2=\"49.6\" y2=\"115.7\"\n",
              "    stroke=\"#663399\" stroke-width=\"2\" />\n",
              "<line x1=\"49.6\" y1=\"115.7\" x2=\"59.6\" y2=\"118.9\"\n",
              "    stroke=\"#663399\" stroke-width=\"2\" />\n",
              "<line x1=\"59.6\" y1=\"118.9\" x2=\"70.0\" y2=\"120.0\"\n",
              "    stroke=\"#663399\" stroke-width=\"2\" />\n",
              "\n",
              "<g transform=\"rotate(264.0,70.0,120.0) translate(70.0, 120.0)\">\n",
              "    <circle stroke=\"#63A375\" stroke-width=\"2\" fill=\"transparent\" r=\"5.5\" cx=\"0\" cy=\"0\"/>\n",
              "    <polygon points=\"0,12 2,9 -2,9\" style=\"fill:#63A375;stroke:#63A375;stroke-width:2\"/>\n",
              "</g>\n",
              "\n",
              "</svg>"
            ]
          },
          "metadata": {}
        }
      ],
      "source": [
        "make_turtle(delay=0.01)\n",
        "\n",
        "rectangle.draw()\n",
        "circle.draw()"
      ]
    },
    {
      "cell_type": "markdown",
      "source": [
        "## 16.10.6 Explanation\n",
        "The first method of class circle is its __init__ method which assigns the given paramaters as its center and radius. The second method is __str__ which uses a f string to print out a label and the center and radius values of the circle. The thrid method, draw, draws the circle using jupyturtle. First, the turtle jumps to a set point of the circle without drawing. This point is the center of the circle offset on the y-axis by the circle's radius. This results in the turtle starting at the bottom center of the circle. This assumes the turtle is facing its default direction, along the x-axis. The circle is then drawn using the provided draw_circle function.\n",
        "\n",
        "Insight: This problem involves creating an entire class for a new type of object. By providing the object with an __init__, __str__, and draw method, a circle object can easily be created and then represented in two different forms: as a string and as a drawing. This process is common for any type of object as it allows for information to be easily visualized to ensure the object is created as intended, which can be helpful for debugging."
      ],
      "metadata": {
        "id": "Na8wEC6L-Kal"
      }
    },
    {
      "cell_type": "markdown",
      "source": [
        "**Given code**"
      ],
      "metadata": {
        "id": "_2RryPQKWwX7"
      }
    },
    {
      "cell_type": "code",
      "execution_count": 91,
      "metadata": {
        "id": "ef26adf0"
      },
      "outputs": [],
      "source": [
        "class Card:\n",
        "    \"\"\"Represents a standard playing card.\"\"\"\n",
        "\n",
        "    suit_names = ['Clubs', 'Diamonds', 'Hearts', 'Spades']\n",
        "    rank_names = [None, 'Ace', '2', '3', '4', '5', '6', '7',\n",
        "                  '8', '9', '10', 'Jack', 'Queen', 'King', 'Ace']\n",
        "    def __init__(self, suit, rank):\n",
        "        self.suit = suit\n",
        "        self.rank = rank\n",
        "    def __str__(self):\n",
        "        rank_name = Card.rank_names[self.rank]\n",
        "        suit_name = Card.suit_names[self.suit]\n",
        "        return f'{rank_name} of {suit_name}'\n",
        "    def __eq__(self, other):\n",
        "        return self.suit == other.suit and self.rank == other.rank\n",
        "    def to_tuple(self):\n",
        "        return (self.suit, self.rank)\n",
        "    def __lt__(self, other):\n",
        "        return self.to_tuple() < other.to_tuple()\n",
        "    def __le__(self, other):\n",
        "        return self.to_tuple() <= other.to_tuple()\n",
        ""
      ]
    },
    {
      "cell_type": "code",
      "execution_count": 92,
      "metadata": {
        "id": "b55140e3"
      },
      "outputs": [],
      "source": [
        "import random\n",
        "class Deck:\n",
        "\n",
        "    def __init__(self, cards):\n",
        "        self.cards = cards\n",
        "    def make_cards():\n",
        "        cards = []\n",
        "        for suit in range(4):\n",
        "            for rank in range(2, 15):\n",
        "                card = Card(suit, rank)\n",
        "                cards.append(card)\n",
        "        return cards\n",
        "    def __str__(self):\n",
        "        res = []\n",
        "        for card in self.cards:\n",
        "            res.append(str(card))\n",
        "        return '\\n'.join(res)\n",
        "    def take_card(self):\n",
        "        return self.cards.pop()\n",
        "    def put_card(self, card):\n",
        "        self.cards.append(card)\n",
        "    def shuffle(self):\n",
        "        random.shuffle(self.cards)\n",
        "    def sort(self):\n",
        "        self.cards.sort()"
      ]
    },
    {
      "cell_type": "markdown",
      "metadata": {
        "id": "1af81269"
      },
      "source": [
        "# 17.12.2\n",
        "In contract bridge, a \"trick\" is a round of play in which each of four players plays one card.\n",
        "To represent those cards, we'll define a class that inherits from `Deck`."
      ]
    },
    {
      "cell_type": "code",
      "execution_count": 93,
      "metadata": {
        "id": "47d9ce31"
      },
      "outputs": [],
      "source": [
        "class Trick(Deck):\n",
        "    \"\"\"Represents a trick in contract bridge.\"\"\""
      ]
    },
    {
      "cell_type": "markdown",
      "metadata": {
        "id": "9916d562"
      },
      "source": [
        "As an example, consider this trick, where the first player leads with the 3 of Diamonds, which means that Diamonds are the \"led suit\".\n",
        "The second and third players \"follow suit\", which means they play a card with the led suit.\n",
        "The fourth player plays a card of a different suit, which means they cannot win the trick.\n",
        "So the winner of this trick is the third player, because they played the highest card in the led suit."
      ]
    },
    {
      "cell_type": "code",
      "execution_count": 94,
      "metadata": {
        "id": "7bb54059",
        "colab": {
          "base_uri": "https://localhost:8080/"
        },
        "outputId": "6e30f870-96a6-42ff-c225-64f5e3ccfab6"
      },
      "outputs": [
        {
          "output_type": "stream",
          "name": "stdout",
          "text": [
            "3 of Diamonds\n",
            "10 of Diamonds\n",
            "Queen of Diamonds\n",
            "King of Hearts\n"
          ]
        }
      ],
      "source": [
        "cards = [Card(1, 3),\n",
        "         Card(1, 10),\n",
        "         Card(1, 12),\n",
        "         Card(2, 13)]\n",
        "trick = Trick(cards)\n",
        "print(trick)"
      ]
    },
    {
      "cell_type": "markdown",
      "metadata": {
        "id": "c94a1337"
      },
      "source": [
        "Write a `Trick` method called `find_winner` that loops through the cards in the `Trick` and returns the index of the card that wins.\n",
        "In the previous example, the index of the winning card is `2`."
      ]
    },
    {
      "cell_type": "markdown",
      "metadata": {
        "tags": [],
        "id": "60c43389"
      },
      "source": [
        "You can use the following outline to get started."
      ]
    },
    {
      "cell_type": "code",
      "execution_count": 95,
      "metadata": {
        "tags": [],
        "id": "72a410d7"
      },
      "outputs": [],
      "source": [
        "%%add_method_to Trick\n",
        "\n",
        "def find_winner(self):\n",
        "  leadcard=0\n",
        "  for card in self.cards:\n",
        "    if card.suit == cards[leadcard].suit:\n",
        "      if card.rank > cards[leadcard].rank:\n",
        "        leadcard = card\n",
        "    return leadcard"
      ]
    },
    {
      "cell_type": "code",
      "execution_count": null,
      "metadata": {
        "tags": [],
        "id": "b09cceb1"
      },
      "outputs": [],
      "source": [
        "# Solution goes here"
      ]
    },
    {
      "cell_type": "markdown",
      "metadata": {
        "tags": [],
        "id": "d7e3b94c"
      },
      "source": [
        "If you test your method with the previous example, the index of the winning card should be `2`."
      ]
    },
    {
      "cell_type": "code",
      "execution_count": 96,
      "metadata": {
        "tags": [],
        "id": "e185c2f7",
        "colab": {
          "base_uri": "https://localhost:8080/"
        },
        "outputId": "084f1b05-435e-4200-9fea-f81668c45ba2"
      },
      "outputs": [
        {
          "output_type": "execute_result",
          "data": {
            "text/plain": [
              "<__main__.Card at 0x7b460de65790>"
            ]
          },
          "metadata": {},
          "execution_count": 96
        }
      ],
      "source": [
        "trick.find_winner()"
      ]
    }
  ]
}