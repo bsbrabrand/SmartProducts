{
  "nbformat": 4,
  "nbformat_minor": 0,
  "metadata": {
    "colab": {
      "provenance": [],
      "toc_visible": true,
      "authorship_tag": "ABX9TyMuBiwhOED96IAo/VqShLoj",
      "include_colab_link": true
    },
    "kernelspec": {
      "name": "python3",
      "display_name": "Python 3"
    },
    "language_info": {
      "name": "python"
    }
  },
  "cells": [
    {
      "cell_type": "markdown",
      "metadata": {
        "id": "view-in-github",
        "colab_type": "text"
      },
      "source": [
        "<a href=\"https://colab.research.google.com/github/bsbrabrand/SmartProducts/blob/main/HW1.ipynb\" target=\"_parent\"><img src=\"https://colab.research.google.com/assets/colab-badge.svg\" alt=\"Open In Colab\"/></a>"
      ]
    },
    {
      "cell_type": "markdown",
      "source": [
        "# **1.9.3. Exercise**\n",
        "When you learn about a new feature, you should try it out and make mistakes on purpose. That way, you learn the error messages, and when you see them again, you will know what they mean. It is better to make mistakes now and deliberately than later and accidentally.\n",
        "\n",
        "You can use a minus sign to make a negative number like -2. What happens if you put a plus sign before a number? What about 2++2?\n",
        "\n",
        "What happens if you have two values with no operator between them, like 4 2?\n",
        "\n",
        "If you call a function like round(42.5), what happens if you leave out one or both parentheses?"
      ],
      "metadata": {
        "id": "d_FNCOVRtFLZ"
      }
    },
    {
      "cell_type": "code",
      "source": [
        "+2"
      ],
      "metadata": {
        "colab": {
          "base_uri": "https://localhost:8080/"
        },
        "id": "3XGlF3cdtJPi",
        "outputId": "f9f9fa75-b4dd-4e08-d7cc-3c85670a73a3"
      },
      "execution_count": null,
      "outputs": [
        {
          "output_type": "execute_result",
          "data": {
            "text/plain": [
              "2"
            ]
          },
          "metadata": {},
          "execution_count": 3
        }
      ]
    },
    {
      "cell_type": "code",
      "source": [
        "2++2"
      ],
      "metadata": {
        "colab": {
          "base_uri": "https://localhost:8080/"
        },
        "id": "d4ErMJcPtMBd",
        "outputId": "a8dc82ef-762f-4a79-e1d0-0585b70d89da"
      },
      "execution_count": null,
      "outputs": [
        {
          "output_type": "execute_result",
          "data": {
            "text/plain": [
              "4"
            ]
          },
          "metadata": {},
          "execution_count": 2
        }
      ]
    },
    {
      "cell_type": "markdown",
      "source": [
        "Using a \"+\" before a number returns the postive value of that number. For example, \"+2\" returns 2.\n",
        "Executing \"2++2\" therefore results in 4 as the second plus sign is redundant."
      ],
      "metadata": {
        "id": "LxbLk6PbtUa9"
      }
    },
    {
      "cell_type": "code",
      "source": [
        "4 2"
      ],
      "metadata": {
        "colab": {
          "base_uri": "https://localhost:8080/",
          "height": 110
        },
        "id": "b6z_o_4vtp3D",
        "outputId": "51be4992-ff58-40cb-8b0c-63b0f7a43b46"
      },
      "execution_count": null,
      "outputs": [
        {
          "output_type": "error",
          "ename": "SyntaxError",
          "evalue": "invalid syntax (<ipython-input-4-7b559316adbe>, line 1)",
          "traceback": [
            "\u001b[0;36m  File \u001b[0;32m\"<ipython-input-4-7b559316adbe>\"\u001b[0;36m, line \u001b[0;32m1\u001b[0m\n\u001b[0;31m    4 2\u001b[0m\n\u001b[0m      ^\u001b[0m\n\u001b[0;31mSyntaxError\u001b[0m\u001b[0;31m:\u001b[0m invalid syntax\n"
          ]
        }
      ]
    },
    {
      "cell_type": "markdown",
      "source": [
        "With no operator in between numbers, a syntax error is returned. The 2 is just floating in this case with nothing being applied to it."
      ],
      "metadata": {
        "id": "vGhYpoAit6wo"
      }
    },
    {
      "cell_type": "code",
      "source": [
        "round(42.5"
      ],
      "metadata": {
        "colab": {
          "base_uri": "https://localhost:8080/",
          "height": 110
        },
        "id": "kzeyb0W_uEj5",
        "outputId": "961a78ef-5b22-4131-c717-640ff71ebfb3"
      },
      "execution_count": null,
      "outputs": [
        {
          "output_type": "error",
          "ename": "SyntaxError",
          "evalue": "incomplete input (<ipython-input-5-874acea29d22>, line 1)",
          "traceback": [
            "\u001b[0;36m  File \u001b[0;32m\"<ipython-input-5-874acea29d22>\"\u001b[0;36m, line \u001b[0;32m1\u001b[0m\n\u001b[0;31m    round(42.5\u001b[0m\n\u001b[0m              ^\u001b[0m\n\u001b[0;31mSyntaxError\u001b[0m\u001b[0;31m:\u001b[0m incomplete input\n"
          ]
        }
      ]
    },
    {
      "cell_type": "markdown",
      "source": [
        "Leaving off the parenthesis for a function returns a syntax error as well. A function needs both sets of parenthesis to be valid."
      ],
      "metadata": {
        "id": "cPCbBFCZuIA8"
      }
    },
    {
      "cell_type": "markdown",
      "source": [
        "# 1.9.4 Exercise"
      ],
      "metadata": {
        "id": "ILut0z80vROP"
      }
    },
    {
      "cell_type": "markdown",
      "source": [
        "Recall that every expression has a value, every value has a type, and we can use the type function to find the type of any value.\n",
        "\n",
        "What is the type of the value of the following expressions? Make your best guess for each one, and then use type to find out.\n",
        "\n",
        "765\n",
        "\n",
        "2.718\n",
        "\n",
        "'2 pi'\n",
        "\n",
        "abs(-7)\n",
        "\n",
        "abs(-7.0)\n",
        "\n",
        "abs\n",
        "\n",
        "int\n",
        "\n",
        "type"
      ],
      "metadata": {
        "id": "BOms0TBvvawJ"
      }
    },
    {
      "cell_type": "markdown",
      "source": [
        "Guesses:  \n",
        "765 int  \n",
        "2.718 float  \n",
        "'2 pi' string  \n",
        "abs(-7) int  \n",
        "abs(-7.0) float  \n",
        "abs float  \n",
        "int int  \n",
        "type string"
      ],
      "metadata": {
        "id": "i8B1xaJGvhvv"
      }
    },
    {
      "cell_type": "code",
      "source": [
        "print(type(765))\n",
        "print(type(2.718))\n",
        "print(type('2 pi'))\n",
        "print(type(abs(-7)))\n",
        "print(type(abs(-7.0)))\n",
        "print(type(abs))\n",
        "print(type(int))\n",
        "print(type(type))"
      ],
      "metadata": {
        "colab": {
          "base_uri": "https://localhost:8080/"
        },
        "id": "C5ng06DKwAlD",
        "outputId": "d36e91cf-c6d1-43b2-f2de-676ca0516185"
      },
      "execution_count": null,
      "outputs": [
        {
          "output_type": "stream",
          "name": "stdout",
          "text": [
            "<class 'int'>\n",
            "<class 'float'>\n",
            "<class 'str'>\n",
            "<class 'int'>\n",
            "<class 'float'>\n",
            "<class 'builtin_function_or_method'>\n",
            "<class 'type'>\n",
            "<class 'type'>\n"
          ]
        }
      ]
    },
    {
      "cell_type": "markdown",
      "source": [
        "The first 5 examples were the same type that I expected.  \n",
        "The type of abs is actually a builtin_function_or_method which I didn't realize was an option. It makes sense that this is the case as abs is a builtin function that returns the positive value of a number.\n",
        "  The last two are both type 'type' as they are found in the type class."
      ],
      "metadata": {
        "id": "NlgPujyTwzs0"
      }
    },
    {
      "cell_type": "markdown",
      "source": [],
      "metadata": {
        "id": "oGEFHGZGxYHN"
      }
    },
    {
      "cell_type": "markdown",
      "source": [
        "# 1.9.5 Exercise"
      ],
      "metadata": {
        "id": "xM4sHYD-xY8D"
      }
    },
    {
      "cell_type": "markdown",
      "source": [
        "The following questions give you a chance to practice writing arithmetic expressions.\n",
        "\n",
        "How many seconds are there in 42 minutes 42 seconds?\n",
        "\n",
        "How many miles are there in 10 kilometers? Hint: there are 1.61 kilometers in a mile.\n",
        "\n",
        "If you run a 10 kilometer race in 42 minutes 42 seconds, what is your average pace in seconds per mile?\n",
        "\n",
        "What is your average pace in minutes and seconds per mile?\n",
        "\n",
        "What is your average speed in miles per hour?\n",
        "\n",
        "If you already know about variables, you can use them for this exercise. If you don’t, you can do the exercise without them – and then we’ll see them in the next chapter."
      ],
      "metadata": {
        "id": "Zsb4j7S0xcng"
      }
    },
    {
      "cell_type": "code",
      "source": [
        "#Seconds in 42 minutes 42 seconds\n",
        "42*60+42"
      ],
      "metadata": {
        "id": "_4Hm9LI8xuk7"
      },
      "execution_count": null,
      "outputs": []
    },
    {
      "cell_type": "markdown",
      "source": [
        "Since there are 60 seconds in a minute this finds the number of seconds in 42 minutes and then adds the 42 seconds to that value"
      ],
      "metadata": {
        "id": "514TxTmzyHoS"
      }
    },
    {
      "cell_type": "code",
      "source": [
        "#miles in 10 km\n",
        "10/1.61"
      ],
      "metadata": {
        "colab": {
          "base_uri": "https://localhost:8080/"
        },
        "id": "T-i2tfhHyPEL",
        "outputId": "0de8810d-3af5-4858-b180-781b0361fbd9"
      },
      "execution_count": null,
      "outputs": [
        {
          "output_type": "execute_result",
          "data": {
            "text/plain": [
              "6.211180124223602"
            ]
          },
          "metadata": {},
          "execution_count": 8
        }
      ]
    },
    {
      "cell_type": "markdown",
      "source": [
        "Since 1 mile is 1.61 km, dividing the number of km by 1.61 results in the number of miles"
      ],
      "metadata": {
        "id": "GEJ0TAVyybJM"
      }
    },
    {
      "cell_type": "code",
      "source": [
        "(42*60+42)/(10/1.61)"
      ],
      "metadata": {
        "colab": {
          "base_uri": "https://localhost:8080/"
        },
        "id": "j6ZmODE5yyop",
        "outputId": "78556b69-ed18-4cfe-b11f-8cfe8c6cb73b"
      },
      "execution_count": null,
      "outputs": [
        {
          "output_type": "execute_result",
          "data": {
            "text/plain": [
              "412.482"
            ]
          },
          "metadata": {},
          "execution_count": 9
        }
      ]
    },
    {
      "cell_type": "markdown",
      "source": [
        "This result is caluculated by dividing the number of seconds (calculated in part 1) by the number of miles (calculated in part 2)."
      ],
      "metadata": {
        "id": "eBCoYqd3zXJH"
      }
    },
    {
      "cell_type": "code",
      "source": [
        "tot=(42*60+42)/(10/1.61)\n",
        "min=int(tot//60)\n",
        "sec=int((tot/60-min)*60)\n",
        "print(str(min)+\":\"+str(sec))\n"
      ],
      "metadata": {
        "colab": {
          "base_uri": "https://localhost:8080/"
        },
        "id": "dxrnQqbmzhf0",
        "outputId": "212229bd-2102-4727-e557-1c1b9063b6cb"
      },
      "execution_count": null,
      "outputs": [
        {
          "output_type": "stream",
          "name": "stdout",
          "text": [
            "6:52\n"
          ]
        }
      ]
    },
    {
      "cell_type": "markdown",
      "source": [
        "The time in seconds for mile is calcualted the same as above and stored as tot.  This value is then integer divided by 60 to get the number of complete minutes and stored as an int. The seconds are calculated by subtracting the complete minutes from the previous value to get the number of additional seconds as a decimal amount of minutes. This value is multiplied by 60 to get to seconds. The two values are then concatenated with a colon to produce the minutes and seconds per mile."
      ],
      "metadata": {
        "id": "Skx9YBQW0raD"
      }
    },
    {
      "cell_type": "code",
      "source": [
        "hrs=tot/60/60\n",
        "print(hrs**-1)"
      ],
      "metadata": {
        "id": "UrcBwKAX1ZKM",
        "outputId": "858f03d7-32bf-4307-cb70-41b699efd3cf",
        "colab": {
          "base_uri": "https://localhost:8080/"
        }
      },
      "execution_count": null,
      "outputs": [
        {
          "output_type": "stream",
          "name": "stdout",
          "text": [
            "8.727653570337614\n"
          ]
        }
      ]
    },
    {
      "cell_type": "markdown",
      "source": [
        "The seconds per mile value that was calculated above is converted to hrs per mile by dividing by 60 twice."
      ],
      "metadata": {
        "id": "_G8arZ9I2Gct"
      }
    },
    {
      "cell_type": "markdown",
      "source": [],
      "metadata": {
        "id": "kzqzk4R8lvkK"
      }
    },
    {
      "cell_type": "markdown",
      "metadata": {
        "id": "70ee273d"
      },
      "source": [
        "# 2.11 Exercises"
      ]
    },
    {
      "cell_type": "code",
      "execution_count": 1,
      "metadata": {
        "tags": [],
        "id": "c9e6cab4",
        "colab": {
          "base_uri": "https://localhost:8080/"
        },
        "outputId": "f9714fec-7a1a-44a8-881f-62d1fe292e57"
      },
      "outputs": [
        {
          "output_type": "stream",
          "name": "stdout",
          "text": [
            "Exception reporting mode: Verbose\n"
          ]
        }
      ],
      "source": [
        "# This cell tells Jupyter to provide detailed debugging information\n",
        "# when a runtime error occurs. Run it before working on the exercises.\n",
        "\n",
        "%xmode Verbose"
      ]
    },
    {
      "cell_type": "markdown",
      "metadata": {
        "id": "7256a9b2"
      },
      "source": [
        "### Ask a virtual assistant\n",
        "\n",
        "Again, I encourage you to use a virtual assistant to learn more about any of the topics in this chapter.\n",
        "\n",
        "If you are curious about any of keywords I listed, you could ask \"Why is class a keyword?\" or \"Why can't variable names be keywords?\"\n",
        "\n",
        "You might have noticed that `int`, `float`, and `str` are not Python keywords.\n",
        "They are variables that represent types, and they can be used as functions.\n",
        "So it is *legal* to have a variable or function with one of those names, but it is strongly discouraged. Ask an assistant \"Why is it bad to use int, float, and str as variable names?\"\n",
        "\n",
        "Also ask, \"What are the built-in functions in Python?\"\n",
        "If you are curious about any of them, ask for more information.\n",
        "\n",
        "In this chapter we imported the `math` module and used some of the variable and functions it provides. Ask an assistant, \"What variables and functions are in the math module?\" and \"Other than math, what modules are considered core Python?\""
      ]
    },
    {
      "cell_type": "markdown",
      "metadata": {
        "id": "f92afde0"
      },
      "source": [
        "### Exercise\n",
        "\n",
        "Repeating my advice from the previous chapter, whenever you learn a new feature, you should make errors on purpose to see what goes wrong.\n",
        "\n",
        "-   We've seen that `n = 17` is legal. What about `17 = n`?\n",
        "\n",
        "-   How about `x = y = 1`?\n",
        "\n",
        "-   In some languages every statement ends with a semi-colon (`;`). What\n",
        "    happens if you put a semi-colon at the end of a Python statement?\n",
        "\n",
        "-   What if you put a period at the end of a statement?\n",
        "\n",
        "-   What happens if you spell the name of a module wrong and try to import `maath`?"
      ]
    },
    {
      "cell_type": "code",
      "source": [
        "17 = n"
      ],
      "metadata": {
        "colab": {
          "base_uri": "https://localhost:8080/",
          "height": 110
        },
        "id": "tcobco7EmEPy",
        "outputId": "62961215-64d0-4893-d982-6afdd30429d4"
      },
      "execution_count": 2,
      "outputs": [
        {
          "output_type": "error",
          "ename": "SyntaxError",
          "evalue": "cannot assign to literal here. Maybe you meant '==' instead of '='? (<ipython-input-2-beb598da8e38>, line 1)",
          "traceback": [
            "\u001b[0;36m  File \u001b[0;32m\"<ipython-input-2-beb598da8e38>\"\u001b[0;36m, line \u001b[0;32m1\u001b[0m\n\u001b[0;31m    17 = n\u001b[0m\n\u001b[0m    ^\u001b[0m\n\u001b[0;31mSyntaxError\u001b[0m\u001b[0;31m:\u001b[0m cannot assign to literal here. Maybe you meant '==' instead of '='?\n"
          ]
        }
      ]
    },
    {
      "cell_type": "markdown",
      "source": [
        "This statement results in an error since 17 is a numerical value. Python does not let something be assigned to a numerical value as it is not a variable."
      ],
      "metadata": {
        "id": "AvsbK_wVmIx9"
      }
    },
    {
      "cell_type": "code",
      "source": [
        "x=y=1\n",
        "print(x)\n",
        "print(y)"
      ],
      "metadata": {
        "colab": {
          "base_uri": "https://localhost:8080/"
        },
        "id": "h6J2f0Z6mUlk",
        "outputId": "5833bf76-c774-47a4-ce46-b9bbe90cdd94"
      },
      "execution_count": 4,
      "outputs": [
        {
          "output_type": "stream",
          "name": "stdout",
          "text": [
            "1\n",
            "1\n"
          ]
        }
      ]
    },
    {
      "cell_type": "markdown",
      "source": [
        "Python interprets this statement as assigning the value 1 to y and then assigning it to x as well."
      ],
      "metadata": {
        "id": "e8fKWzGdmbw1"
      }
    },
    {
      "cell_type": "code",
      "source": [
        "print(\"test\");\n",
        "x=3;"
      ],
      "metadata": {
        "colab": {
          "base_uri": "https://localhost:8080/"
        },
        "id": "9LAcqgt2mnc2",
        "outputId": "57f6ea97-e930-4fca-ca27-a85e6ce80c09"
      },
      "execution_count": 6,
      "outputs": [
        {
          "output_type": "stream",
          "name": "stdout",
          "text": [
            "test\n"
          ]
        }
      ]
    },
    {
      "cell_type": "markdown",
      "source": [
        "These statements still run as expected with a semicolon at the end"
      ],
      "metadata": {
        "id": "Oi3Nl5RymrVq"
      }
    },
    {
      "cell_type": "code",
      "source": [
        "print('test')."
      ],
      "metadata": {
        "colab": {
          "base_uri": "https://localhost:8080/",
          "height": 110
        },
        "id": "y1niQRmDm4hS",
        "outputId": "83de2b46-f618-4c3f-f9a5-c22325ca7ab1"
      },
      "execution_count": 7,
      "outputs": [
        {
          "output_type": "error",
          "ename": "SyntaxError",
          "evalue": "invalid syntax (<ipython-input-7-061a2f104de4>, line 1)",
          "traceback": [
            "\u001b[0;36m  File \u001b[0;32m\"<ipython-input-7-061a2f104de4>\"\u001b[0;36m, line \u001b[0;32m1\u001b[0m\n\u001b[0;31m    print('test').\u001b[0m\n\u001b[0m                  ^\u001b[0m\n\u001b[0;31mSyntaxError\u001b[0m\u001b[0;31m:\u001b[0m invalid syntax\n"
          ]
        }
      ]
    },
    {
      "cell_type": "markdown",
      "source": [
        "When a period is added at the end, a syntax error occurs. Python is looking for a method name to follow the period and throws an error as none is given."
      ],
      "metadata": {
        "id": "kCBgh4GOnWVW"
      }
    },
    {
      "cell_type": "code",
      "source": [
        "import maath"
      ],
      "metadata": {
        "id": "fHszlItzniZS",
        "outputId": "f190b1f5-5051-4ba6-a61d-a316b1a7c772",
        "colab": {
          "base_uri": "https://localhost:8080/",
          "height": 344
        }
      },
      "execution_count": 8,
      "outputs": [
        {
          "output_type": "error",
          "ename": "ModuleNotFoundError",
          "evalue": "No module named 'maath'",
          "traceback": [
            "\u001b[0;31m---------------------------------------------------------------------------\u001b[0m",
            "\u001b[0;31mModuleNotFoundError\u001b[0m                       Traceback (most recent call last)",
            "\u001b[0;32m<ipython-input-8-c40f797fdd49>\u001b[0m in \u001b[0;36m<cell line: 1>\u001b[0;34m()\u001b[0m\n\u001b[0;32m----> 1\u001b[0;31m \u001b[0;32mimport\u001b[0m \u001b[0mmaath\u001b[0m\u001b[0;34m\u001b[0m\u001b[0;34m\u001b[0m\u001b[0m\n\u001b[0m        \u001b[0;36mglobal\u001b[0m \u001b[0;36mmaath\u001b[0m \u001b[0;34m= \u001b[0;36mundefined\u001b[0m\u001b[0m\n",
            "\u001b[0;31mModuleNotFoundError\u001b[0m: No module named 'maath'",
            "",
            "\u001b[0;31m---------------------------------------------------------------------------\u001b[0;32m\nNOTE: If your import is failing due to a missing package, you can\nmanually install dependencies using either !pip or !apt.\n\nTo view examples of installing some common dependencies, click the\n\"Open Examples\" button below.\n\u001b[0;31m---------------------------------------------------------------------------\u001b[0m\n"
          ],
          "errorDetails": {
            "actions": [
              {
                "action": "open_url",
                "actionText": "Open Examples",
                "url": "/notebooks/snippets/importing_libraries.ipynb"
              }
            ]
          }
        }
      ]
    },
    {
      "cell_type": "markdown",
      "source": [
        "A ModuleNotFoundError is thrown when the odule name is spelled wrong as python cannot find a module matching that name."
      ],
      "metadata": {
        "id": "qii2xfm-nlDq"
      }
    },
    {
      "cell_type": "markdown",
      "metadata": {
        "id": "9d562609"
      },
      "source": [
        "### Exercise\n",
        "Practice using the Python interpreter as a calculator:\n",
        "\n",
        "**Part 1.**  The volume of a sphere with radius $r$ is $\\frac{4}{3} \\pi r^3$.\n",
        "What is the volume of a sphere with radius 5? Start with a variable named `radius` and then assign the result to a variable named `volume`. Display the result. Add comments to indicate that `radius` is in centimeters and `volume` in cubic centimeters."
      ]
    },
    {
      "cell_type": "code",
      "execution_count": 10,
      "metadata": {
        "id": "18de7d96",
        "colab": {
          "base_uri": "https://localhost:8080/"
        },
        "outputId": "04047789-9b8d-43ce-a837-badcd18fd0d0"
      },
      "outputs": [
        {
          "output_type": "stream",
          "name": "stdout",
          "text": [
            "523.5987755982989\n"
          ]
        }
      ],
      "source": [
        "# Solution goes here\n",
        "import math\n",
        "radius = 5 #cm\n",
        "volume = (4/3)*math.pi*radius**3 #cm^3\n",
        "print(volume)"
      ]
    },
    {
      "cell_type": "markdown",
      "source": [
        "The variable radius is assigned a value of 5. This value is then raised to the third power and multiplied by 4/3 and pi. The math module is imported so that pi has a value of 3.14...."
      ],
      "metadata": {
        "id": "XmYOWikpoKED"
      }
    },
    {
      "cell_type": "markdown",
      "metadata": {
        "id": "6449b12b"
      },
      "source": [
        "**Part 2.** A rule of trigonometry says that for any value of $x$, $(\\cos x)^2 + (\\sin x)^2 = 1$. Let's see if it's true for a specific value of $x$ like 42.\n",
        "\n",
        "Create a variable named `x` with this value.\n",
        "Then use `math.cos` and `math.sin` to compute the sine and cosine of $x$, and the sum of their squared.\n",
        "\n",
        "The result should be close to 1. It might not be exactly 1 because floating-point arithmetic is not exact---it is only approximately correct."
      ]
    },
    {
      "cell_type": "code",
      "execution_count": null,
      "metadata": {
        "id": "de812cff"
      },
      "outputs": [],
      "source": [
        "# Solution goes here"
      ]
    },
    {
      "cell_type": "markdown",
      "metadata": {
        "id": "4986801f"
      },
      "source": [
        "**Part 3.** In addition to `pi`, the other variable defined in the `math` module is `e`, which represents the base of the natural logarithm, written in math notation as $e$. If you are not familiar with this value, ask a virtual assistant \"What is `math.e`?\" Now let's compute $e^2$ three ways:\n",
        "\n",
        "* Use `math.e` and the exponentiation operator (`**`).\n",
        "\n",
        "* Use `math.pow` to raise `math.e` to the power `2`.\n",
        "\n",
        "* Use `math.exp`, which takes as an argument a value, $x$, and computes $e^x$.\n",
        "\n",
        "You might notice that the last result is slightly different from the other two.\n",
        "See if you can find out which is correct."
      ]
    },
    {
      "cell_type": "code",
      "execution_count": null,
      "metadata": {
        "id": "b4ada618"
      },
      "outputs": [],
      "source": [
        "# Solution goes here"
      ]
    },
    {
      "cell_type": "code",
      "execution_count": null,
      "metadata": {
        "id": "4424940f"
      },
      "outputs": [],
      "source": [
        "# Solution goes here"
      ]
    },
    {
      "cell_type": "code",
      "execution_count": null,
      "metadata": {
        "id": "50e8393a"
      },
      "outputs": [],
      "source": [
        "# Solution goes here"
      ]
    },
    {
      "cell_type": "code",
      "execution_count": null,
      "metadata": {
        "id": "91e5a869"
      },
      "outputs": [],
      "source": []
    },
    {
      "cell_type": "markdown",
      "metadata": {
        "tags": [],
        "id": "a7f4edf8"
      },
      "source": [
        "[Think Python: 3rd Edition](https://allendowney.github.io/ThinkPython/index.html)\n",
        "\n",
        "Copyright 2024 [Allen B. Downey](https://allendowney.com)\n",
        "\n",
        "Code license: [MIT License](https://mit-license.org/)\n",
        "\n",
        "Text license: [Creative Commons Attribution-NonCommercial-ShareAlike 4.0 International](https://creativecommons.org/licenses/by-nc-sa/4.0/)"
      ]
    }
  ]
}