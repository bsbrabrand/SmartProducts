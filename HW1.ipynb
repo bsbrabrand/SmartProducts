{
  "nbformat": 4,
  "nbformat_minor": 0,
  "metadata": {
    "colab": {
      "provenance": [],
      "toc_visible": true,
      "authorship_tag": "ABX9TyMyLbVfQ9JnOM4+5PNkjtmg",
      "include_colab_link": true
    },
    "kernelspec": {
      "name": "python3",
      "display_name": "Python 3"
    },
    "language_info": {
      "name": "python"
    }
  },
  "cells": [
    {
      "cell_type": "markdown",
      "metadata": {
        "id": "view-in-github",
        "colab_type": "text"
      },
      "source": [
        "<a href=\"https://colab.research.google.com/github/bsbrabrand/SmartProducts/blob/main/HW1.ipynb\" target=\"_parent\"><img src=\"https://colab.research.google.com/assets/colab-badge.svg\" alt=\"Open In Colab\"/></a>"
      ]
    },
    {
      "cell_type": "markdown",
      "source": [
        "# **1.9.3. Exercise**\n",
        "When you learn about a new feature, you should try it out and make mistakes on purpose. That way, you learn the error messages, and when you see them again, you will know what they mean. It is better to make mistakes now and deliberately than later and accidentally.\n",
        "\n",
        "You can use a minus sign to make a negative number like -2. What happens if you put a plus sign before a number? What about 2++2?\n",
        "\n",
        "What happens if you have two values with no operator between them, like 4 2?\n",
        "\n",
        "If you call a function like round(42.5), what happens if you leave out one or both parentheses?"
      ],
      "metadata": {
        "id": "d_FNCOVRtFLZ"
      }
    },
    {
      "cell_type": "code",
      "source": [
        "+2"
      ],
      "metadata": {
        "colab": {
          "base_uri": "https://localhost:8080/"
        },
        "id": "3XGlF3cdtJPi",
        "outputId": "f9f9fa75-b4dd-4e08-d7cc-3c85670a73a3"
      },
      "execution_count": 3,
      "outputs": [
        {
          "output_type": "execute_result",
          "data": {
            "text/plain": [
              "2"
            ]
          },
          "metadata": {},
          "execution_count": 3
        }
      ]
    },
    {
      "cell_type": "code",
      "source": [
        "2++2"
      ],
      "metadata": {
        "colab": {
          "base_uri": "https://localhost:8080/"
        },
        "id": "d4ErMJcPtMBd",
        "outputId": "a8dc82ef-762f-4a79-e1d0-0585b70d89da"
      },
      "execution_count": 2,
      "outputs": [
        {
          "output_type": "execute_result",
          "data": {
            "text/plain": [
              "4"
            ]
          },
          "metadata": {},
          "execution_count": 2
        }
      ]
    },
    {
      "cell_type": "markdown",
      "source": [
        "Using a \"+\" before a number returns the postive value of that number. For example, \"+2\" returns 2.\n",
        "Executing \"2++2\" therefore results in 4 as the second plus sign is redundant."
      ],
      "metadata": {
        "id": "LxbLk6PbtUa9"
      }
    },
    {
      "cell_type": "code",
      "source": [
        "4 2"
      ],
      "metadata": {
        "colab": {
          "base_uri": "https://localhost:8080/",
          "height": 110
        },
        "id": "b6z_o_4vtp3D",
        "outputId": "51be4992-ff58-40cb-8b0c-63b0f7a43b46"
      },
      "execution_count": 4,
      "outputs": [
        {
          "output_type": "error",
          "ename": "SyntaxError",
          "evalue": "invalid syntax (<ipython-input-4-7b559316adbe>, line 1)",
          "traceback": [
            "\u001b[0;36m  File \u001b[0;32m\"<ipython-input-4-7b559316adbe>\"\u001b[0;36m, line \u001b[0;32m1\u001b[0m\n\u001b[0;31m    4 2\u001b[0m\n\u001b[0m      ^\u001b[0m\n\u001b[0;31mSyntaxError\u001b[0m\u001b[0;31m:\u001b[0m invalid syntax\n"
          ]
        }
      ]
    },
    {
      "cell_type": "markdown",
      "source": [
        "With no operator in between numbers, a syntax error is returned. The 2 is just floating in this case with nothing being applied to it."
      ],
      "metadata": {
        "id": "vGhYpoAit6wo"
      }
    },
    {
      "cell_type": "code",
      "source": [
        "round(42.5"
      ],
      "metadata": {
        "colab": {
          "base_uri": "https://localhost:8080/",
          "height": 110
        },
        "id": "kzeyb0W_uEj5",
        "outputId": "961a78ef-5b22-4131-c717-640ff71ebfb3"
      },
      "execution_count": 5,
      "outputs": [
        {
          "output_type": "error",
          "ename": "SyntaxError",
          "evalue": "incomplete input (<ipython-input-5-874acea29d22>, line 1)",
          "traceback": [
            "\u001b[0;36m  File \u001b[0;32m\"<ipython-input-5-874acea29d22>\"\u001b[0;36m, line \u001b[0;32m1\u001b[0m\n\u001b[0;31m    round(42.5\u001b[0m\n\u001b[0m              ^\u001b[0m\n\u001b[0;31mSyntaxError\u001b[0m\u001b[0;31m:\u001b[0m incomplete input\n"
          ]
        }
      ]
    },
    {
      "cell_type": "markdown",
      "source": [
        "Leaving off the parenthesis for a function returns a syntax error as well. A function needs both sets of parenthesis to be valid."
      ],
      "metadata": {
        "id": "cPCbBFCZuIA8"
      }
    },
    {
      "cell_type": "markdown",
      "source": [
        "# 1.9.4 Exercise"
      ],
      "metadata": {
        "id": "ILut0z80vROP"
      }
    },
    {
      "cell_type": "markdown",
      "source": [
        "Recall that every expression has a value, every value has a type, and we can use the type function to find the type of any value.\n",
        "\n",
        "What is the type of the value of the following expressions? Make your best guess for each one, and then use type to find out.\n",
        "\n",
        "765\n",
        "\n",
        "2.718\n",
        "\n",
        "'2 pi'\n",
        "\n",
        "abs(-7)\n",
        "\n",
        "abs(-7.0)\n",
        "\n",
        "abs\n",
        "\n",
        "int\n",
        "\n",
        "type"
      ],
      "metadata": {
        "id": "BOms0TBvvawJ"
      }
    },
    {
      "cell_type": "markdown",
      "source": [
        "Guesses:  \n",
        "765 int  \n",
        "2.718 float  \n",
        "'2 pi' string  \n",
        "abs(-7) int  \n",
        "abs(-7.0) float  \n",
        "abs float  \n",
        "int int  \n",
        "type string"
      ],
      "metadata": {
        "id": "i8B1xaJGvhvv"
      }
    },
    {
      "cell_type": "code",
      "source": [
        "print(type(765))\n",
        "print(type(2.718))\n",
        "print(type('2 pi'))\n",
        "print(type(abs(-7)))\n",
        "print(type(abs(-7.0)))\n",
        "print(type(abs))\n",
        "print(type(int))\n",
        "print(type(type))"
      ],
      "metadata": {
        "colab": {
          "base_uri": "https://localhost:8080/"
        },
        "id": "C5ng06DKwAlD",
        "outputId": "d36e91cf-c6d1-43b2-f2de-676ca0516185"
      },
      "execution_count": 7,
      "outputs": [
        {
          "output_type": "stream",
          "name": "stdout",
          "text": [
            "<class 'int'>\n",
            "<class 'float'>\n",
            "<class 'str'>\n",
            "<class 'int'>\n",
            "<class 'float'>\n",
            "<class 'builtin_function_or_method'>\n",
            "<class 'type'>\n",
            "<class 'type'>\n"
          ]
        }
      ]
    },
    {
      "cell_type": "markdown",
      "source": [
        "The first 5 examples were the same type that I expected.  \n",
        "The type of abs is actually a builtin_function_or_method which I didn't realize was an option. It makes sense that this is the case as abs is a builtin function that returns the positive value of a number.\n",
        "  The last two are both type 'type' as they are found in the type class."
      ],
      "metadata": {
        "id": "NlgPujyTwzs0"
      }
    },
    {
      "cell_type": "markdown",
      "source": [],
      "metadata": {
        "id": "oGEFHGZGxYHN"
      }
    },
    {
      "cell_type": "markdown",
      "source": [
        "# 1.9.5 Exercise"
      ],
      "metadata": {
        "id": "xM4sHYD-xY8D"
      }
    },
    {
      "cell_type": "markdown",
      "source": [
        "The following questions give you a chance to practice writing arithmetic expressions.\n",
        "\n",
        "How many seconds are there in 42 minutes 42 seconds?\n",
        "\n",
        "How many miles are there in 10 kilometers? Hint: there are 1.61 kilometers in a mile.\n",
        "\n",
        "If you run a 10 kilometer race in 42 minutes 42 seconds, what is your average pace in seconds per mile?\n",
        "\n",
        "What is your average pace in minutes and seconds per mile?\n",
        "\n",
        "What is your average speed in miles per hour?\n",
        "\n",
        "If you already know about variables, you can use them for this exercise. If you don’t, you can do the exercise without them – and then we’ll see them in the next chapter."
      ],
      "metadata": {
        "id": "Zsb4j7S0xcng"
      }
    },
    {
      "cell_type": "code",
      "source": [
        "#Seconds in 42 minutes 42 seconds\n",
        "42*60+42"
      ],
      "metadata": {
        "id": "_4Hm9LI8xuk7"
      },
      "execution_count": null,
      "outputs": []
    },
    {
      "cell_type": "markdown",
      "source": [
        "Since there are 60 seconds in a minute this finds the number of seconds in 42 minutes and then adds the 42 seconds to that value"
      ],
      "metadata": {
        "id": "514TxTmzyHoS"
      }
    },
    {
      "cell_type": "code",
      "source": [
        "#miles in 10 km\n",
        "10/1.61"
      ],
      "metadata": {
        "colab": {
          "base_uri": "https://localhost:8080/"
        },
        "id": "T-i2tfhHyPEL",
        "outputId": "0de8810d-3af5-4858-b180-781b0361fbd9"
      },
      "execution_count": 8,
      "outputs": [
        {
          "output_type": "execute_result",
          "data": {
            "text/plain": [
              "6.211180124223602"
            ]
          },
          "metadata": {},
          "execution_count": 8
        }
      ]
    },
    {
      "cell_type": "markdown",
      "source": [
        "Since 1 mile is 1.61 km, dividing the number of km by 1.61 results in the number of miles"
      ],
      "metadata": {
        "id": "GEJ0TAVyybJM"
      }
    },
    {
      "cell_type": "code",
      "source": [
        "(42*60+42)/(10/1.61)"
      ],
      "metadata": {
        "colab": {
          "base_uri": "https://localhost:8080/"
        },
        "id": "j6ZmODE5yyop",
        "outputId": "78556b69-ed18-4cfe-b11f-8cfe8c6cb73b"
      },
      "execution_count": 9,
      "outputs": [
        {
          "output_type": "execute_result",
          "data": {
            "text/plain": [
              "412.482"
            ]
          },
          "metadata": {},
          "execution_count": 9
        }
      ]
    },
    {
      "cell_type": "markdown",
      "source": [
        "This result is caluculated by dividing the number of seconds (calculated in part 1) by the number of miles (calculated in part 2)."
      ],
      "metadata": {
        "id": "eBCoYqd3zXJH"
      }
    },
    {
      "cell_type": "code",
      "source": [
        "tot=(42*60+42)/(10/1.61)\n",
        "min=int(tot//60)\n",
        "sec=int((tot/60-min)*60)\n",
        "print(str(min)+\":\"+str(sec))\n"
      ],
      "metadata": {
        "colab": {
          "base_uri": "https://localhost:8080/"
        },
        "id": "dxrnQqbmzhf0",
        "outputId": "212229bd-2102-4727-e557-1c1b9063b6cb"
      },
      "execution_count": 16,
      "outputs": [
        {
          "output_type": "stream",
          "name": "stdout",
          "text": [
            "6:52\n"
          ]
        }
      ]
    },
    {
      "cell_type": "markdown",
      "source": [
        "The time in seconds for mile is calcualted the same as above and stored as tot.  This value is then integer divided by 60 to get the number of complete minutes and stored as an int. The seconds are calculated by subtracting the complete minutes from the previous value to get the number of additional seconds as a decimal amount of minutes. This value is multiplied by 60 to get to seconds. The two values are then concatenated with a colon to produce the minutes and seconds per mile."
      ],
      "metadata": {
        "id": "Skx9YBQW0raD"
      }
    },
    {
      "cell_type": "code",
      "source": [
        "hrs=tot/60/60\n",
        "print(hrs**-1)"
      ],
      "metadata": {
        "id": "UrcBwKAX1ZKM",
        "outputId": "858f03d7-32bf-4307-cb70-41b699efd3cf",
        "colab": {
          "base_uri": "https://localhost:8080/"
        }
      },
      "execution_count": 20,
      "outputs": [
        {
          "output_type": "stream",
          "name": "stdout",
          "text": [
            "8.727653570337614\n"
          ]
        }
      ]
    },
    {
      "cell_type": "markdown",
      "source": [
        "The seconds per mile value that was calculated above is converted to hrs per mile by dividing by 60 twice."
      ],
      "metadata": {
        "id": "_G8arZ9I2Gct"
      }
    }
  ]
}