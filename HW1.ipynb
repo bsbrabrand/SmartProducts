{
  "nbformat": 4,
  "nbformat_minor": 0,
  "metadata": {
    "colab": {
      "provenance": [],
      "authorship_tag": "ABX9TyPSWkrwc2IPo2In9fZ4RCEo",
      "include_colab_link": true
    },
    "kernelspec": {
      "name": "python3",
      "display_name": "Python 3"
    },
    "language_info": {
      "name": "python"
    }
  },
  "cells": [
    {
      "cell_type": "markdown",
      "metadata": {
        "id": "view-in-github",
        "colab_type": "text"
      },
      "source": [
        "<a href=\"https://colab.research.google.com/github/bsbrabrand/SmartProducts/blob/main/HW1.ipynb\" target=\"_parent\"><img src=\"https://colab.research.google.com/assets/colab-badge.svg\" alt=\"Open In Colab\"/></a>"
      ]
    },
    {
      "cell_type": "markdown",
      "source": [
        "1.9.3. Exercise\n",
        "When you learn about a new feature, you should try it out and make mistakes on purpose. That way, you learn the error messages, and when you see them again, you will know what they mean. It is better to make mistakes now and deliberately than later and accidentally.\n",
        "\n",
        "You can use a minus sign to make a negative number like -2. What happens if you put a plus sign before a number? What about 2++2?\n",
        "\n",
        "What happens if you have two values with no operator between them, like 4 2?\n",
        "\n",
        "If you call a function like round(42.5), what happens if you leave out one or both parentheses?"
      ],
      "metadata": {
        "id": "d_FNCOVRtFLZ"
      }
    },
    {
      "cell_type": "code",
      "source": [
        "+2"
      ],
      "metadata": {
        "id": "3XGlF3cdtJPi",
        "outputId": "f9f9fa75-b4dd-4e08-d7cc-3c85670a73a3",
        "colab": {
          "base_uri": "https://localhost:8080/"
        }
      },
      "execution_count": 3,
      "outputs": [
        {
          "output_type": "execute_result",
          "data": {
            "text/plain": [
              "2"
            ]
          },
          "metadata": {},
          "execution_count": 3
        }
      ]
    },
    {
      "cell_type": "code",
      "source": [
        "2++2"
      ],
      "metadata": {
        "id": "d4ErMJcPtMBd",
        "outputId": "a8dc82ef-762f-4a79-e1d0-0585b70d89da",
        "colab": {
          "base_uri": "https://localhost:8080/"
        }
      },
      "execution_count": 2,
      "outputs": [
        {
          "output_type": "execute_result",
          "data": {
            "text/plain": [
              "4"
            ]
          },
          "metadata": {},
          "execution_count": 2
        }
      ]
    },
    {
      "cell_type": "markdown",
      "source": [
        "Using a \"+\" before a number returns the postive value of that number. For example, \"+2\" returns 2.\n",
        "Executing \"2++2\" therefore results in 4 as the second plus sign is redundant."
      ],
      "metadata": {
        "id": "LxbLk6PbtUa9"
      }
    },
    {
      "cell_type": "code",
      "source": [],
      "metadata": {
        "id": "b6z_o_4vtp3D"
      },
      "execution_count": null,
      "outputs": []
    }
  ]
}