{
  "nbformat": 4,
  "nbformat_minor": 0,
  "metadata": {
    "colab": {
      "provenance": [],
      "toc_visible": true,
      "authorship_tag": "ABX9TyNY5TTFreyTgc8gXBEcw9kC",
      "include_colab_link": true
    },
    "kernelspec": {
      "name": "python3",
      "display_name": "Python 3"
    },
    "language_info": {
      "name": "python"
    }
  },
  "cells": [
    {
      "cell_type": "markdown",
      "metadata": {
        "id": "view-in-github",
        "colab_type": "text"
      },
      "source": [
        "<a href=\"https://colab.research.google.com/github/bsbrabrand/SmartProducts/blob/main/HW3.ipynb\" target=\"_parent\"><img src=\"https://colab.research.google.com/assets/colab-badge.svg\" alt=\"Open In Colab\"/></a>"
      ]
    },
    {
      "cell_type": "markdown",
      "source": [
        "#Bennett Brabrand"
      ],
      "metadata": {
        "id": "Dtc4jnTO8sea"
      }
    },
    {
      "cell_type": "code",
      "source": [
        "from os.path import basename, exists\n",
        "\n",
        "def download(url):\n",
        "    filename = basename(url)\n",
        "    if not exists(filename):\n",
        "        from urllib.request import urlretrieve\n",
        "\n",
        "        local, _ = urlretrieve(url, filename)\n",
        "        print(\"Downloaded \" + str(local))\n",
        "    return filename\n",
        "\n",
        "download('https://github.com/AllenDowney/ThinkPython/raw/v3/thinkpython.py');\n",
        "download('https://github.com/AllenDowney/ThinkPython/raw/v3/diagram.py');\n",
        "\n",
        "import thinkpython"
      ],
      "metadata": {
        "id": "loa4G927wdYb"
      },
      "execution_count": 31,
      "outputs": []
    },
    {
      "cell_type": "markdown",
      "metadata": {
        "id": "99eff99e"
      },
      "source": [
        "# 7.9.2\n",
        "\n",
        "Write a function named `uses_none` that takes a word and a string of forbidden letters, and returns `True` if the word does not use any of the forbidden letters.\n",
        "\n",
        "Here's an outline of the function that includes two doctests.\n",
        "Fill in the function so it passes these tests, and add at least one more doctest."
      ]
    },
    {
      "cell_type": "code",
      "execution_count": 32,
      "metadata": {
        "id": "6c825b80"
      },
      "outputs": [],
      "source": [
        "def uses_none(word, forbidden):\n",
        "    \"\"\"Checks whether a word avoid forbidden letters.\n",
        "\n",
        "    >>> uses_none('banana', 'xyz')\n",
        "    True\n",
        "    >>> uses_none('apple', 'efg')\n",
        "    False\n",
        "    >>> uses_none('orange', 'abc')\n",
        "    False\n",
        "    \"\"\"\n",
        "    #iterate through each letter\n",
        "    for letter in word:\n",
        "      #check if a letter is in the list of forbidden letters\n",
        "        if letter in forbidden:\n",
        "            return False\n",
        "    return True"
      ]
    },
    {
      "cell_type": "code",
      "execution_count": 33,
      "metadata": {
        "tags": [],
        "id": "2bed91e7"
      },
      "outputs": [],
      "source": [
        "from doctest import run_docstring_examples\n",
        "def run_doctests(func):\n",
        "    run_docstring_examples(func, globals(), name=func.__name__)\n",
        "run_doctests(uses_none)"
      ]
    },
    {
      "cell_type": "markdown",
      "source": [
        "## 7.9.2 Explanation\n",
        "This function goes through each letter in the input word and checks it with each letter of the forbidden letters. If a match is found, the function immediately returns false. Otherwise it will return true after checking all the letters with no match."
      ],
      "metadata": {
        "id": "_F61XT4axMWj"
      }
    },
    {
      "cell_type": "markdown",
      "metadata": {
        "id": "7210adfa"
      },
      "source": [
        "# 7.9.5\n",
        "\n",
        "*The New York Times* publishes a daily puzzle called \"Spelling Bee\" that challenges readers to spell as many words as possible using only seven letters, where one of the letters is required.\n",
        "The words must have at least four letters.\n",
        "\n",
        "For example, on the day I wrote this, the letters were `ACDLORT`, with `R` as the required letter.\n",
        "So \"color\" is an acceptable word, but \"told\" is not, because it does not use `R`, and \"rat\" is not because it has only three letters.\n",
        "Letters can be repeated, so \"ratatat\" is acceptable.\n",
        "\n",
        "Write a function called `check_word` that checks whether a given word is acceptable.\n",
        "It should take as parameters the word to check, a string of seven available letters, and a string containing the single required letter.\n",
        "You can use the functions you wrote in previous exercises.\n",
        "\n",
        "Here's an outline of the function that includes doctests.\n",
        "Fill in the function and then check that all tests pass."
      ]
    },
    {
      "cell_type": "code",
      "source": [
        "download('https://raw.githubusercontent.com/AllenDowney/ThinkPython/v3/words.txt');"
      ],
      "metadata": {
        "id": "UgZXtFwzyIAP"
      },
      "execution_count": 34,
      "outputs": []
    },
    {
      "cell_type": "code",
      "execution_count": 35,
      "metadata": {
        "id": "576ee509"
      },
      "outputs": [],
      "source": [
        "def check_word1(word, available, required):\n",
        "    \"\"\"Check whether a word is acceptable.\n",
        "\n",
        "    >>> check_word('color', 'ACDLORT', 'R')\n",
        "    True\n",
        "    >>> check_word('ratatat', 'ACDLORT', 'R')\n",
        "    True\n",
        "    >>> check_word('rat', 'ACDLORT', 'R')\n",
        "    False\n",
        "    >>> check_word('told', 'ACDLORT', 'R')\n",
        "    False\n",
        "    >>> check_word('bee', 'ACDLORT', 'R')\n",
        "    False\n",
        "    \"\"\"\n",
        "    #check for minimum word length\n",
        "    if len(word) < 4:\n",
        "      return False\n",
        "    #set all to lowercase for comparison\n",
        "    word=word.lower()\n",
        "    available=available.lower()\n",
        "    required=required.lower()\n",
        "    #check for any letters used that are not available\n",
        "    for letter in word:\n",
        "      if letter not in available:\n",
        "        return False\n",
        "    #check that required letter is used\n",
        "    for letter in word:\n",
        "      if letter == required:\n",
        "        return True\n",
        "    #after looping through all letters, return false as the required letter was not found\n",
        "    return False"
      ]
    },
    {
      "cell_type": "code",
      "execution_count": 36,
      "metadata": {
        "tags": [],
        "id": "23ed7f79",
        "outputId": "e7a89ac8-6e44-40db-d4ea-fd3ee1bbf5f0",
        "colab": {
          "base_uri": "https://localhost:8080/",
          "height": 0
        }
      },
      "outputs": [
        {
          "output_type": "stream",
          "name": "stdout",
          "text": [
            "**********************************************************************\n",
            "File \"__main__\", line 4, in check_word1\n",
            "Failed example:\n",
            "    check_word('color', 'ACDLORT', 'R')\n",
            "Exception raised:\n",
            "    Traceback (most recent call last):\n",
            "      File \"/usr/lib/python3.11/doctest.py\", line 1355, in __run\n",
            "        exec(compile(example.source, filename, \"single\",\n",
            "      File \"<doctest check_word1[0]>\", line 1, in <module>\n",
            "        check_word('color', 'ACDLORT', 'R')\n",
            "    TypeError: check_word() takes 1 positional argument but 3 were given\n",
            "**********************************************************************\n",
            "File \"__main__\", line 6, in check_word1\n",
            "Failed example:\n",
            "    check_word('ratatat', 'ACDLORT', 'R')\n",
            "Exception raised:\n",
            "    Traceback (most recent call last):\n",
            "      File \"/usr/lib/python3.11/doctest.py\", line 1355, in __run\n",
            "        exec(compile(example.source, filename, \"single\",\n",
            "      File \"<doctest check_word1[1]>\", line 1, in <module>\n",
            "        check_word('ratatat', 'ACDLORT', 'R')\n",
            "    TypeError: check_word() takes 1 positional argument but 3 were given\n",
            "**********************************************************************\n",
            "File \"__main__\", line 8, in check_word1\n",
            "Failed example:\n",
            "    check_word('rat', 'ACDLORT', 'R')\n",
            "Exception raised:\n",
            "    Traceback (most recent call last):\n",
            "      File \"/usr/lib/python3.11/doctest.py\", line 1355, in __run\n",
            "        exec(compile(example.source, filename, \"single\",\n",
            "      File \"<doctest check_word1[2]>\", line 1, in <module>\n",
            "        check_word('rat', 'ACDLORT', 'R')\n",
            "    TypeError: check_word() takes 1 positional argument but 3 were given\n",
            "**********************************************************************\n",
            "File \"__main__\", line 10, in check_word1\n",
            "Failed example:\n",
            "    check_word('told', 'ACDLORT', 'R')\n",
            "Exception raised:\n",
            "    Traceback (most recent call last):\n",
            "      File \"/usr/lib/python3.11/doctest.py\", line 1355, in __run\n",
            "        exec(compile(example.source, filename, \"single\",\n",
            "      File \"<doctest check_word1[3]>\", line 1, in <module>\n",
            "        check_word('told', 'ACDLORT', 'R')\n",
            "    TypeError: check_word() takes 1 positional argument but 3 were given\n",
            "**********************************************************************\n",
            "File \"__main__\", line 12, in check_word1\n",
            "Failed example:\n",
            "    check_word('bee', 'ACDLORT', 'R')\n",
            "Exception raised:\n",
            "    Traceback (most recent call last):\n",
            "      File \"/usr/lib/python3.11/doctest.py\", line 1355, in __run\n",
            "        exec(compile(example.source, filename, \"single\",\n",
            "      File \"<doctest check_word1[4]>\", line 1, in <module>\n",
            "        check_word('bee', 'ACDLORT', 'R')\n",
            "    TypeError: check_word() takes 1 positional argument but 3 were given\n"
          ]
        }
      ],
      "source": [
        "run_doctests(check_word1)"
      ]
    },
    {
      "cell_type": "markdown",
      "metadata": {
        "id": "0b9589fc"
      },
      "source": [
        "According to the \"Spelling Bee\" rules,\n",
        "\n",
        "* Four-letter words are worth 1 point each.\n",
        "\n",
        "* Longer words earn 1 point per letter.\n",
        "\n",
        "* Each puzzle includes at least one \"pangram\" which uses every letter. These are worth 7 extra points!\n",
        "\n",
        "Write a function called `score_word` that takes a word and a string of available letters and returns its score.\n",
        "You can assume that the word is acceptable.\n",
        "\n",
        "Again, here's an outline of the function with doctests."
      ]
    },
    {
      "cell_type": "code",
      "execution_count": 37,
      "metadata": {
        "id": "11b69de0"
      },
      "outputs": [],
      "source": [
        "def word_score(word, available):\n",
        "    \"\"\"Compute the score for an acceptable word.\n",
        "\n",
        "    >>> word_score('card', 'ACDLORT')\n",
        "    1\n",
        "    >>> word_score('color', 'ACDLORT')\n",
        "    5\n",
        "    >>> word_score('cartload', 'ACDLORT')\n",
        "    15\n",
        "    \"\"\"\n",
        "    #check simple case\n",
        "    if len(word)==4:\n",
        "      return 1\n",
        "    #base score\n",
        "    score = len(word)\n",
        "    #check for pangram\n",
        "    for letter in available.lower():\n",
        "      if letter not in word.lower():\n",
        "        return score #not a pangram\n",
        "    return score+7 #is a pangram"
      ]
    },
    {
      "cell_type": "code",
      "execution_count": 38,
      "metadata": {
        "tags": [],
        "id": "eb8e8745"
      },
      "outputs": [],
      "source": [
        "run_doctests(word_score)"
      ]
    },
    {
      "cell_type": "markdown",
      "metadata": {
        "tags": [],
        "id": "82e5283b"
      },
      "source": [
        "When all of your functions pass their tests, use the following loop to search the word list for acceptable words and add up their scores."
      ]
    },
    {
      "cell_type": "code",
      "execution_count": 40,
      "metadata": {
        "tags": [],
        "id": "6965f673",
        "colab": {
          "base_uri": "https://localhost:8080/",
          "height": 0
        },
        "outputId": "6a1c2e7f-6e17-4ffa-ef9b-cd2b113b32ea"
      },
      "outputs": [
        {
          "output_type": "stream",
          "name": "stdout",
          "text": [
            "accord 6\n",
            "actor 5\n",
            "alar 1\n",
            "altar 5\n",
            "aorta 5\n",
            "aortal 6\n",
            "arco 1\n",
            "ardor 5\n",
            "artal 5\n",
            "attar 5\n",
            "attract 7\n",
            "calcar 6\n",
            "caracal 7\n",
            "caracara 8\n",
            "caracol 7\n",
            "carat 5\n",
            "card 1\n",
            "carl 1\n",
            "carload 7\n",
            "carol 5\n",
            "carrot 6\n",
            "cart 1\n",
            "cartload 15\n",
            "cataract 8\n",
            "claro 5\n",
            "collar 6\n",
            "collard 7\n",
            "collator 8\n",
            "color 5\n",
            "colorado 8\n",
            "coral 5\n",
            "cord 1\n",
            "corolla 7\n",
            "corral 6\n",
            "cottar 6\n",
            "craal 5\n",
            "dart 1\n",
            "doctor 6\n",
            "doctoral 15\n",
            "dollar 6\n",
            "dolor 5\n",
            "door 1\n",
            "dorado 6\n",
            "dorr 1\n",
            "dotard 6\n",
            "drat 1\n",
            "droll 5\n",
            "drool 5\n",
            "lard 1\n",
            "locator 7\n",
            "loral 5\n",
            "lord 1\n",
            "odor 1\n",
            "oral 1\n",
            "orator 6\n",
            "orca 1\n",
            "ordo 1\n",
            "orra 1\n",
            "ottar 5\n",
            "radar 5\n",
            "ratal 5\n",
            "ratatat 7\n",
            "rato 1\n",
            "road 1\n",
            "roar 1\n",
            "rococo 6\n",
            "roll 1\n",
            "rood 1\n",
            "root 1\n",
            "rota 1\n",
            "rotator 7\n",
            "rotl 1\n",
            "roto 1\n",
            "rotor 5\n",
            "talar 5\n",
            "tardo 5\n",
            "taro 1\n",
            "taroc 5\n",
            "tarot 5\n",
            "tart 1\n",
            "tartar 6\n",
            "tora 1\n",
            "torc 1\n",
            "toro 1\n",
            "torr 1\n",
            "tort 1\n",
            "tract 5\n",
            "tractor 7\n",
            "trad 1\n",
            "trocar 6\n",
            "trod 1\n",
            "troll 5\n",
            "trot 1\n",
            "Total score 388\n"
          ]
        }
      ],
      "source": [
        "available = 'ACDLORT'\n",
        "required = 'R'\n",
        "\n",
        "total = 0\n",
        "\n",
        "file_object = open('words.txt')\n",
        "for line in file_object:\n",
        "    word = line.strip()\n",
        "    if check_word1(word, available, required):\n",
        "        score = word_score(word, available)\n",
        "        total = total + score\n",
        "        print(word, score)\n",
        "file_object.close()\n",
        "print(\"Total score\", total)"
      ]
    },
    {
      "cell_type": "markdown",
      "metadata": {
        "tags": [],
        "id": "dcc7d983"
      },
      "source": [
        "Visit the \"Spelling Bee\" page at <https://www.nytimes.com/puzzles/spelling-bee> and type in the available letters for the day. The letter in the middle is required.\n",
        "\n",
        "I found a set of letters that spells words with a total score of 5820. Can you beat that? Finding the best set of letters might be too hard -- you have to be a realist."
      ]
    },
    {
      "cell_type": "markdown",
      "source": [
        "## 7.9.5 Explanation\n",
        "For part 1, the first step returns flase if less than 4 letters are used. This step is executed first to save on computations in the case this condition is true, the rest of the code is not needed. Next, the inputs are converted to lowercase so they can be compared easily. Then, a for loop iterates each letter of the word and returns false if any letter is not found in the available letters. If these tests have been passed, then the only remaining condition is that the required letter is used. Therefore a for loop can be used to iterate through the word and return true if the required letter is present. After completing this iteration, false is returned as the required letter would not have been found.\n",
        "\n",
        "---\n",
        "\n",
        "\n",
        "For part 2 the code assumes the word is valid (meaning it has 4 or more letters). Therefore if the word has 4 letters, it is worth 1 point and that value can be returned. Since spelling bee uses 7 letters, a 4 letter word can not be a pangram so there is no need to check that for this case. Then, the code assigns a base score equal to the number of letters in the word. Finally, the code iterates through each letter of the available letters and returns the score if one is not found in the word. If the loop completes, it means that all available letters have been found in the word and the code returns the score plus 7."
      ],
      "metadata": {
        "id": "O0XBzWcljM85"
      }
    },
    {
      "cell_type": "markdown",
      "source": [
        "# 8.12.2\n",
        "See if you can write a function that does the same thing as the shell command !head. It should take as arguments the name of a file to read, the number of lines to read, and the name of the file to write the lines into. If the third parameter is None, it should display the lines rather than write them to a file.\n",
        "\n",
        "Consider asking a virtual assistant for help, but if you do, tell it not to use a with statement or a try statement."
      ],
      "metadata": {
        "id": "aPl-bZKTloxR"
      }
    },
    {
      "cell_type": "code",
      "source": [
        "'''This function reads the first \"lines\" of \"filename\" and writes them to \"newfile\"'''\n",
        "def head(filename, lines, newfile):\n",
        "  file1 = open(filename, 'r')\n",
        "  #check is newfile is None\n",
        "  if newfile == None:\n",
        "    #for the number of lines desired, read each line and print it\n",
        "    for i in range(lines):\n",
        "      print(file1.readline())\n",
        "  #if newfile is not None\n",
        "  else:\n",
        "    #open newfile for writing\n",
        "    file2 = open(newfile, 'w')\n",
        "    #for the number of lines desired, read each line and then write it to newfile\n",
        "    for i in range(lines):\n",
        "        file2.write(file1.readline())\n",
        "    #close files\n",
        "    file2.close()\n",
        "  file1.close()"
      ],
      "metadata": {
        "id": "K5hI7rV7luEh"
      },
      "execution_count": 41,
      "outputs": []
    },
    {
      "cell_type": "markdown",
      "source": [
        "## 8.12.2 Explanation\n",
        "This function takes three arguements: the filename of a file, the number of lines of that file that are requested, and a filename of a newfile that should contain that number of lines from the beginning of the first file.\n",
        "First, this function opens the existing function for reading. Next, the newfile is looked at. If its value is None, a for loop iterates over the number of desired lines and prints each line to the screen. If newfile is not None, then a file with that name is opened for writing and a similar for loop is used, except this one writes to the newfile instead of the screen. The newfile is then closed to concluded the if else structed. Finally, the previous file is closed."
      ],
      "metadata": {
        "id": "YXKexzDJ76h6"
      }
    },
    {
      "cell_type": "markdown",
      "metadata": {
        "id": "adb78357"
      },
      "source": [
        "# 8.12.4\n",
        "\n",
        "\"Wordle\" is an online word game where the objective is to guess a five-letter word in six or fewer attempts.\n",
        "Each attempt has to be recognized as a word, not including proper nouns.\n",
        "After each attempt, you get information about which of the letters you guessed appear in the target word, and which ones are in the correct position.\n",
        "\n",
        "For example, suppose the target word is `MOWER` and you guess `TRIED`.\n",
        "You would learn that `E` is in the word and in the correct position, `R` is in the word but not in the correct position, and `T`, `I`, and `D` are not in the word.\n",
        "\n",
        "As a different example, suppose you have guessed the words `SPADE` and `CLERK`, and you've learned that `E` is in the word, but not in either of those positions, and none of the other letters appear in the word.\n",
        "Of the words in the word list, how many could be the target word?\n",
        "Write a function called `check_word` that takes a five-letter word and checks whether it could be the target word, given these guesses."
      ]
    },
    {
      "cell_type": "code",
      "execution_count": 42,
      "metadata": {
        "id": "2a37092e"
      },
      "outputs": [],
      "source": [
        "''' This function checks to see if a word is a valid Wordle guess with the given information '''\n",
        "def check_word(word):\n",
        "  #Wordle words must be exactly 5 letters\n",
        "  if len(word)!=5:\n",
        "    print(\"Not a 5 letter word\")\n",
        "    return False\n",
        "  #Grayed out letters can not be used anywhere in the word\n",
        "  if uses_any(word,'spadclrkto'):\n",
        "    return False\n",
        "  #An 'e' must be used at least once in the word\n",
        "  if uses_none(word.lower(),'e'):\n",
        "    return False\n",
        "  #The letter 'e' cannot be the third letter\n",
        "  if word[2].lower()=='e':\n",
        "    return False\n",
        "  #The fifth letter must be 'm'\n",
        "  if word[4].lower()!='m':\n",
        "    return False\n",
        "  #The letter 'e' cannot be the fourth letter\n",
        "  if word[3].lower()=='e':\n",
        "    return False\n",
        "  #If all previous if statements evaluate as false, then the word is valid\n",
        "  return True\n",
        "\n",
        "\n"
      ]
    },
    {
      "cell_type": "markdown",
      "metadata": {
        "id": "87fdf676"
      },
      "source": [
        "You can use any of the functions from the previous chapter, like `uses_any`."
      ]
    },
    {
      "cell_type": "code",
      "execution_count": 43,
      "metadata": {
        "tags": [],
        "id": "8d19b6ce"
      },
      "outputs": [],
      "source": [
        "def uses_any(word, letters):\n",
        "  for letter in word.lower():\n",
        "    if letter in letters.lower():\n",
        "      return True\n",
        "  return False"
      ]
    },
    {
      "cell_type": "markdown",
      "metadata": {
        "tags": [],
        "id": "63593f1b"
      },
      "source": [
        "You can use the following loop to test your function."
      ]
    },
    {
      "cell_type": "code",
      "execution_count": 45,
      "metadata": {
        "tags": [],
        "id": "9bbf0b1c",
        "colab": {
          "base_uri": "https://localhost:8080/",
          "height": 0
        },
        "outputId": "aa757bbf-42ad-4ac1-bace-433113771d64"
      },
      "outputs": [
        {
          "output_type": "stream",
          "name": "stdout",
          "text": [
            "begum\n",
            "enzym\n"
          ]
        }
      ],
      "source": [
        "f=open('words.txt')\n",
        "for line in f:\n",
        "    word = line.strip()\n",
        "    if len(word) == 5 and check_word(word):\n",
        "        print(word)\n",
        "f.close()"
      ]
    },
    {
      "cell_type": "markdown",
      "source": [
        "## 8.12.4 Explanation\n",
        "This function first checks if the word is 5 letters and returns flase if not. Then it checks if any of the forbidden letters are used. Next, a series of if statements check if an 'e' is in a position where it shouldn't be and if there isn't a 'm' at the end. If any of these statements are true, False will be returned. If all the statements are false, the function will return true as the word is valid. In this case, begum and enzym are the only two possible answers."
      ],
      "metadata": {
        "id": "kT9H0bBbE9ae"
      }
    },
    {
      "cell_type": "markdown",
      "metadata": {
        "id": "c1d0f892"
      },
      "source": [
        "# 8.12.5\n",
        "\n",
        "*The Count of Monte Cristo* is a novel by Alexandre Dumas that is considered a classic.\n",
        "Nevertheless, in the introduction of an English translation of the book, the writer Umberto Eco confesses that he found the book to be \"one of the most badly written novels of all time\".\n",
        "\n",
        "In particular, he says it is \"shameless in its repetition of the same adjective,\" and mentions in particular the number of times \"its characters either shudder or turn pale.\"\n",
        "\n",
        "To see whether his objection is valid, let's count the number number of lines that contain the word `pale` in any form, including `pale`, `pales`, `paled`, and `paleness`, as well as the related word `pallor`.\n",
        "Use a single regular expression that matches any of these words.\n",
        "As an additional challenge, make sure that it doesn't match any other words, like `impale` -- you might want to ask a virtual assistant for help."
      ]
    },
    {
      "cell_type": "markdown",
      "metadata": {
        "tags": [],
        "id": "742efd98"
      },
      "source": [
        "The following cell downloads the book from Project Gutenberg <https://www.gutenberg.org/ebooks/1184>."
      ]
    },
    {
      "cell_type": "code",
      "execution_count": 46,
      "metadata": {
        "tags": [],
        "id": "9a74be13"
      },
      "outputs": [],
      "source": [
        "import os\n",
        "\n",
        "if not os.path.exists('pg1184.txt'):\n",
        "    !wget https://www.gutenberg.org/cache/epub/1184/pg1184.txt"
      ]
    },
    {
      "cell_type": "markdown",
      "metadata": {
        "tags": [],
        "id": "881c2f99"
      },
      "source": [
        "The following cell runs a function that reads the file from Project Gutenberg and writes a file that contains only the text of the book, not the added information about the book."
      ]
    },
    {
      "cell_type": "code",
      "execution_count": 47,
      "metadata": {
        "tags": [],
        "id": "946c63d2"
      },
      "outputs": [],
      "source": [
        "def is_special_line(line):\n",
        "    return line.startswith('*** ')\n",
        "def clean_file(input_file, output_file):\n",
        "    reader = open(input_file)\n",
        "    writer = open(output_file, 'w')\n",
        "\n",
        "    for line in reader:\n",
        "        if is_special_line(line):\n",
        "            break\n",
        "\n",
        "    for line in reader:\n",
        "        if is_special_line(line):\n",
        "            break\n",
        "        writer.write(line)\n",
        "\n",
        "    reader.close()\n",
        "    writer.close()\n",
        "\n",
        "clean_file('pg1184.txt', 'pg1184_cleaned.txt')"
      ]
    },
    {
      "cell_type": "code",
      "execution_count": 51,
      "metadata": {
        "id": "08294921",
        "colab": {
          "base_uri": "https://localhost:8080/",
          "height": 0
        },
        "outputId": "e0ba7ab8-8328-4709-cca9-665c8998dea0"
      },
      "outputs": [
        {
          "output_type": "stream",
          "name": "stdout",
          "text": [
            "fell into his arms, pale and trembling.\n",
            "\n",
            "“What, no wine?” said Dantès, turning pale, and looking alternately at\n",
            "\n",
            "Fernand, pale and trembling, drew back, like a traveller at the sight\n",
            "\n",
            "rather the expression of sorrow. Suddenly Edmond saw the gloomy, pale,\n",
            "\n",
            "Fernand became deadly pale. “But you are deceived, Edmond,” she\n",
            "\n",
            "then, turning round, he perceived Fernand, who had fallen, pale and\n",
            "\n",
            "that such a being as himself existed, was pale and abstracted;\n",
            "\n",
            "direst torture on him, for his lips became ghastly pale, and even\n",
            "\n",
            "“In an hour?” inquired Danglars, turning pale. “How is that, my\n",
            "\n",
            "Fernand’s paleness appeared to have communicated itself to Danglars. As\n",
            "\n",
            "ghastly pale.\n",
            "\n",
            "his pale agitated lips, and a convulsive spasm passed over his\n",
            "\n",
            "at the door. He was very pale.\n",
            "\n",
            "A despairing cry escaped the pale lips of Mercédès; the old man sank\n",
            "\n",
            "of life. The prisoner whom you there see pale, agitated, and alarmed,\n",
            "\n",
            "“For shame, M. de Villefort!” said Renée, becoming quite pale; “don’t\n",
            "\n",
            "pale, agitated, and as though beaten out of all composure by the fire\n",
            "\n",
            "“How dreadful!” exclaimed Renée, turning pale.\n",
            "\n",
            "instant after Dantès entered. He was pale, but calm and collected, and\n",
            "\n",
            "“M. Noirtier, Rue Coq-Héron, No. 13,” murmured he, growing still paler.\n",
            "\n",
            "more pale.\n",
            "\n",
            "the altar of his father’s faults, appeared to him pale and threatening,\n",
            "\n",
            "of police appeared at the door, pale, trembling, and as if ready to\n",
            "\n",
            "“So then,” he exclaimed, turning pale with anger, “seven conjoined and\n",
            "\n",
            "hung on the speaker’s lips, turned alternately red and pale. The king\n",
            "\n",
            "“It is he!” said Villefort, turning pale.\n",
            "\n",
            "trying conversation. Villefort, pale and agitated, ran to the window,\n",
            "\n",
            "but Fernand looked pale and agitated.”\n",
            "\n",
            "standing in the middle of the room, pale as death, his forehead\n",
            "\n",
            "and paler than marble, more crushed and broken than a reed trampled\n",
            "\n",
            "your paleness and agitation what is passing in your heart at this\n",
            "\n",
            "me, who have grown pale over them by many nights’ study, and have\n",
            "\n",
            "attentions. Spada turned pale, as Cæsar looked at him with an ironical\n",
            "\n",
            "Dantès saw the old man, pale, but yet erect, clinging to the bedstead.\n",
            "\n",
            "feeble ray came into the dungeon, and paled the ineffectual light of\n",
            "\n",
            "On the bed, at full length, and faintly illuminated by the pale light\n",
            "\n",
            "from the sun, had now that pale color which produces, when the features\n",
            "\n",
            "high,” played in floods of pale light on the rocky hills of this second\n",
            "\n",
            "moaning and turning pale.\n",
            "\n",
            "Anyone else would have rushed on with a cry of joy. Dantès turned pale,\n",
            "\n",
            "Dantès found nothing he could not have become more ghastly pale.\n",
            "\n",
            "Radelle, was pale, meagre, and sickly-looking. Born in the neighborhood\n",
            "\n",
            "A deadly pallor followed the flush on the countenance of Caderousse,\n",
            "\n",
            "him so pale and haggard, that believing him very ill, I went and told\n",
            "\n",
            "his seat, with red eyes and pale cheeks.\n",
            "\n",
            "When Caderousse turned around, he saw behind him La Carconte, paler and\n",
            "\n",
            "Caderousse started and turned pale.\n",
            "\n",
            "The young girl turned pale and continued to descend, while the stranger\n",
            "\n",
            "At this almost brutal speech Morrel turned deathly pale.\n",
            "\n",
            "“Oh, my God!” cried Morrel, turning pale, “what is it?”\n",
            "\n",
            "Julie saw the latter leave it pale, trembling, and his features\n",
            "\n",
            "in his pale and careworn visage. They did not dare to ask him how he\n",
            "\n",
            "“Father,” he exclaimed, turning pale as death, “what are you going to\n",
            "\n",
            "Although of a paleness that was almost livid, this man had a remarkably\n",
            "\n",
            "His pallor was so peculiar, that it seemed to pertain to one who had\n",
            "\n",
            "chamber of statues, lighted only by one of those pale and antique lamps\n",
            "\n",
            "the other with the pallor of death on his brow. A terrible battle\n",
            "\n",
            "firelight, the unearthly pallor of the young girl and of Diavolaccio.\n",
            "\n",
            "the unearthly pallor in the young girl and the bandit. A knife was\n",
            "\n",
            "with terror on Rita, pale and bloody, a knife buried in her bosom. A\n",
            "\n",
            "whole band.’ The old man spoke not, and grew pale as death. ‘Now,’\n",
            "\n",
            "glanced at Luigi, and each time she saw that he was pale and that his\n",
            "\n",
            "openings of which the pale moonlight played and flickered like the\n",
            "\n",
            "ours, than anything human. How ghastly pale he is!”\n",
            "\n",
            "burning,—the same ghastly paleness. Then observe, too, that the woman\n",
            "\n",
            "or Humann. He was rather too pale, certainly; but then, you know,\n",
            "\n",
            "paleness is always looked upon as a strong proof of aristocratic\n",
            "\n",
            "unmoved—nay, more, a slight color seemed striving to rise in his pale\n",
            "\n",
            "water, of which, to judge from his pallor, he stood in great need; and\n",
            "\n",
            "equalled the pallor of his own face. Their toilet finished, they\n",
            "\n",
            "Franz had by degrees become accustomed to the count’s pallor, which had\n",
            "\n",
            "rather the principal quality of which was the pallor. Truly, a Byronic\n",
            "\n",
            "with its pale and flickering flame the singular scene which presented\n",
            "\n",
            "pace forward, and a slight tinge of red colored his pale cheeks.\n",
            "\n",
            "was so faint in the room that Albert did not perceive the pallor that\n",
            "\n",
            "husband had entered, pale and motionless; when Monte Cristo turned\n",
            "\n",
            "The count bowed again, but lower than before; he was even paler than\n",
            "\n",
            "now were so pale as you came into the room——”\n",
            "\n",
            "“Was I pale, Albert?”\n",
            "\n",
            "“Yes; a pallor that suits you admirably, mother, but which did not the\n",
            "\n",
            "and his brow, though so pale, is free from wrinkles,—he is not only\n",
            "\n",
            "At these words Bertuccio turned pale.\n",
            "\n",
            "not let fall the lantern, the light showed his pale and altered\n",
            "\n",
            "It is a bad sign; a quiet conscience does not occasion such paleness in\n",
            "\n",
            "glimpses of the pale moon, hidden momentarily by masses of dark clouds\n",
            "\n",
            "feeble step. ‘What do you say?’ asked his wife, pale as death.\n",
            "\n",
            "pale and breathless into his chair.\n",
            "\n",
            "“The man was Caderousse—he was pale and his shirt was all bloody.\n",
            "\n",
            "spoke, Ali turned pale and held down his head.\n",
            "\n",
            "undertone. Madame Danglars turned very pale, then exclaimed:\n",
            "\n",
            "deadly pale he is! My child, my darling Edward; speak to your\n",
            "\n",
            "reached them, ere the boy, though still pale as marble, opened his\n",
            "\n",
            "small for his age, and unnaturally pale. A mass of straight black hair,\n",
            "\n",
            "Madame de Villefort became very pale, and, seizing her son’s arm, drew\n",
            "\n",
            "slender he had now become meagre; once pale, he was now yellow; his\n",
            "\n",
            "“No, no,” returned Monte Cristo, pale as death, pressing one hand on\n",
            "\n",
            "At these words the count’s paleness, which had for some time been\n",
            "\n",
            "Madame de Villefort at this really did turn pale, and was very nearly\n",
            "\n",
            "contrasting vividly with her naturally pale complexion. But that which\n",
            "\n",
            "observe him sooner; “the count?—oh, he is so dreadfully pale.”\n",
            "\n",
            "pallor is what we want to find out. The Countess G—— insists upon it\n",
            "\n",
            "perceived his pale features close to Morcerf’s face. It was as if the\n",
            "\n",
            "Danglars’ box. Upon his return to Haydée he found her still very pale.\n",
            "\n",
            "“I agree with you, monsieur,” said the young man, turning pale, and, in\n",
            "\n",
            "immediate return.” Valentine turned pale, and leaned her hand against\n",
            "\n",
            "The man looked at the bank-notes, felt them, counted them, turned pale,\n",
            "\n",
            "After his wife the banker descended, as pale as though he had issued\n",
            "\n",
            "It was Morrel’s turn to become pale.\n",
            "\n",
            "with their pale lips and staring eyes, ‘We have seen’?”\n",
            "\n",
            "“Ah, madame,” cried Debray, “what is the matter with you? how pale you\n",
            "\n",
            "me back.” Andrea turned pale, but said nothing.\n",
            "\n",
            "had been pronounced; but then she became pale, and, rising, as if\n",
            "\n",
            "“Oh,” said Danglars, becoming very pale, how you are running on!”\n",
            "\n",
            "saw the pale moon shedding a long stream of white light on the spiral\n",
            "\n",
            "pale.\n",
            "\n",
            "Monte Cristo turned pale, and looked at Albert, while playing with some\n",
            "\n",
            "the attention,—it was his pale complexion, his waving black hair, his\n",
            "\n",
            "“Indeed?” said Danglars, becoming pale.\n",
            "\n",
            "obstinately refused. Albert rejoined his mother; she was very pale.\n",
            "\n",
            "Mercédès reappeared, paler than before, but with that imperturbable\n",
            "\n",
            "The count became pale as death, the blood rushed to his heart, and then\n",
            "\n",
            "daughter from Madame de Morcerf’s. He was so pale when he appeared at\n",
            "\n",
            "pale and trembling to the gate under the chestnut-trees.\n",
            "\n",
            "strength and courage to my support. Perhaps I turned pale and trembled,\n",
            "\n",
            "He drew near with his sweet smile, and but for his paleness one might\n",
            "\n",
            "pale with joy extended both hands towards Valentine through the\n",
            "\n",
            "moon shone upon his face, which was so pale it might have been taken\n",
            "\n",
            "mantle-piece threw some of its pale rays without, and a shadow was seen\n",
            "\n",
            "paler, and cast a sepulchral hue over the whole scene. Morrel could not\n",
            "\n",
            "“Extremely,” replied he; “she looked so pale this morning, I scarcely\n",
            "\n",
            "family, for she was pale and looked fatigued. She sat down, took Edward\n",
            "\n",
            "whole party was assembled. Valentine was so pale one might trace the\n",
            "\n",
            "Valentine rose, pale and dumb as a statue. Albert and Château-Renaud\n",
            "\n",
            "very pale; he looked round him a second time, several members of the\n",
            "\n",
            "trembling pallor these details of his father’s death, which had\n",
            "\n",
            "when Valentine, pale with emotion, had wiped away a tear; when\n",
            "\n",
            "startling and ominous,” said Haydée, shaking her head and turning pale\n",
            "\n",
            "me, I can never forget the pale complexion and black eyes of the young\n",
            "\n",
            "night, and was very wretched; we found the pasha calm, but paler than\n",
            "\n",
            "emotion that the perspiration stood upon her pale brow, and her stifled\n",
            "\n",
            "and, intoxicated by their crime, though still pale with fear, they\n",
            "\n",
            "paleness of Haydée’s countenance, “and I reproach myself now for having\n",
            "\n",
            "appear, pale and trembling, to forbid the signing of the contract, like\n",
            "\n",
            "Morcerf, turning pale with anger. The expression of the count’s face\n",
            "\n",
            "distant corner of the room remained half hidden behind a curtain. Pale\n",
            "\n",
            "face became pale and his hair seemed to stand on end, he sprang towards\n",
            "\n",
            "second glance was at the dying man. She turned pale, and her eye passed\n",
            "\n",
            "daughter Madeleine were concerned.” The doctor turned pale. “Doctor,\n",
            "\n",
            "daughter—if I should come one day, pale as a spectre, and say to you,\n",
            "\n",
            "Andrea turned pale, but as it was dark his pallor was not perceptible.\n",
            "\n",
            "Andrea did more than tremble this time, he turned pale.\n",
            "\n",
            "immediately a pale light, just bright enough to render objects\n",
            "\n",
            "Bertuccio alone turned pale whenever Benedetto’s name was mentioned in\n",
            "\n",
            "Albert turned frightfully pale; he endeavored to speak, but the words\n",
            "\n",
            "Yanina and Colonel Fernand, he turned so frightfully pale that every\n",
            "\n",
            "pale, and clenched his hands on the papers he held. The committee\n",
            "\n",
            "“The president paused, and the count turned pale. The president looked\n",
            "\n",
            "A greenish pallor spread over the count’s cheeks, and his eyes became\n",
            "\n",
            "Danglars turned pale; Cavalcanti moved a step forward, and Albert\n",
            "\n",
            "“Sir,” replied Danglars, pale with anger and fear, “I warn you, when I\n",
            "\n",
            "of his mother’s bed. It was evident from his pale face and knit brows\n",
            "\n",
            "becoming paler than the sheet which covered her. “Who told you so? Why,\n",
            "\n",
            "“I?” said Mercédès, blushing as rapidly as she had turned pale, and\n",
            "\n",
            "again becoming paler than ever.\n",
            "\n",
            "The count, in his survey of the pit, encountered a pale face and\n",
            "\n",
            "The door opened, and Monte Cristo, turning round, saw Albert, pale and\n",
            "\n",
            "“Edmond,” continued she, “you will see that if my face is pale, if my\n",
            "\n",
            "shone upon the pale blue paper on which he had just inscribed his\n",
            "\n",
            "sweet pale face, those lovely eyes closed, that beautiful form\n",
            "\n",
            "the club. At each shot Morrel turned pale. He examined the bullets with\n",
            "\n",
            "servant’s arms, and joined them. He was pale, and his eyes were red and\n",
            "\n",
            "As he alighted, he thought he saw his father’s pale face behind the\n",
            "\n",
            "Albert stood pale and motionless to hear what his mother would decide\n",
            "\n",
            "leave everything in perfect order, she did not perceive a pale and\n",
            "\n",
            "Madame de Morcerf’s apartments. From that glass door the pale-faced man\n",
            "\n",
            "“That may be,” said the count, turning pale; “but you know the guilty\n",
            "\n",
            "The Count of Monte Cristo turned dreadfully pale; his eye seemed to\n",
            "\n",
            "beautiful, but her usual pallor had increased; her eyes were more\n",
            "\n",
            "water; I left half, because it seemed so bitter.” Noirtier turned pale,\n",
            "\n",
            "“Yes, look at yourself in that glass; you have turned pale and then red\n",
            "\n",
            "“Indeed,” cried Eugénie, “you are very pale!”\n",
            "\n",
            "Barrois, ran in at the same moment. Valentine was so pale, so cold, so\n",
            "\n",
            "“What is the matter, Maximilian?” asked he; “you are pale, and the\n",
            "\n",
            "“This is a gloomy introduction, if I may judge from your pallor and\n",
            "\n",
            "extreme emotion helped him to disguise a blush, or his pallor, or the\n",
            "\n",
            "sleep on, if they are asleep; let them grow pale in their drowsiness,\n",
            "\n",
            "his lips, awaited the result of the examination. Noirtier, paler than\n",
            "\n",
            "scarcely discernible, they were so pale and white, as well as her whole\n",
            "\n",
            "and become round, his cheeks turn pale and tremble; the perspiration\n",
            "\n",
            "“Unhappy girl, unhappy girl!” murmured Danglars, turning pale, for he\n",
            "\n",
            "“Then,” said Danglars, pale with anger, which was not at all due to\n",
            "\n",
            "lips turned pale, but who preserved his ceremonious smile, Andrea\n",
            "\n",
            "noticeable because of its contrast with the deadly paleness of his\n",
            "\n",
            "Andrea turned pale, and drew towards the door; he saw a cloud rising in\n",
            "\n",
            "slightly pale; Andrea reached the anteroom beyond the little\n",
            "\n",
            "who was paler and more disturbed than herself. On reaching her room\n",
            "\n",
            "Hercules, and you only the pale Omphale!”\n",
            "\n",
            "A pallor overspread the young man’s forehead, and he looked around him\n",
            "\n",
            "“For pity’s sake,” he cried, pale and bewildered, without seeing whom\n",
            "\n",
            "his body a little thrown back, pale, and with the useless knife in his\n",
            "\n",
            "“You know that you are, madame,” said Villefort, whose pale cheeks\n",
            "\n",
            "dwelling?’” The baroness became pale. “You were saying this, were you\n",
            "\n",
            "Madame Danglars rose from her seat, pale and cold.\n",
            "\n",
            "paler even than usual, and my eyes, red with weariness—for four days I\n",
            "\n",
            "who were on the same floor had entered, and seeing Valentine pale and\n",
            "\n",
            "The two men turned round, and saw Morrel standing at the door, pale and\n",
            "\n",
            "place, but his eyes expressed alarm, which was confirmed by the pallor\n",
            "\n",
            "answered. He turned towards Noirtier; the pallor and anguish expressed\n",
            "\n",
            "disordered bed, and the pale corpse of the young girl who was lying on\n",
            "\n",
            "other faculty. That pale face and flaming glance appeared to Villefort\n",
            "\n",
            "entered the room alone. Noirtier was near the bed, pale, motionless,\n",
            "\n",
            "the corpse in chloride of lime, he uncovered the calm and pale face,\n",
            "\n",
            "Danglars again became pale, and hastened to conduct the count out.\n",
            "\n",
            "“How pale he is!” said Château-Renaud, shuddering.\n",
            "\n",
            "The dread with which the pale and motionless baroness listened to this,\n",
            "\n",
            "certificate and check into her pocket-book, and then, standing pale and\n",
            "\n",
            "seen,—pacing to and fro from morning till night, pale, careworn, and\n",
            "\n",
            "Villefort became pale; he understood the old man’s meaning.\n",
            "\n",
            "Villefort remained silent for a moment, and dented his pale cheeks with\n",
            "\n",
            "At the door he paused for a moment to wipe his damp, pale brow. He then\n",
            "\n",
            "“but how pale you are! Have you been working all night? Why did you not\n",
            "\n",
            "The child, unaccustomed to such treatment, arose, pale and trembling;\n",
            "\n",
            "her, while she became deadly pale.\n",
            "\n",
            "frightful pallor of that woman, the anguish of her look, the trembling\n",
            "\n",
            "first pale, had become red and burning; then he suddenly arose and\n",
            "\n",
            "under a violent attack of fever, and yet he was deadly pale.\n",
            "\n",
            "boudoir, Madame de Villefort was standing erect, pale, her features\n",
            "\n",
            "cheeks, but they were icy cold and pale; he felt the stiffened limbs;\n",
            "\n",
            "Monte Cristo became pale at this horrible sight; he felt that he had\n",
            "\n",
            "and Monte Cristo reappeared. Pale, with a dull eye and heavy heart, all\n",
            "\n",
            "burnt. His agitated features presented the appearance of pale and\n",
            "\n",
            "“Suffer hunger?” said Danglars, becoming pale.\n",
            "\n",
            "“The Count of Monte Cristo!” said Danglars, more pale from terror than\n",
            "\n",
            "two rooms. Pale, and sweetly smiling, she looked like an angel of mercy\n",
            "\n",
            "Monte Cristo turned around; Haydée was standing pale, motionless,\n",
            "\n",
            "Haydée became pale, and lifting her transparent hands to heaven,\n",
            "\n",
            "Morrel on her shoulder, “do you not see how pale she is? Do you not see\n",
            "\n",
            "she became pale, a heavy sigh escaped from her bosom, and tears, not\n",
            "\n",
            "238\n"
          ]
        }
      ],
      "source": [
        "'''This code finds the number of lines that a version of the adjective \"pale\" is used in the Count of Monte Cristo'''\n",
        "import re\n",
        "#initialize count as 0\n",
        "count=0\n",
        "#iterate through each line\n",
        "for line in open('pg1184_cleaned.txt'):\n",
        "  ans = re.search(r'\\b(pale|pales|paler|paled|paleness|pallor)\\b', line, re.IGNORECASE)\n",
        "  #if any matches are found on that line, increase the count by 1\n",
        "  if ans != None:\n",
        "    count+=1\n",
        "    print(line)\n",
        "print(count)"
      ]
    },
    {
      "cell_type": "markdown",
      "metadata": {
        "tags": [],
        "id": "7db56337"
      },
      "source": [
        "By this count, these words appear on `223` lines of the book, so Mr. Eco might have a point."
      ]
    },
    {
      "cell_type": "markdown",
      "source": [
        "## 8.12.5 Explanation\n",
        "This function uses real expressions, so the first step is importing re. Next, the count is initialized to 0. The function then iterates through each line in the cleaned text file. For each line, a real expression search is performed using the ignore case flag to see if any of the selected words are used. The words are separated by \"|\" operators to allow the search to return a result if any are found. The \"\\b\" flag is used on each end to allow for punction or other marks surrounding the word, but not other letters (such as the \"im\" in impale). If a result is found, the if statement will be true and the count will increment by 1. At the end of the code, the final value of count will be printed."
      ],
      "metadata": {
        "id": "2U4U70yv16R3"
      }
    },
    {
      "cell_type": "markdown",
      "metadata": {
        "id": "31d5b304"
      },
      "source": [
        "# 9.15.2\n",
        "\n",
        "Two words are anagrams if you can rearrange the letters from one to spell the other.\n",
        "For example, `tops` is an anagram of `stop`.\n",
        "\n",
        "One way to check whether two words are anagrams is to sort the letters in both words.\n",
        "If the lists of sorted letters are the same, the words are anagrams.\n",
        "\n",
        "Write a function called `is_anagram` that takes two strings and returns `True` if they are anagrams."
      ]
    },
    {
      "cell_type": "markdown",
      "metadata": {
        "tags": [],
        "id": "a882bfeb"
      },
      "source": [
        "To get you started, here's an outline of the function with doctests."
      ]
    },
    {
      "cell_type": "code",
      "execution_count": 52,
      "metadata": {
        "tags": [],
        "id": "9c5916ed"
      },
      "outputs": [],
      "source": [
        "def is_anagram(word1, word2):\n",
        "    \"\"\"Checks whether two words are anagrams.\n",
        "\n",
        "    >>> is_anagram('tops', 'stop')\n",
        "    True\n",
        "    >>> is_anagram('skate', 'takes')\n",
        "    True\n",
        "    >>> is_anagram('tops', 'takes')\n",
        "    False\n",
        "    >>> is_anagram('skate', 'stop')\n",
        "    False\n",
        "    \"\"\"\n",
        "    #if the sorted lists are the same, they are anagrams\n",
        "    return sorted(word1)==sorted(word2)"
      ]
    },
    {
      "cell_type": "markdown",
      "metadata": {
        "tags": [],
        "id": "a86e7403"
      },
      "source": [
        "You can use `doctest` to test your function."
      ]
    },
    {
      "cell_type": "code",
      "execution_count": 53,
      "metadata": {
        "tags": [],
        "id": "ce7a96ec"
      },
      "outputs": [],
      "source": [
        "from doctest import run_docstring_examples\n",
        "\n",
        "def run_doctests(func):\n",
        "    run_docstring_examples(func, globals(), name=func.__name__)\n",
        "\n",
        "run_doctests(is_anagram)"
      ]
    },
    {
      "cell_type": "markdown",
      "metadata": {
        "id": "8501f3ba"
      },
      "source": [
        "Using your function and the word list, find all the anagrams of `takes`."
      ]
    },
    {
      "cell_type": "code",
      "execution_count": 54,
      "metadata": {
        "id": "75e17c7b",
        "colab": {
          "base_uri": "https://localhost:8080/",
          "height": 0
        },
        "outputId": "311b14e7-9cf6-42a7-c9fb-70799cdac5ac"
      },
      "outputs": [
        {
          "output_type": "stream",
          "name": "stdout",
          "text": [
            "skate\n",
            "stake\n",
            "steak\n",
            "takes\n",
            "teaks\n"
          ]
        }
      ],
      "source": [
        "'''Find all anagrams of \"takes\"'''\n",
        "\n",
        "#open the word list file and iterate through each line\n",
        "for line in open('words.txt'):\n",
        "  #remove any whitespace\n",
        "    word = line.strip()\n",
        "    #print word if is_anagram returns true with the word and \"takes\" as arguements\n",
        "    if is_anagram(word, 'takes'):\n",
        "        print(word)"
      ]
    },
    {
      "cell_type": "markdown",
      "source": [
        "## 9.15.2 Explanation\n",
        "The is_anagram function returns the value of equality statement of the two words that have been sorted. This will be true if they are anagrams. The next set of code prints all the anagrams of \"takes\" by opening the word list (default of for reading) and then runs the previously made function with the curret word and \"takes\" as the two inputs. If the is_anagram function returns true, the word is printed to the screen."
      ],
      "metadata": {
        "id": "2f6zFSnf7HHY"
      }
    },
    {
      "cell_type": "markdown",
      "metadata": {
        "id": "11386f70"
      },
      "source": [
        "# 9.15.4\n",
        "\n",
        "Write a function called `reverse_sentence` that takes as an argument a string that contains any number of words separated by spaces.\n",
        "It should return a new string that contains the same words in reverse order.\n",
        "For example, if the argument is \"Reverse this sentence\", the result should be \"Sentence this reverse\".\n",
        "\n",
        "Hint: You can use the `capitalize` methods to capitalize the first word and convert the other words to lowercase."
      ]
    },
    {
      "cell_type": "markdown",
      "metadata": {
        "tags": [],
        "id": "13882893"
      },
      "source": [
        "To get you started, here's an outline of the function with doctests."
      ]
    },
    {
      "cell_type": "code",
      "execution_count": 55,
      "metadata": {
        "tags": [],
        "id": "d9b5b362"
      },
      "outputs": [],
      "source": [
        "def reverse_sentence(input_string):\n",
        "    '''Reverse the words in a string and capitalize the first.\n",
        "\n",
        "    >>> reverse_sentence('Reverse this sentence')\n",
        "    'Sentence this reverse'\n",
        "\n",
        "    >>> reverse_sentence('Python')\n",
        "    'Python'\n",
        "\n",
        "    >>> reverse_sentence('')\n",
        "    ''\n",
        "\n",
        "    >>> reverse_sentence('One for all and all for one')\n",
        "    'One for all and all for one'\n",
        "    '''\n",
        "    #Split each word to a entry in a list\n",
        "    oldsentence = input_string.split()\n",
        "    #Reverse the order of entries in the list\n",
        "    oldsentence.reverse()\n",
        "    #Capitialize the first letter and turn the list of words into a string separated by spaces\n",
        "    newsentence = ' '.join(oldsentence).capitalize()\n",
        "    #Return the new reveresed sentence\n",
        "    return newsentence"
      ]
    },
    {
      "cell_type": "code",
      "execution_count": 56,
      "metadata": {
        "tags": [],
        "id": "769d1c7a"
      },
      "outputs": [],
      "source": [
        "run_doctests(reverse_sentence)"
      ]
    },
    {
      "cell_type": "markdown",
      "source": [
        "## 9.15.4 Explanation\n",
        "First, this code uses the split method to split the string by spaces and store each word in a list. Next, the order of words in the list is flipped. Then, the words in this list are joined together with spaces as delimiters and the only the first letter is capitalized using the capitalize method. Finally, the reveresed sentence is returned."
      ],
      "metadata": {
        "id": "owvU6tjLtxKC"
      }
    },
    {
      "cell_type": "markdown",
      "metadata": {
        "id": "fb5f24b1"
      },
      "source": [
        "# 9.15.5\n",
        "\n",
        "Write a function called `total_length` that takes a list of strings and returns the total length of the strings.\n",
        "The total length of the words in `word_list` should be $902{,}728$."
      ]
    },
    {
      "cell_type": "code",
      "source": [
        "'''Find the total length of all the strings in the given file'''\n",
        "def total_length(filename):\n",
        "  length=0 #initialize variable\n",
        "  #iterate through each line of the file\n",
        "  for word in open(filename):\n",
        "    #add the length of the current word (not including whitespace) to the counter\n",
        "    length += len(word.strip())\n",
        "  #return the final value of length\n",
        "  return length\n",
        "total_length('words.txt')"
      ],
      "metadata": {
        "id": "hwKfYyYuuZc4",
        "outputId": "c2fca1f3-a65d-4e8c-9115-66b6935e4b10",
        "colab": {
          "base_uri": "https://localhost:8080/",
          "height": 0
        }
      },
      "execution_count": 57,
      "outputs": [
        {
          "output_type": "execute_result",
          "data": {
            "text/plain": [
              "902728"
            ]
          },
          "metadata": {},
          "execution_count": 57
        }
      ]
    },
    {
      "cell_type": "markdown",
      "source": [
        "## 9.15.5 Explanation\n",
        "This function takes a filename as input. It initializes a counter as 0 and then opens the file and iterates through each line and adds the length of the word to the counter. The strip() method is used so that any whitespace is not counted. After completing the iteration, the cumulative length is returned."
      ],
      "metadata": {
        "id": "U_pvckx3vjDy"
      }
    }
  ]
}