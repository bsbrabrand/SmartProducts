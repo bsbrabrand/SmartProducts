{
  "nbformat": 4,
  "nbformat_minor": 0,
  "metadata": {
    "colab": {
      "provenance": [],
      "toc_visible": true,
      "authorship_tag": "ABX9TyPjBzeZwiIv8jxBLRGM2fas",
      "include_colab_link": true
    },
    "kernelspec": {
      "name": "python3",
      "display_name": "Python 3"
    },
    "language_info": {
      "name": "python"
    }
  },
  "cells": [
    {
      "cell_type": "markdown",
      "metadata": {
        "id": "view-in-github",
        "colab_type": "text"
      },
      "source": [
        "<a href=\"https://colab.research.google.com/github/bsbrabrand/SmartProducts/blob/main/HW3.ipynb\" target=\"_parent\"><img src=\"https://colab.research.google.com/assets/colab-badge.svg\" alt=\"Open In Colab\"/></a>"
      ]
    },
    {
      "cell_type": "code",
      "source": [
        "from os.path import basename, exists\n",
        "\n",
        "def download(url):\n",
        "    filename = basename(url)\n",
        "    if not exists(filename):\n",
        "        from urllib.request import urlretrieve\n",
        "\n",
        "        local, _ = urlretrieve(url, filename)\n",
        "        print(\"Downloaded \" + str(local))\n",
        "    return filename\n",
        "\n",
        "download('https://github.com/AllenDowney/ThinkPython/raw/v3/thinkpython.py');\n",
        "download('https://github.com/AllenDowney/ThinkPython/raw/v3/diagram.py');\n",
        "\n",
        "import thinkpython"
      ],
      "metadata": {
        "colab": {
          "base_uri": "https://localhost:8080/"
        },
        "id": "loa4G927wdYb",
        "outputId": "c18b5ea7-1f7c-4bf5-e0d4-2f561c73d844"
      },
      "execution_count": null,
      "outputs": [
        {
          "output_type": "stream",
          "name": "stdout",
          "text": [
            "Downloaded thinkpython.py\n",
            "Downloaded diagram.py\n"
          ]
        }
      ]
    },
    {
      "cell_type": "markdown",
      "metadata": {
        "id": "99eff99e"
      },
      "source": [
        "# 7.9.2\n",
        "\n",
        "Write a function named `uses_none` that takes a word and a string of forbidden letters, and returns `True` if the word does not use any of the forbidden letters.\n",
        "\n",
        "Here's an outline of the function that includes two doctests.\n",
        "Fill in the function so it passes these tests, and add at least one more doctest."
      ]
    },
    {
      "cell_type": "code",
      "execution_count": null,
      "metadata": {
        "id": "6c825b80"
      },
      "outputs": [],
      "source": [
        "def uses_none(word, forbidden):\n",
        "    \"\"\"Checks whether a word avoid forbidden letters.\n",
        "\n",
        "    >>> uses_none('banana', 'xyz')\n",
        "    True\n",
        "    >>> uses_none('apple', 'efg')\n",
        "    False\n",
        "    >>> uses_none('orange', 'abc')\n",
        "    False\n",
        "    \"\"\"\n",
        "    for letter in word:\n",
        "        if letter in forbidden:\n",
        "            return False\n",
        "    return True"
      ]
    },
    {
      "cell_type": "code",
      "execution_count": null,
      "metadata": {
        "tags": [],
        "id": "2bed91e7",
        "outputId": "e38d2880-044f-4c8f-9f26-d35a2b796378",
        "colab": {
          "base_uri": "https://localhost:8080/"
        }
      },
      "outputs": [
        {
          "output_type": "stream",
          "name": "stderr",
          "text": [
            "\n",
            "PYDEV DEBUGGER WARNING:\n",
            "sys.settrace() should not be used when the debugger is being used.\n",
            "This may cause the debugger to stop working correctly.\n",
            "If this is needed, please check: \n",
            "http://pydev.blogspot.com/2007/06/why-cant-pydev-debugger-work-with.html\n",
            "to see how to restore the debug tracing back correctly.\n",
            "Call Location:\n",
            "  File \"/usr/lib/python3.11/doctest.py\", line 1523, in run\n",
            "    sys.settrace(save_trace)\n",
            "\n"
          ]
        }
      ],
      "source": [
        "from doctest import run_docstring_examples\n",
        "def run_doctests(func):\n",
        "    run_docstring_examples(func, globals(), name=func.__name__)\n",
        "run_doctests(uses_none)"
      ]
    },
    {
      "cell_type": "markdown",
      "source": [
        "## 7.9.2 Explanation\n",
        "This function goes through each letter in the input word and checks it with each letter of the forbidden letters. If a match is found, the function immediately returns false. Otherwise it will return true after checking all the letters with no match."
      ],
      "metadata": {
        "id": "_F61XT4axMWj"
      }
    },
    {
      "cell_type": "markdown",
      "metadata": {
        "id": "7210adfa"
      },
      "source": [
        "# 7.9.5\n",
        "\n",
        "*The New York Times* publishes a daily puzzle called \"Spelling Bee\" that challenges readers to spell as many words as possible using only seven letters, where one of the letters is required.\n",
        "The words must have at least four letters.\n",
        "\n",
        "For example, on the day I wrote this, the letters were `ACDLORT`, with `R` as the required letter.\n",
        "So \"color\" is an acceptable word, but \"told\" is not, because it does not use `R`, and \"rat\" is not because it has only three letters.\n",
        "Letters can be repeated, so \"ratatat\" is acceptable.\n",
        "\n",
        "Write a function called `check_word` that checks whether a given word is acceptable.\n",
        "It should take as parameters the word to check, a string of seven available letters, and a string containing the single required letter.\n",
        "You can use the functions you wrote in previous exercises.\n",
        "\n",
        "Here's an outline of the function that includes doctests.\n",
        "Fill in the function and then check that all tests pass."
      ]
    },
    {
      "cell_type": "code",
      "source": [
        "download('https://raw.githubusercontent.com/AllenDowney/ThinkPython/v3/words.txt');"
      ],
      "metadata": {
        "id": "UgZXtFwzyIAP",
        "outputId": "188cfa2d-f5cc-48ab-c15a-12263b342929",
        "colab": {
          "base_uri": "https://localhost:8080/"
        }
      },
      "execution_count": 34,
      "outputs": [
        {
          "output_type": "stream",
          "name": "stdout",
          "text": [
            "Downloaded words.txt\n"
          ]
        }
      ]
    },
    {
      "cell_type": "code",
      "execution_count": 37,
      "metadata": {
        "id": "576ee509"
      },
      "outputs": [],
      "source": [
        "def check_word(word, available, required):\n",
        "    \"\"\"Check whether a word is acceptable.\n",
        "\n",
        "    >>> check_word('color', 'ACDLORT', 'R')\n",
        "    True\n",
        "    >>> check_word('ratatat', 'ACDLORT', 'R')\n",
        "    True\n",
        "    >>> check_word('rat', 'ACDLORT', 'R')\n",
        "    False\n",
        "    >>> check_word('told', 'ACDLORT', 'R')\n",
        "    False\n",
        "    >>> check_word('bee', 'ACDLORT', 'R')\n",
        "    False\n",
        "    \"\"\"\n",
        "    #check for minimum word length\n",
        "    if len(word) < 4:\n",
        "      return False\n",
        "    #set all to lowercase for comparison\n",
        "    word=word.lower()\n",
        "    available=available.lower()\n",
        "    required=required.lower()\n",
        "    #check for any letters used that are not available\n",
        "    for letter in word:\n",
        "      if letter not in available:\n",
        "        return False\n",
        "    #check that required letter is used\n",
        "    for letter in word:\n",
        "      if letter == required:\n",
        "        return True\n",
        "    #after looping through all letters, return false as the required letter was not found\n",
        "    return False"
      ]
    },
    {
      "cell_type": "code",
      "execution_count": 39,
      "metadata": {
        "tags": [],
        "id": "23ed7f79"
      },
      "outputs": [],
      "source": [
        "run_doctests(check_word)"
      ]
    },
    {
      "cell_type": "markdown",
      "metadata": {
        "id": "0b9589fc"
      },
      "source": [
        "According to the \"Spelling Bee\" rules,\n",
        "\n",
        "* Four-letter words are worth 1 point each.\n",
        "\n",
        "* Longer words earn 1 point per letter.\n",
        "\n",
        "* Each puzzle includes at least one \"pangram\" which uses every letter. These are worth 7 extra points!\n",
        "\n",
        "Write a function called `score_word` that takes a word and a string of available letters and returns its score.\n",
        "You can assume that the word is acceptable.\n",
        "\n",
        "Again, here's an outline of the function with doctests."
      ]
    },
    {
      "cell_type": "code",
      "execution_count": 31,
      "metadata": {
        "id": "11b69de0"
      },
      "outputs": [],
      "source": [
        "def word_score(word, available):\n",
        "    \"\"\"Compute the score for an acceptable word.\n",
        "\n",
        "    >>> word_score('card', 'ACDLORT')\n",
        "    1\n",
        "    >>> word_score('color', 'ACDLORT')\n",
        "    5\n",
        "    >>> word_score('cartload', 'ACDLORT')\n",
        "    15\n",
        "    \"\"\"\n",
        "    #check simple case\n",
        "    if len(word)==4:\n",
        "      return 1\n",
        "    #base score\n",
        "    score = len(word)\n",
        "    #check for pangram\n",
        "    for letter in available.lower():\n",
        "      if letter not in word.lower():\n",
        "        return score\n",
        "    return score+7"
      ]
    },
    {
      "cell_type": "code",
      "execution_count": 36,
      "metadata": {
        "tags": [],
        "id": "eb8e8745"
      },
      "outputs": [],
      "source": [
        "run_doctests(word_score)"
      ]
    },
    {
      "cell_type": "markdown",
      "metadata": {
        "tags": [],
        "id": "82e5283b"
      },
      "source": [
        "When all of your functions pass their tests, use the following loop to search the word list for acceptable words and add up their scores."
      ]
    },
    {
      "cell_type": "code",
      "execution_count": 35,
      "metadata": {
        "tags": [],
        "id": "6965f673",
        "colab": {
          "base_uri": "https://localhost:8080/"
        },
        "outputId": "e09c532b-ebaa-4c1f-b731-b45b396124b3"
      },
      "outputs": [
        {
          "output_type": "stream",
          "name": "stdout",
          "text": [
            "accord 6\n",
            "actor 5\n",
            "alar 1\n",
            "altar 5\n",
            "aorta 5\n",
            "aortal 6\n",
            "arco 1\n",
            "ardor 5\n",
            "artal 5\n",
            "attar 5\n",
            "attract 7\n",
            "calcar 6\n",
            "caracal 7\n",
            "caracara 8\n",
            "caracol 7\n",
            "carat 5\n",
            "card 1\n",
            "carl 1\n",
            "carload 7\n",
            "carol 5\n",
            "carrot 6\n",
            "cart 1\n",
            "cartload 15\n",
            "cataract 8\n",
            "claro 5\n",
            "collar 6\n",
            "collard 7\n",
            "collator 8\n",
            "color 5\n",
            "colorado 8\n",
            "coral 5\n",
            "cord 1\n",
            "corolla 7\n",
            "corral 6\n",
            "cottar 6\n",
            "craal 5\n",
            "dart 1\n",
            "doctor 6\n",
            "doctoral 15\n",
            "dollar 6\n",
            "dolor 5\n",
            "door 1\n",
            "dorado 6\n",
            "dorr 1\n",
            "dotard 6\n",
            "drat 1\n",
            "droll 5\n",
            "drool 5\n",
            "lard 1\n",
            "locator 7\n",
            "loral 5\n",
            "lord 1\n",
            "odor 1\n",
            "oral 1\n",
            "orator 6\n",
            "orca 1\n",
            "ordo 1\n",
            "orra 1\n",
            "ottar 5\n",
            "radar 5\n",
            "ratal 5\n",
            "ratatat 7\n",
            "rato 1\n",
            "road 1\n",
            "roar 1\n",
            "rococo 6\n",
            "roll 1\n",
            "rood 1\n",
            "root 1\n",
            "rota 1\n",
            "rotator 7\n",
            "rotl 1\n",
            "roto 1\n",
            "rotor 5\n",
            "talar 5\n",
            "tardo 5\n",
            "taro 1\n",
            "taroc 5\n",
            "tarot 5\n",
            "tart 1\n",
            "tartar 6\n",
            "tora 1\n",
            "torc 1\n",
            "toro 1\n",
            "torr 1\n",
            "tort 1\n",
            "tract 5\n",
            "tractor 7\n",
            "trad 1\n",
            "trocar 6\n",
            "trod 1\n",
            "troll 5\n",
            "trot 1\n",
            "Total score 388\n"
          ]
        }
      ],
      "source": [
        "available = 'ACDLORT'\n",
        "required = 'R'\n",
        "\n",
        "total = 0\n",
        "\n",
        "file_object = open('words.txt')\n",
        "for line in file_object:\n",
        "    word = line.strip()\n",
        "    if check_word(word, available, required):\n",
        "        score = word_score(word, available)\n",
        "        total = total + score\n",
        "        print(word, score)\n",
        "\n",
        "print(\"Total score\", total)"
      ]
    },
    {
      "cell_type": "markdown",
      "metadata": {
        "tags": [],
        "id": "dcc7d983"
      },
      "source": [
        "Visit the \"Spelling Bee\" page at <https://www.nytimes.com/puzzles/spelling-bee> and type in the available letters for the day. The letter in the middle is required.\n",
        "\n",
        "I found a set of letters that spells words with a total score of 5820. Can you beat that? Finding the best set of letters might be too hard -- you have to be a realist."
      ]
    },
    {
      "cell_type": "markdown",
      "source": [
        "## 7.9.5 Explanation\n",
        "For part 1, the first step returns flase if less than 4 letters are used. This step is executed first to save on computations in the case this condition is true, the rest of the code is not needed. Next, the inputs are converted to lowercase so they can be compared easily. Then, a for loop iterates each letter of the word and returns false if any letter is not found in the available letters. If these tests have been passed, then the only remaining condition is that the required letter is used. Therefore a for loop can be used to iterate through the word and return true if the required letter is present. After completing this iteration, false is returned as the required letter would not have been found.\n",
        "\n",
        "---\n",
        "\n",
        "\n",
        "For part 2 the code assumes the word is valid (meaning it has 4 or more letters). Therefore if the word has 4 letters, it is worth 1 point and that value can be returned. Since spelling bee uses 7 letters, a 4 letter word can not be a pangram so there is no need to check that for this case. Then, the code assigns a base score equal to the number of letters in the word. Finally, the code iterates through each letter of the available letters and returns the score if one is not found in the word. If the loop completes, it means that all available letters have been found in the word and the code returns the score plus 7."
      ],
      "metadata": {
        "id": "O0XBzWcljM85"
      }
    },
    {
      "cell_type": "markdown",
      "source": [
        "# 8.12.2\n",
        "See if you can write a function that does the same thing as the shell command !head. It should take as arguments the name of a file to read, the number of lines to read, and the name of the file to write the lines into. If the third parameter is None, it should display the lines rather than write them to a file.\n",
        "\n",
        "Consider asking a virtual assistant for help, but if you do, tell it not to use a with statement or a try statement."
      ],
      "metadata": {
        "id": "aPl-bZKTloxR"
      }
    },
    {
      "cell_type": "code",
      "source": [
        "def head(filename, lines, newfile):\n",
        "  file1 = open(filename, 'r')\n",
        "  file2 = open(newfile, 'w')\n",
        "  for i in range(lines):\n",
        "    if newfile == None:\n",
        "      print(file1.readline())\n",
        "    else:\n",
        "      file2.write(file1.readline())\n",
        "  file1.close()\n",
        "  file2.close()\n"
      ],
      "metadata": {
        "id": "K5hI7rV7luEh"
      },
      "execution_count": 40,
      "outputs": []
    }
  ]
}