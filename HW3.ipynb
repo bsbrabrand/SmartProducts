{
  "nbformat": 4,
  "nbformat_minor": 0,
  "metadata": {
    "colab": {
      "provenance": [],
      "toc_visible": true,
      "authorship_tag": "ABX9TyMqrAOEsDy+SWK+sGEPWHz3",
      "include_colab_link": true
    },
    "kernelspec": {
      "name": "python3",
      "display_name": "Python 3"
    },
    "language_info": {
      "name": "python"
    }
  },
  "cells": [
    {
      "cell_type": "markdown",
      "metadata": {
        "id": "view-in-github",
        "colab_type": "text"
      },
      "source": [
        "<a href=\"https://colab.research.google.com/github/bsbrabrand/SmartProducts/blob/main/HW3.ipynb\" target=\"_parent\"><img src=\"https://colab.research.google.com/assets/colab-badge.svg\" alt=\"Open In Colab\"/></a>"
      ]
    },
    {
      "cell_type": "markdown",
      "source": [
        "#Bennett Brabrand"
      ],
      "metadata": {
        "id": "Dtc4jnTO8sea"
      }
    },
    {
      "cell_type": "code",
      "source": [
        "from os.path import basename, exists\n",
        "\n",
        "def download(url):\n",
        "    filename = basename(url)\n",
        "    if not exists(filename):\n",
        "        from urllib.request import urlretrieve\n",
        "\n",
        "        local, _ = urlretrieve(url, filename)\n",
        "        print(\"Downloaded \" + str(local))\n",
        "    return filename\n",
        "\n",
        "download('https://github.com/AllenDowney/ThinkPython/raw/v3/thinkpython.py');\n",
        "download('https://github.com/AllenDowney/ThinkPython/raw/v3/diagram.py');\n",
        "\n",
        "import thinkpython"
      ],
      "metadata": {
        "colab": {
          "base_uri": "https://localhost:8080/"
        },
        "id": "loa4G927wdYb",
        "outputId": "d2616ccb-6c76-46fc-daf8-d7457f98f5f5"
      },
      "execution_count": 36,
      "outputs": [
        {
          "output_type": "stream",
          "name": "stdout",
          "text": [
            "Downloaded thinkpython.py\n",
            "Downloaded diagram.py\n"
          ]
        }
      ]
    },
    {
      "cell_type": "markdown",
      "metadata": {
        "id": "99eff99e"
      },
      "source": [
        "# 7.9.2\n",
        "\n",
        "Write a function named `uses_none` that takes a word and a string of forbidden letters, and returns `True` if the word does not use any of the forbidden letters.\n",
        "\n",
        "Here's an outline of the function that includes two doctests.\n",
        "Fill in the function so it passes these tests, and add at least one more doctest."
      ]
    },
    {
      "cell_type": "code",
      "execution_count": null,
      "metadata": {
        "id": "6c825b80"
      },
      "outputs": [],
      "source": [
        "def uses_none(word, forbidden):\n",
        "    \"\"\"Checks whether a word avoid forbidden letters.\n",
        "\n",
        "    >>> uses_none('banana', 'xyz')\n",
        "    True\n",
        "    >>> uses_none('apple', 'efg')\n",
        "    False\n",
        "    >>> uses_none('orange', 'abc')\n",
        "    False\n",
        "    \"\"\"\n",
        "    #iterate through each letter\n",
        "    for letter in word:\n",
        "      #check if a letter is in the list of forbidden letters\n",
        "        if letter in forbidden:\n",
        "            return False\n",
        "    return True"
      ]
    },
    {
      "cell_type": "code",
      "execution_count": null,
      "metadata": {
        "tags": [],
        "id": "2bed91e7",
        "outputId": "e38d2880-044f-4c8f-9f26-d35a2b796378",
        "colab": {
          "base_uri": "https://localhost:8080/"
        }
      },
      "outputs": [
        {
          "output_type": "stream",
          "name": "stderr",
          "text": [
            "\n",
            "PYDEV DEBUGGER WARNING:\n",
            "sys.settrace() should not be used when the debugger is being used.\n",
            "This may cause the debugger to stop working correctly.\n",
            "If this is needed, please check: \n",
            "http://pydev.blogspot.com/2007/06/why-cant-pydev-debugger-work-with.html\n",
            "to see how to restore the debug tracing back correctly.\n",
            "Call Location:\n",
            "  File \"/usr/lib/python3.11/doctest.py\", line 1523, in run\n",
            "    sys.settrace(save_trace)\n",
            "\n"
          ]
        }
      ],
      "source": [
        "from doctest import run_docstring_examples\n",
        "def run_doctests(func):\n",
        "    run_docstring_examples(func, globals(), name=func.__name__)\n",
        "run_doctests(uses_none)"
      ]
    },
    {
      "cell_type": "markdown",
      "source": [
        "## 7.9.2 Explanation\n",
        "This function goes through each letter in the input word and checks it with each letter of the forbidden letters. If a match is found, the function immediately returns false. Otherwise it will return true after checking all the letters with no match."
      ],
      "metadata": {
        "id": "_F61XT4axMWj"
      }
    },
    {
      "cell_type": "markdown",
      "metadata": {
        "id": "7210adfa"
      },
      "source": [
        "# 7.9.5\n",
        "\n",
        "*The New York Times* publishes a daily puzzle called \"Spelling Bee\" that challenges readers to spell as many words as possible using only seven letters, where one of the letters is required.\n",
        "The words must have at least four letters.\n",
        "\n",
        "For example, on the day I wrote this, the letters were `ACDLORT`, with `R` as the required letter.\n",
        "So \"color\" is an acceptable word, but \"told\" is not, because it does not use `R`, and \"rat\" is not because it has only three letters.\n",
        "Letters can be repeated, so \"ratatat\" is acceptable.\n",
        "\n",
        "Write a function called `check_word` that checks whether a given word is acceptable.\n",
        "It should take as parameters the word to check, a string of seven available letters, and a string containing the single required letter.\n",
        "You can use the functions you wrote in previous exercises.\n",
        "\n",
        "Here's an outline of the function that includes doctests.\n",
        "Fill in the function and then check that all tests pass."
      ]
    },
    {
      "cell_type": "code",
      "source": [
        "download('https://raw.githubusercontent.com/AllenDowney/ThinkPython/v3/words.txt');"
      ],
      "metadata": {
        "id": "UgZXtFwzyIAP",
        "colab": {
          "base_uri": "https://localhost:8080/"
        },
        "outputId": "bd92f729-07fe-4e92-e30a-760a44b08854"
      },
      "execution_count": 37,
      "outputs": [
        {
          "output_type": "stream",
          "name": "stdout",
          "text": [
            "Downloaded words.txt\n"
          ]
        }
      ]
    },
    {
      "cell_type": "code",
      "execution_count": null,
      "metadata": {
        "id": "576ee509"
      },
      "outputs": [],
      "source": [
        "def check_word(word, available, required):\n",
        "    \"\"\"Check whether a word is acceptable.\n",
        "\n",
        "    >>> check_word('color', 'ACDLORT', 'R')\n",
        "    True\n",
        "    >>> check_word('ratatat', 'ACDLORT', 'R')\n",
        "    True\n",
        "    >>> check_word('rat', 'ACDLORT', 'R')\n",
        "    False\n",
        "    >>> check_word('told', 'ACDLORT', 'R')\n",
        "    False\n",
        "    >>> check_word('bee', 'ACDLORT', 'R')\n",
        "    False\n",
        "    \"\"\"\n",
        "    #check for minimum word length\n",
        "    if len(word) < 4:\n",
        "      return False\n",
        "    #set all to lowercase for comparison\n",
        "    word=word.lower()\n",
        "    available=available.lower()\n",
        "    required=required.lower()\n",
        "    #check for any letters used that are not available\n",
        "    for letter in word:\n",
        "      if letter not in available:\n",
        "        return False\n",
        "    #check that required letter is used\n",
        "    for letter in word:\n",
        "      if letter == required:\n",
        "        return True\n",
        "    #after looping through all letters, return false as the required letter was not found\n",
        "    return False"
      ]
    },
    {
      "cell_type": "code",
      "execution_count": null,
      "metadata": {
        "tags": [],
        "id": "23ed7f79"
      },
      "outputs": [],
      "source": [
        "run_doctests(check_word)"
      ]
    },
    {
      "cell_type": "markdown",
      "metadata": {
        "id": "0b9589fc"
      },
      "source": [
        "According to the \"Spelling Bee\" rules,\n",
        "\n",
        "* Four-letter words are worth 1 point each.\n",
        "\n",
        "* Longer words earn 1 point per letter.\n",
        "\n",
        "* Each puzzle includes at least one \"pangram\" which uses every letter. These are worth 7 extra points!\n",
        "\n",
        "Write a function called `score_word` that takes a word and a string of available letters and returns its score.\n",
        "You can assume that the word is acceptable.\n",
        "\n",
        "Again, here's an outline of the function with doctests."
      ]
    },
    {
      "cell_type": "code",
      "execution_count": null,
      "metadata": {
        "id": "11b69de0"
      },
      "outputs": [],
      "source": [
        "def word_score(word, available):\n",
        "    \"\"\"Compute the score for an acceptable word.\n",
        "\n",
        "    >>> word_score('card', 'ACDLORT')\n",
        "    1\n",
        "    >>> word_score('color', 'ACDLORT')\n",
        "    5\n",
        "    >>> word_score('cartload', 'ACDLORT')\n",
        "    15\n",
        "    \"\"\"\n",
        "    #check simple case\n",
        "    if len(word)==4:\n",
        "      return 1\n",
        "    #base score\n",
        "    score = len(word)\n",
        "    #check for pangram\n",
        "    for letter in available.lower():\n",
        "      if letter not in word.lower():\n",
        "        return score #not a pangram\n",
        "    return score+7 #is a pangram"
      ]
    },
    {
      "cell_type": "code",
      "execution_count": null,
      "metadata": {
        "tags": [],
        "id": "eb8e8745"
      },
      "outputs": [],
      "source": [
        "run_doctests(word_score)"
      ]
    },
    {
      "cell_type": "markdown",
      "metadata": {
        "tags": [],
        "id": "82e5283b"
      },
      "source": [
        "When all of your functions pass their tests, use the following loop to search the word list for acceptable words and add up their scores."
      ]
    },
    {
      "cell_type": "code",
      "execution_count": null,
      "metadata": {
        "tags": [],
        "id": "6965f673",
        "colab": {
          "base_uri": "https://localhost:8080/"
        },
        "outputId": "e09c532b-ebaa-4c1f-b731-b45b396124b3"
      },
      "outputs": [
        {
          "output_type": "stream",
          "name": "stdout",
          "text": [
            "accord 6\n",
            "actor 5\n",
            "alar 1\n",
            "altar 5\n",
            "aorta 5\n",
            "aortal 6\n",
            "arco 1\n",
            "ardor 5\n",
            "artal 5\n",
            "attar 5\n",
            "attract 7\n",
            "calcar 6\n",
            "caracal 7\n",
            "caracara 8\n",
            "caracol 7\n",
            "carat 5\n",
            "card 1\n",
            "carl 1\n",
            "carload 7\n",
            "carol 5\n",
            "carrot 6\n",
            "cart 1\n",
            "cartload 15\n",
            "cataract 8\n",
            "claro 5\n",
            "collar 6\n",
            "collard 7\n",
            "collator 8\n",
            "color 5\n",
            "colorado 8\n",
            "coral 5\n",
            "cord 1\n",
            "corolla 7\n",
            "corral 6\n",
            "cottar 6\n",
            "craal 5\n",
            "dart 1\n",
            "doctor 6\n",
            "doctoral 15\n",
            "dollar 6\n",
            "dolor 5\n",
            "door 1\n",
            "dorado 6\n",
            "dorr 1\n",
            "dotard 6\n",
            "drat 1\n",
            "droll 5\n",
            "drool 5\n",
            "lard 1\n",
            "locator 7\n",
            "loral 5\n",
            "lord 1\n",
            "odor 1\n",
            "oral 1\n",
            "orator 6\n",
            "orca 1\n",
            "ordo 1\n",
            "orra 1\n",
            "ottar 5\n",
            "radar 5\n",
            "ratal 5\n",
            "ratatat 7\n",
            "rato 1\n",
            "road 1\n",
            "roar 1\n",
            "rococo 6\n",
            "roll 1\n",
            "rood 1\n",
            "root 1\n",
            "rota 1\n",
            "rotator 7\n",
            "rotl 1\n",
            "roto 1\n",
            "rotor 5\n",
            "talar 5\n",
            "tardo 5\n",
            "taro 1\n",
            "taroc 5\n",
            "tarot 5\n",
            "tart 1\n",
            "tartar 6\n",
            "tora 1\n",
            "torc 1\n",
            "toro 1\n",
            "torr 1\n",
            "tort 1\n",
            "tract 5\n",
            "tractor 7\n",
            "trad 1\n",
            "trocar 6\n",
            "trod 1\n",
            "troll 5\n",
            "trot 1\n",
            "Total score 388\n"
          ]
        }
      ],
      "source": [
        "available = 'ACDLORT'\n",
        "required = 'R'\n",
        "\n",
        "total = 0\n",
        "\n",
        "file_object = open('words.txt')\n",
        "for line in file_object:\n",
        "    word = line.strip()\n",
        "    if check_word(word, available, required):\n",
        "        score = word_score(word, available)\n",
        "        total = total + score\n",
        "        print(word, score)\n",
        "\n",
        "print(\"Total score\", total)"
      ]
    },
    {
      "cell_type": "markdown",
      "metadata": {
        "tags": [],
        "id": "dcc7d983"
      },
      "source": [
        "Visit the \"Spelling Bee\" page at <https://www.nytimes.com/puzzles/spelling-bee> and type in the available letters for the day. The letter in the middle is required.\n",
        "\n",
        "I found a set of letters that spells words with a total score of 5820. Can you beat that? Finding the best set of letters might be too hard -- you have to be a realist."
      ]
    },
    {
      "cell_type": "markdown",
      "source": [
        "## 7.9.5 Explanation\n",
        "For part 1, the first step returns flase if less than 4 letters are used. This step is executed first to save on computations in the case this condition is true, the rest of the code is not needed. Next, the inputs are converted to lowercase so they can be compared easily. Then, a for loop iterates each letter of the word and returns false if any letter is not found in the available letters. If these tests have been passed, then the only remaining condition is that the required letter is used. Therefore a for loop can be used to iterate through the word and return true if the required letter is present. After completing this iteration, false is returned as the required letter would not have been found.\n",
        "\n",
        "---\n",
        "\n",
        "\n",
        "For part 2 the code assumes the word is valid (meaning it has 4 or more letters). Therefore if the word has 4 letters, it is worth 1 point and that value can be returned. Since spelling bee uses 7 letters, a 4 letter word can not be a pangram so there is no need to check that for this case. Then, the code assigns a base score equal to the number of letters in the word. Finally, the code iterates through each letter of the available letters and returns the score if one is not found in the word. If the loop completes, it means that all available letters have been found in the word and the code returns the score plus 7."
      ],
      "metadata": {
        "id": "O0XBzWcljM85"
      }
    },
    {
      "cell_type": "markdown",
      "source": [
        "# 8.12.2\n",
        "See if you can write a function that does the same thing as the shell command !head. It should take as arguments the name of a file to read, the number of lines to read, and the name of the file to write the lines into. If the third parameter is None, it should display the lines rather than write them to a file.\n",
        "\n",
        "Consider asking a virtual assistant for help, but if you do, tell it not to use a with statement or a try statement."
      ],
      "metadata": {
        "id": "aPl-bZKTloxR"
      }
    },
    {
      "cell_type": "code",
      "source": [
        "#This function reads the first \"lines\" of \"filename\" and writes them to \"newfile\"\n",
        "def head(filename, lines, newfile):\n",
        "  file1 = open(filename, 'r')\n",
        "  #check is newfile is None\n",
        "  if newfile == None:\n",
        "    #for the number of lines desired, read each line and print it\n",
        "    for i in range(lines):\n",
        "      print(file1.readline())\n",
        "  #if newfile is not None\n",
        "  else:\n",
        "    #open newfile for writing\n",
        "    file2 = open(newfile, 'w')\n",
        "    #for the number of lines desired, read each line and then write it to newfile\n",
        "    for i in range(lines):\n",
        "        file2.write(file1.readline())\n",
        "    #close files\n",
        "    file2.close()\n",
        "  file1.close()"
      ],
      "metadata": {
        "id": "K5hI7rV7luEh"
      },
      "execution_count": null,
      "outputs": []
    },
    {
      "cell_type": "markdown",
      "source": [
        "## 8.12.2 Explanation\n",
        "This function takes three arguements: the filename of a file, the number of lines of that file that are requested, and a filename of a newfile that should contain that number of lines from the beginning of the first file.\n",
        "First, this function opens the existing function for reading. Next, the newfile is looked at. If its value is None, a for loop iterates over the number of desired lines and prints each line to the screen. If newfile is not None, then a file with that name is opened for writing and a similar for loop is used, except this one writes to the newfile instead of the screen. The newfile is then closed to concluded the if else structed. Finally, the previous file is closed."
      ],
      "metadata": {
        "id": "YXKexzDJ76h6"
      }
    },
    {
      "cell_type": "markdown",
      "metadata": {
        "id": "adb78357"
      },
      "source": [
        "# 8.12.4\n",
        "\n",
        "\"Wordle\" is an online word game where the objective is to guess a five-letter word in six or fewer attempts.\n",
        "Each attempt has to be recognized as a word, not including proper nouns.\n",
        "After each attempt, you get information about which of the letters you guessed appear in the target word, and which ones are in the correct position.\n",
        "\n",
        "For example, suppose the target word is `MOWER` and you guess `TRIED`.\n",
        "You would learn that `E` is in the word and in the correct position, `R` is in the word but not in the correct position, and `T`, `I`, and `D` are not in the word.\n",
        "\n",
        "As a different example, suppose you have guessed the words `SPADE` and `CLERK`, and you've learned that `E` is in the word, but not in either of those positions, and none of the other letters appear in the word.\n",
        "Of the words in the word list, how many could be the target word?\n",
        "Write a function called `check_word` that takes a five-letter word and checks whether it could be the target word, given these guesses."
      ]
    },
    {
      "cell_type": "code",
      "execution_count": null,
      "metadata": {
        "id": "2a37092e"
      },
      "outputs": [],
      "source": [
        "# This function checks to see if a word is a valid Wordle guess with the given information\n",
        "def check_word(word):\n",
        "  #Wordle words must be exactly 5 letters\n",
        "  if len(word)!=5:\n",
        "    print(\"Not a 5 letter word\")\n",
        "    return False\n",
        "  #Grayed out letters can not be used anywhere in the word\n",
        "  if uses_any(word,'spadclrkto'):\n",
        "    return False\n",
        "  #An 'e' must be used at least once in the word\n",
        "  if uses_none(word.lower(),'e'):\n",
        "    return False\n",
        "  #The letter 'e' cannot be the third letter\n",
        "  if word[2].lower()=='e':\n",
        "    return False\n",
        "  #The fifth letter must be 'm'\n",
        "  if word[4].lower()!='m':\n",
        "    return False\n",
        "  #The letter 'e' cannot be the fourth letter\n",
        "  if word[3].lower()=='e':\n",
        "    return False\n",
        "  #If all previous if statements evaluate as false, then the word is valid\n",
        "  return True\n",
        "\n",
        "\n"
      ]
    },
    {
      "cell_type": "markdown",
      "metadata": {
        "id": "87fdf676"
      },
      "source": [
        "You can use any of the functions from the previous chapter, like `uses_any`."
      ]
    },
    {
      "cell_type": "code",
      "execution_count": null,
      "metadata": {
        "tags": [],
        "id": "8d19b6ce"
      },
      "outputs": [],
      "source": [
        "def uses_any(word, letters):\n",
        "  for letter in word.lower():\n",
        "    if letter in letters.lower():\n",
        "      return True\n",
        "  return False"
      ]
    },
    {
      "cell_type": "markdown",
      "metadata": {
        "tags": [],
        "id": "63593f1b"
      },
      "source": [
        "You can use the following loop to test your function."
      ]
    },
    {
      "cell_type": "code",
      "execution_count": null,
      "metadata": {
        "tags": [],
        "id": "9bbf0b1c",
        "colab": {
          "base_uri": "https://localhost:8080/"
        },
        "outputId": "d43b25be-20ef-4a57-8d9c-e3d8e45dacc5"
      },
      "outputs": [
        {
          "output_type": "stream",
          "name": "stdout",
          "text": [
            "begum\n",
            "enzym\n"
          ]
        }
      ],
      "source": [
        "for line in open('words.txt'):\n",
        "    word = line.strip()\n",
        "    if len(word) == 5 and check_word(word):\n",
        "        print(word)"
      ]
    },
    {
      "cell_type": "markdown",
      "source": [
        "## 8.12.4 Explanation\n",
        "This function first checks if the word is 5 letters and returns flase if not. Then it checks if any of the forbidden letters are used. Next, a series of if statements check if an 'e' is in a position where it shouldn't be and if there isn't a 'm' at the end. If any of these statements are true, False will be returned. If all the statements are false, the function will return true as the word is valid. In this case, begum and enzym are the only two possible answers."
      ],
      "metadata": {
        "id": "kT9H0bBbE9ae"
      }
    },
    {
      "cell_type": "markdown",
      "metadata": {
        "id": "c1d0f892"
      },
      "source": [
        "# 8.12.5\n",
        "\n",
        "*The Count of Monte Cristo* is a novel by Alexandre Dumas that is considered a classic.\n",
        "Nevertheless, in the introduction of an English translation of the book, the writer Umberto Eco confesses that he found the book to be \"one of the most badly written novels of all time\".\n",
        "\n",
        "In particular, he says it is \"shameless in its repetition of the same adjective,\" and mentions in particular the number of times \"its characters either shudder or turn pale.\"\n",
        "\n",
        "To see whether his objection is valid, let's count the number number of lines that contain the word `pale` in any form, including `pale`, `pales`, `paled`, and `paleness`, as well as the related word `pallor`.\n",
        "Use a single regular expression that matches any of these words.\n",
        "As an additional challenge, make sure that it doesn't match any other words, like `impale` -- you might want to ask a virtual assistant for help."
      ]
    },
    {
      "cell_type": "markdown",
      "metadata": {
        "tags": [],
        "id": "742efd98"
      },
      "source": [
        "The following cell downloads the book from Project Gutenberg <https://www.gutenberg.org/ebooks/1184>."
      ]
    },
    {
      "cell_type": "code",
      "execution_count": 1,
      "metadata": {
        "tags": [],
        "id": "9a74be13",
        "colab": {
          "base_uri": "https://localhost:8080/"
        },
        "outputId": "96fbe470-8955-4694-821a-12c1a0134a51"
      },
      "outputs": [
        {
          "output_type": "stream",
          "name": "stdout",
          "text": [
            "--2025-01-26 22:16:29--  https://www.gutenberg.org/cache/epub/1184/pg1184.txt\n",
            "Resolving www.gutenberg.org (www.gutenberg.org)... 152.19.134.47, 2610:28:3090:3000:0:bad:cafe:47\n",
            "Connecting to www.gutenberg.org (www.gutenberg.org)|152.19.134.47|:443... connected.\n",
            "HTTP request sent, awaiting response... 200 OK\n",
            "Length: 2787202 (2.7M) [text/plain]\n",
            "Saving to: ‘pg1184.txt’\n",
            "\n",
            "pg1184.txt          100%[===================>]   2.66M  9.52MB/s    in 0.3s    \n",
            "\n",
            "2025-01-26 22:16:30 (9.52 MB/s) - ‘pg1184.txt’ saved [2787202/2787202]\n",
            "\n"
          ]
        }
      ],
      "source": [
        "import os\n",
        "\n",
        "if not os.path.exists('pg1184.txt'):\n",
        "    !wget https://www.gutenberg.org/cache/epub/1184/pg1184.txt"
      ]
    },
    {
      "cell_type": "markdown",
      "metadata": {
        "tags": [],
        "id": "881c2f99"
      },
      "source": [
        "The following cell runs a function that reads the file from Project Gutenberg and writes a file that contains only the text of the book, not the added information about the book."
      ]
    },
    {
      "cell_type": "code",
      "execution_count": 5,
      "metadata": {
        "tags": [],
        "id": "946c63d2"
      },
      "outputs": [],
      "source": [
        "def is_special_line(line):\n",
        "    return line.startswith('*** ')\n",
        "def clean_file(input_file, output_file):\n",
        "    reader = open(input_file)\n",
        "    writer = open(output_file, 'w')\n",
        "\n",
        "    for line in reader:\n",
        "        if is_special_line(line):\n",
        "            break\n",
        "\n",
        "    for line in reader:\n",
        "        if is_special_line(line):\n",
        "            break\n",
        "        writer.write(line)\n",
        "\n",
        "    reader.close()\n",
        "    writer.close()\n",
        "\n",
        "clean_file('pg1184.txt', 'pg1184_cleaned.txt')"
      ]
    },
    {
      "cell_type": "code",
      "execution_count": 24,
      "metadata": {
        "id": "08294921",
        "colab": {
          "base_uri": "https://localhost:8080/"
        },
        "outputId": "99147512-155f-4485-bdc6-9cd35484f301"
      },
      "outputs": [
        {
          "output_type": "stream",
          "name": "stdout",
          "text": [
            "238\n"
          ]
        }
      ],
      "source": [
        "#This code finds the number of lines that a version of the adjective \"pale\" is used in the Count of Monte Cristo\n",
        "import re\n",
        "#initialize count as 0\n",
        "count=0\n",
        "#iterate through each line\n",
        "for line in open('pg1184_cleaned.txt'):\n",
        "  ans = re.search(r'\\b(pale|pales|paler|paled|paleness|pallor)\\b', line, re.IGNORECASE)\n",
        "  #if any matches are found on that line, increase the count by 1\n",
        "  if ans != None:\n",
        "    count+=1\n",
        "print(count)"
      ]
    },
    {
      "cell_type": "markdown",
      "metadata": {
        "tags": [],
        "id": "7db56337"
      },
      "source": [
        "By this count, these words appear on `223` lines of the book, so Mr. Eco might have a point."
      ]
    },
    {
      "cell_type": "markdown",
      "source": [
        "## 8.12.5 Explanation\n",
        "This function uses real expressions, so the first step is importing re. Next, the count is initialized to 0. The function then iterates through each line in the cleaned text file. For each line, a real expression search is performed using the ignore case flag to see if any of the selected words are used. The words are separated by \"|\" operators to allow the search to return a result if any are found. The \"\\b\" flag is used on each end to allow for punction or other marks surrounding the word, but not other letters (such as the \"im\" in impale). If a result is found, the if statement will be true and the count will increment by 1. At the end of the code, the final value of count will be printed."
      ],
      "metadata": {
        "id": "2U4U70yv16R3"
      }
    },
    {
      "cell_type": "markdown",
      "metadata": {
        "id": "31d5b304"
      },
      "source": [
        "# 9.15.2\n",
        "\n",
        "Two words are anagrams if you can rearrange the letters from one to spell the other.\n",
        "For example, `tops` is an anagram of `stop`.\n",
        "\n",
        "One way to check whether two words are anagrams is to sort the letters in both words.\n",
        "If the lists of sorted letters are the same, the words are anagrams.\n",
        "\n",
        "Write a function called `is_anagram` that takes two strings and returns `True` if they are anagrams."
      ]
    },
    {
      "cell_type": "markdown",
      "metadata": {
        "tags": [],
        "id": "a882bfeb"
      },
      "source": [
        "To get you started, here's an outline of the function with doctests."
      ]
    },
    {
      "cell_type": "code",
      "execution_count": 4,
      "metadata": {
        "tags": [],
        "id": "9c5916ed"
      },
      "outputs": [],
      "source": [
        "def is_anagram(word1, word2):\n",
        "    \"\"\"Checks whether two words are anagrams.\n",
        "\n",
        "    >>> is_anagram('tops', 'stop')\n",
        "    True\n",
        "    >>> is_anagram('skate', 'takes')\n",
        "    True\n",
        "    >>> is_anagram('tops', 'takes')\n",
        "    False\n",
        "    >>> is_anagram('skate', 'stop')\n",
        "    False\n",
        "    \"\"\"\n",
        "    #if the sorted lists are the same, they are anagrams\n",
        "    return sorted(word1)==sorted(word2)"
      ]
    },
    {
      "cell_type": "code",
      "execution_count": null,
      "metadata": {
        "id": "5885cbd3"
      },
      "outputs": [],
      "source": [
        "# Solution goes here"
      ]
    },
    {
      "cell_type": "markdown",
      "metadata": {
        "tags": [],
        "id": "a86e7403"
      },
      "source": [
        "You can use `doctest` to test your function."
      ]
    },
    {
      "cell_type": "code",
      "execution_count": 5,
      "metadata": {
        "tags": [],
        "id": "ce7a96ec",
        "colab": {
          "base_uri": "https://localhost:8080/"
        },
        "outputId": "e13796bf-4795-41dc-e95b-b1d03d801aa0"
      },
      "outputs": [
        {
          "output_type": "stream",
          "name": "stderr",
          "text": [
            "\n",
            "PYDEV DEBUGGER WARNING:\n",
            "sys.settrace() should not be used when the debugger is being used.\n",
            "This may cause the debugger to stop working correctly.\n",
            "If this is needed, please check: \n",
            "http://pydev.blogspot.com/2007/06/why-cant-pydev-debugger-work-with.html\n",
            "to see how to restore the debug tracing back correctly.\n",
            "Call Location:\n",
            "  File \"/usr/lib/python3.11/doctest.py\", line 1523, in run\n",
            "    sys.settrace(save_trace)\n",
            "\n"
          ]
        }
      ],
      "source": [
        "from doctest import run_docstring_examples\n",
        "\n",
        "def run_doctests(func):\n",
        "    run_docstring_examples(func, globals(), name=func.__name__)\n",
        "\n",
        "run_doctests(is_anagram)"
      ]
    },
    {
      "cell_type": "markdown",
      "metadata": {
        "id": "8501f3ba"
      },
      "source": [
        "Using your function and the word list, find all the anagrams of `takes`."
      ]
    },
    {
      "cell_type": "code",
      "execution_count": 31,
      "metadata": {
        "id": "75e17c7b",
        "colab": {
          "base_uri": "https://localhost:8080/"
        },
        "outputId": "9b60b356-22e6-44db-8206-b302ffe47580"
      },
      "outputs": [
        {
          "output_type": "stream",
          "name": "stdout",
          "text": [
            "skate\n",
            "stake\n",
            "steak\n",
            "takes\n",
            "teaks\n"
          ]
        }
      ],
      "source": [
        "# Find all anagrams of \"takes\"\n",
        "\n",
        "#open the word list file and iterate through each line\n",
        "for line in open('words.txt'):\n",
        "  #remove any whitespace\n",
        "    word = line.strip()\n",
        "    #print word if is_anagram returns true with the word and \"takes\" as arguements\n",
        "    if is_anagram(word, 'takes'):\n",
        "        print(word)"
      ]
    },
    {
      "cell_type": "markdown",
      "source": [
        "## 9.15.2 Explanation\n",
        "The is_anagram function returns the value of equality statement of the two words that have been sorted. This will be true if they are anagrams. The next set of code prints all the anagrams of \"takes\" by opening the word list (default of for reading) and then runs the previously made function with the curret word and \"takes\" as the two inputs. If the is_anagram function returns true, the word is printed to the screen."
      ],
      "metadata": {
        "id": "2f6zFSnf7HHY"
      }
    },
    {
      "cell_type": "markdown",
      "metadata": {
        "id": "11386f70"
      },
      "source": [
        "# 9.15.4\n",
        "\n",
        "Write a function called `reverse_sentence` that takes as an argument a string that contains any number of words separated by spaces.\n",
        "It should return a new string that contains the same words in reverse order.\n",
        "For example, if the argument is \"Reverse this sentence\", the result should be \"Sentence this reverse\".\n",
        "\n",
        "Hint: You can use the `capitalize` methods to capitalize the first word and convert the other words to lowercase."
      ]
    },
    {
      "cell_type": "markdown",
      "metadata": {
        "tags": [],
        "id": "13882893"
      },
      "source": [
        "To get you started, here's an outline of the function with doctests."
      ]
    },
    {
      "cell_type": "code",
      "execution_count": 32,
      "metadata": {
        "tags": [],
        "id": "d9b5b362"
      },
      "outputs": [],
      "source": [
        "def reverse_sentence(input_string):\n",
        "    '''Reverse the words in a string and capitalize the first.\n",
        "\n",
        "    >>> reverse_sentence('Reverse this sentence')\n",
        "    'Sentence this reverse'\n",
        "\n",
        "    >>> reverse_sentence('Python')\n",
        "    'Python'\n",
        "\n",
        "    >>> reverse_sentence('')\n",
        "    ''\n",
        "\n",
        "    >>> reverse_sentence('One for all and all for one')\n",
        "    'One for all and all for one'\n",
        "    '''\n",
        "    #Split each word to a entry in a list\n",
        "    oldsentence = input_string.split()\n",
        "    #Reverse the order of entries in the list\n",
        "    oldsentence.reverse()\n",
        "    #Capitialize the first letter and turn the list of words into a string separated by spaces\n",
        "    newsentence = ' '.join(oldsentence).capitalize()\n",
        "    #Return the new reveresed sentence\n",
        "    return newsentence"
      ]
    },
    {
      "cell_type": "code",
      "execution_count": 31,
      "metadata": {
        "tags": [],
        "id": "769d1c7a"
      },
      "outputs": [],
      "source": [
        "run_doctests(reverse_sentence)"
      ]
    },
    {
      "cell_type": "markdown",
      "source": [
        "## 9.15.4 Explanation\n",
        "First, this code uses the split method to split the string by spaces and store each word in a list. Next, the order of words in the list is flipped. Then, the words in this list are joined together with spaces as delimiters and the only the first letter is capitalized using the capitalize method. Finally, the reveresed sentence is returned."
      ],
      "metadata": {
        "id": "owvU6tjLtxKC"
      }
    },
    {
      "cell_type": "markdown",
      "metadata": {
        "id": "fb5f24b1"
      },
      "source": [
        "# 9.15.5\n",
        "\n",
        "Write a function called `total_length` that takes a list of strings and returns the total length of the strings.\n",
        "The total length of the words in `word_list` should be $902{,}728$."
      ]
    },
    {
      "cell_type": "code",
      "source": [
        "#Find the total length of all the strings in the given file\n",
        "def total_length(filename):\n",
        "  length=0 #initialize variable\n",
        "  #iterate through each line of the file\n",
        "  for word in open(filename):\n",
        "    #add the length of the current word (not including whitespace) to the counter\n",
        "    length += len(word.strip())\n",
        "  #return the final value of length\n",
        "  return length\n",
        "total_length('words.txt')"
      ],
      "metadata": {
        "id": "hwKfYyYuuZc4",
        "outputId": "e0028ff9-a407-43b7-f3c7-4be1d0794106",
        "colab": {
          "base_uri": "https://localhost:8080/"
        }
      },
      "execution_count": 38,
      "outputs": [
        {
          "output_type": "execute_result",
          "data": {
            "text/plain": [
              "902728"
            ]
          },
          "metadata": {},
          "execution_count": 38
        }
      ]
    },
    {
      "cell_type": "markdown",
      "source": [
        "## 9.15.5 Explanation\n",
        "This function takes a filename as input. It initializes a counter as 0 and then opens the file and iterates through each line and adds the length of the word to the counter. The strip() method is used so that any whitespace is not counted. After completing the iteration, the cumulative length is returned."
      ],
      "metadata": {
        "id": "U_pvckx3vjDy"
      }
    }
  ]
}