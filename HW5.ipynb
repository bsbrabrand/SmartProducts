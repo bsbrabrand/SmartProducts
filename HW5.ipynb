{
  "nbformat": 4,
  "nbformat_minor": 0,
  "metadata": {
    "colab": {
      "provenance": [],
      "toc_visible": true,
      "authorship_tag": "ABX9TyMq9Ue+eTyg/f5vcI6DJwBn",
      "include_colab_link": true
    },
    "kernelspec": {
      "name": "python3",
      "display_name": "Python 3"
    },
    "language_info": {
      "name": "python"
    }
  },
  "cells": [
    {
      "cell_type": "markdown",
      "metadata": {
        "id": "view-in-github",
        "colab_type": "text"
      },
      "source": [
        "<a href=\"https://colab.research.google.com/github/bsbrabrand/SmartProducts/blob/main/HW5.ipynb\" target=\"_parent\"><img src=\"https://colab.research.google.com/assets/colab-badge.svg\" alt=\"Open In Colab\"/></a>"
      ]
    },
    {
      "cell_type": "markdown",
      "source": [
        "# Bennett Brabrand"
      ],
      "metadata": {
        "id": "GGA3GisAcXcp"
      }
    },
    {
      "cell_type": "code",
      "source": [
        "from os.path import basename, exists\n",
        "\n",
        "def download(url):\n",
        "    filename = basename(url)\n",
        "    if not exists(filename):\n",
        "        from urllib.request import urlretrieve\n",
        "\n",
        "        local, _ = urlretrieve(url, filename)\n",
        "        print(\"Downloaded \" + str(local))\n",
        "    return filename\n",
        "\n",
        "download('https://github.com/AllenDowney/ThinkPython/raw/v3/thinkpython.py');\n",
        "download('https://github.com/AllenDowney/ThinkPython/raw/v3/diagram.py');\n",
        "\n",
        "import thinkpython\n",
        "\n",
        "class Time:\n",
        "    \"\"\"Represents a time of day.\"\"\"\n",
        "\n",
        "def make_time(hour, minute, second):\n",
        "    time = Time()\n",
        "    time.hour = hour\n",
        "    time.minute = minute\n",
        "    time.second = second\n",
        "    return time\n",
        "def print_time(time):\n",
        "    s = f'{time.hour:02d}:{time.minute:02d}:{time.second:02d}'\n",
        "    print(s)"
      ],
      "metadata": {
        "id": "WAXZKabAT0Xy"
      },
      "execution_count": 6,
      "outputs": []
    },
    {
      "cell_type": "markdown",
      "metadata": {
        "id": "bcdab7d6"
      },
      "source": [
        "# 14.12.1\n",
        "\n",
        "Write a function called `subtract_time` that takes two `Time` objects and returns the interval between them in seconds -- assuming that they are two times during the same day."
      ]
    },
    {
      "cell_type": "markdown",
      "metadata": {
        "tags": [],
        "id": "5033ee5f"
      },
      "source": [
        "Here's an outline of the function to get you started."
      ]
    },
    {
      "cell_type": "code",
      "execution_count": 13,
      "metadata": {
        "tags": [],
        "id": "7d898f43"
      },
      "outputs": [],
      "source": [
        "def subtract_time(t1, t2):\n",
        "    \"\"\"Compute the difference between two times in seconds.\n",
        "    This function assumes that t1 is after t2, otherwise the result will be negative.\n",
        "\n",
        "    >>> subtract_time(make_time(3, 2, 1), make_time(3, 2, 0))\n",
        "    1\n",
        "    >>> subtract_time(make_time(3, 2, 1), make_time(3, 0, 0))\n",
        "    121\n",
        "    >>> subtract_time(make_time(11, 12, 0), make_time(9, 40, 0))\n",
        "    5520\n",
        "    \"\"\"\n",
        "    #convert each attribute to seconds and then subtract the difference\n",
        "    return t1.hour*3600+t1.minute*60+t1.second-t2.hour*3600-t2.minute*60-t2.second"
      ]
    },
    {
      "cell_type": "markdown",
      "metadata": {
        "tags": [],
        "id": "73334265"
      },
      "source": [
        "You can use `doctest` to test your function."
      ]
    },
    {
      "cell_type": "code",
      "execution_count": 14,
      "metadata": {
        "tags": [],
        "id": "5a25a3de"
      },
      "outputs": [],
      "source": [
        "from doctest import run_docstring_examples\n",
        "\n",
        "def run_doctests(func):\n",
        "    run_docstring_examples(func, globals(), name=func.__name__)\n",
        "\n",
        "run_doctests(subtract_time)"
      ]
    },
    {
      "cell_type": "markdown",
      "source": [
        "## 14.12.1 Explanation\n",
        "This function converts the hour attribute of each time object to seconds by multiplying by 3600, and each minute attribute by multiplying by 60. Then, all attributes from the first time object are added while the one's from the second are subtracted. This results in the difference in seconds which is then returned.\n",
        "\n",
        "Insights: Using a class such as time can have many applications. A direct application would be for timing a race using the start time and finish times of participants. Similar classes could also be created for months, dates, and other relevant information."
      ],
      "metadata": {
        "id": "s8HwttkWWmVS"
      }
    },
    {
      "cell_type": "markdown",
      "metadata": {
        "id": "16dff862"
      },
      "source": [
        "# 14.12.3\n",
        "\n",
        "Here's a definition for a `Date` class that represents a date -- that is, a year, month, and day of the month."
      ]
    },
    {
      "cell_type": "code",
      "execution_count": null,
      "metadata": {
        "id": "c5de60ed"
      },
      "outputs": [],
      "source": [
        "class Date:\n",
        "    \"\"\"Represents a year, month, and day\"\"\""
      ]
    },
    {
      "cell_type": "markdown",
      "metadata": {
        "id": "3311fa97"
      },
      "source": [
        "1. Write a function called `make_date` that takes `year`, `month`, and `day` as parameters, makes a `Date` object, assigns the parameters to attributes, and returns the result the new object. Create an object that represents June 22, 1933.\n",
        "\n",
        "2. Write a function called `print_date` that takes a `Date` object, uses an f-string to format the attributes, and prints the result. If you test it with the `Date` you created, the result should be `1933-06-22`.\n",
        "\n",
        "3. Write a function called `is_after` that takes two `Date` objects as parameters and returns `True` if the first comes after the second. Create a second object that represents September 17, 1933, and check whether it comes after the first object.\n",
        "\n",
        "Hint: You might find it useful to write a function called `date_to_tuple` that takes a `Date` object and returns a tuple that contains its attributes in year, month, day order."
      ]
    },
    {
      "cell_type": "markdown",
      "metadata": {
        "tags": [],
        "id": "90b10ca5"
      },
      "source": [
        "You can use this function outline to get started."
      ]
    },
    {
      "cell_type": "code",
      "execution_count": null,
      "metadata": {
        "tags": [],
        "id": "9e16bcde"
      },
      "outputs": [],
      "source": [
        "def make_date(year, month, day):\n",
        "  ''' Create a date object with the given values for year, month, and day\n",
        "  '''\n",
        "  #initialize date object\n",
        "  date = Date()\n",
        "  #assign each attribute\n",
        "  date.year = year\n",
        "  date.month = month\n",
        "  date.day = day\n",
        "  #return date object\n",
        "  return date"
      ]
    },
    {
      "cell_type": "markdown",
      "metadata": {
        "tags": [],
        "id": "20c5edf8"
      },
      "source": [
        "You can use these examples to test `make_date`."
      ]
    },
    {
      "cell_type": "code",
      "execution_count": null,
      "metadata": {
        "tags": [],
        "id": "62180007"
      },
      "outputs": [],
      "source": [
        "birthday1 = make_date(1933, 6, 22)"
      ]
    },
    {
      "cell_type": "code",
      "execution_count": null,
      "metadata": {
        "tags": [],
        "id": "2d70104e"
      },
      "outputs": [],
      "source": [
        "birthday2 = make_date(1933, 9, 17)"
      ]
    },
    {
      "cell_type": "markdown",
      "metadata": {
        "tags": [],
        "id": "16ff5bef"
      },
      "source": [
        "You can use this function outline to get started."
      ]
    },
    {
      "cell_type": "code",
      "execution_count": null,
      "metadata": {
        "tags": [],
        "id": "2cc0653e"
      },
      "outputs": [],
      "source": [
        "def print_date(date):\n",
        "    print('')"
      ]
    },
    {
      "cell_type": "code",
      "execution_count": null,
      "metadata": {
        "id": "0b8f63df"
      },
      "outputs": [],
      "source": [
        "# Solution goes here"
      ]
    },
    {
      "cell_type": "markdown",
      "metadata": {
        "tags": [],
        "id": "c36c432e"
      },
      "source": [
        "You can use this example to test `print_date`."
      ]
    },
    {
      "cell_type": "code",
      "execution_count": null,
      "metadata": {
        "tags": [],
        "id": "2d0a026d",
        "outputId": "095152f1-5b9c-4036-a80e-ae4e15a29ce7",
        "colab": {
          "base_uri": "https://localhost:8080/"
        }
      },
      "outputs": [
        {
          "output_type": "stream",
          "name": "stdout",
          "text": [
            "\n"
          ]
        }
      ],
      "source": [
        "print_date(birthday1)"
      ]
    },
    {
      "cell_type": "markdown",
      "metadata": {
        "tags": [],
        "id": "17565b1e"
      },
      "source": [
        "You can use this function outline to get started."
      ]
    },
    {
      "cell_type": "code",
      "execution_count": null,
      "metadata": {
        "tags": [],
        "id": "70413f48"
      },
      "outputs": [],
      "source": [
        "def is_after(date1, date2):\n",
        "    return None"
      ]
    },
    {
      "cell_type": "code",
      "execution_count": null,
      "metadata": {
        "id": "b244a057"
      },
      "outputs": [],
      "source": [
        "# Solution goes here"
      ]
    },
    {
      "cell_type": "code",
      "execution_count": null,
      "metadata": {
        "id": "5fab04bd"
      },
      "outputs": [],
      "source": [
        "# Solution goes here"
      ]
    },
    {
      "cell_type": "markdown",
      "metadata": {
        "tags": [],
        "id": "d9b5dd67"
      },
      "source": [
        "You can use these examples to test `is_after`."
      ]
    },
    {
      "cell_type": "code",
      "execution_count": null,
      "metadata": {
        "tags": [],
        "id": "59166d30"
      },
      "outputs": [],
      "source": [
        "is_after(birthday1, birthday2)  # should be False"
      ]
    },
    {
      "cell_type": "code",
      "execution_count": null,
      "metadata": {
        "tags": [],
        "id": "c33706ee"
      },
      "outputs": [],
      "source": [
        "is_after(birthday2, birthday1)  # should be True"
      ]
    },
    {
      "cell_type": "markdown",
      "metadata": {
        "id": "d6f1cc2f"
      },
      "source": []
    },
    {
      "cell_type": "markdown",
      "metadata": {
        "tags": [],
        "id": "a7f4edf8"
      },
      "source": [
        "[Think Python: 3rd Edition](https://allendowney.github.io/ThinkPython/index.html)\n",
        "\n",
        "Copyright 2024 [Allen B. Downey](https://allendowney.com)\n",
        "\n",
        "Code license: [MIT License](https://mit-license.org/)\n",
        "\n",
        "Text license: [Creative Commons Attribution-NonCommercial-ShareAlike 4.0 International](https://creativecommons.org/licenses/by-nc-sa/4.0/)"
      ]
    }
  ]
}