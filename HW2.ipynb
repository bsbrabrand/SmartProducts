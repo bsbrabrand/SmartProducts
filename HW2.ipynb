{
  "nbformat": 4,
  "nbformat_minor": 0,
  "metadata": {
    "colab": {
      "provenance": [],
      "authorship_tag": "ABX9TyPLLaDRfUQf1DuJrvtO/wjw",
      "include_colab_link": true
    },
    "kernelspec": {
      "name": "python3",
      "display_name": "Python 3"
    },
    "language_info": {
      "name": "python"
    }
  },
  "cells": [
    {
      "cell_type": "markdown",
      "metadata": {
        "id": "view-in-github",
        "colab_type": "text"
      },
      "source": [
        "<a href=\"https://colab.research.google.com/github/bsbrabrand/SmartProducts/blob/main/HW2.ipynb\" target=\"_parent\"><img src=\"https://colab.research.google.com/assets/colab-badge.svg\" alt=\"Open In Colab\"/></a>"
      ]
    },
    {
      "cell_type": "markdown",
      "source": [
        "Functions from book, run before the rest of the code:"
      ],
      "metadata": {
        "id": "ZlDlf63gIMVz"
      }
    },
    {
      "cell_type": "code",
      "execution_count": 1,
      "metadata": {
        "tags": [],
        "id": "df64b7da",
        "colab": {
          "base_uri": "https://localhost:8080/"
        },
        "outputId": "a8d06a45-96fc-4a71-abd5-a62c1dc2f3b6"
      },
      "outputs": [
        {
          "output_type": "stream",
          "name": "stdout",
          "text": [
            "Downloaded thinkpython.py\n",
            "Downloaded diagram.py\n",
            "Downloaded jupyturtle.py\n"
          ]
        }
      ],
      "source": [
        "from os.path import basename, exists\n",
        "\n",
        "def download(url):\n",
        "    filename = basename(url)\n",
        "    if not exists(filename):\n",
        "        from urllib.request import urlretrieve\n",
        "\n",
        "        local, _ = urlretrieve(url, filename)\n",
        "        print(\"Downloaded \" + str(local))\n",
        "    return filename\n",
        "\n",
        "download('https://github.com/AllenDowney/ThinkPython/raw/v3/thinkpython.py');\n",
        "download('https://github.com/AllenDowney/ThinkPython/raw/v3/diagram.py');\n",
        "download('https://github.com/ramalho/jupyturtle/releases/download/2024-03/jupyturtle.py');"
      ]
    },
    {
      "cell_type": "code",
      "execution_count": 3,
      "metadata": {
        "tags": [],
        "id": "320fc8bc"
      },
      "outputs": [],
      "source": [
        "import thinkpython\n",
        "\n",
        "%load_ext autoreload\n",
        "%autoreload 2\n",
        "import jupyturtle as t"
      ]
    },
    {
      "cell_type": "markdown",
      "source": [
        "# 4.11.3\n",
        "\n",
        "Now write a more general function called parallelogram that draws a quadrilateral with parallel sides. Then rewrite rectangle and rhombus to use parallelogram."
      ],
      "metadata": {
        "id": "aWakxPmUIWFl"
      }
    },
    {
      "cell_type": "code",
      "source": [
        "def parallelogram(angle,length,height):\n",
        "  t.make_turtle()\n",
        "  t.forward(length)\n",
        "  t.left(angle)\n",
        "  t.forward(height)\n",
        "  t.left(180-angle)\n",
        "  t.forward(length)\n",
        "  t.left(angle)\n",
        "  t.forward(height)\n",
        "parallelogram(40,20,40)\n"
      ],
      "metadata": {
        "colab": {
          "base_uri": "https://localhost:8080/",
          "height": 171
        },
        "id": "Tx5SIyFcIdus",
        "outputId": "d537adf1-92f5-40c1-f86b-989cf5ded0be"
      },
      "execution_count": 4,
      "outputs": [
        {
          "output_type": "display_data",
          "data": {
            "text/plain": [
              "<IPython.core.display.HTML object>"
            ],
            "text/html": [
              "<svg width=\"300\" height=\"150\">\n",
              "    <rect width=\"100%\" height=\"100%\" fill=\"#F3F3F7\" />\n",
              "\n",
              "<line x1=\"150\" y1=\"75\" x2=\"170.0\" y2=\"75.0\"\n",
              "    stroke=\"#663399\" stroke-width=\"2\" />\n",
              "<line x1=\"170.0\" y1=\"75.0\" x2=\"200.6\" y2=\"49.3\"\n",
              "    stroke=\"#663399\" stroke-width=\"2\" />\n",
              "<line x1=\"200.6\" y1=\"49.3\" x2=\"180.6\" y2=\"49.3\"\n",
              "    stroke=\"#663399\" stroke-width=\"2\" />\n",
              "<line x1=\"180.6\" y1=\"49.3\" x2=\"150.0\" y2=\"75.0\"\n",
              "    stroke=\"#663399\" stroke-width=\"2\" />\n",
              "\n",
              "<g transform=\"rotate(50.0,150.0,75.0) translate(150.0, 75.0)\">\n",
              "    <circle stroke=\"#63A375\" stroke-width=\"2\" fill=\"transparent\" r=\"5.5\" cx=\"0\" cy=\"0\"/>\n",
              "    <polygon points=\"0,12 2,9 -2,9\" style=\"fill:#63A375;stroke:#63A375;stroke-width:2\"/>\n",
              "</g>\n",
              "\n",
              "</svg>"
            ]
          },
          "metadata": {}
        }
      ]
    },
    {
      "cell_type": "markdown",
      "source": [
        "Parallelogram takes the interior angle, the side length of the horizontal segments, and the side length of the other two segments, as agruments, respectively.\n",
        "  The first line initializes the turtle. The parallelogram is then drawn by calling the forward function with the horizontal side length since the default direction of the turtle is to the right. The turtle then turns left to the amount of degrees given as the interior angle before moving forward the distance given as the other side length (height). For the next turn, the turtle turns to the left by the inputed angle subtracted from 180, since this corners angle is supplementary to the previous corner. The turtle then moves the horziontal length before turning to the left by the inputed angle before finally moving the length of the other length to return to the start point."
      ],
      "metadata": {
        "id": "V6u51trDeB9f"
      }
    },
    {
      "cell_type": "code",
      "source": [
        "def rectangle(length, height):\n",
        "  parallelogram(90,length,height)\n",
        "rectangle(80,40)"
      ],
      "metadata": {
        "id": "Q-22AWTkc_WG",
        "outputId": "07a218c2-80ba-4a93-efac-3ada02c05345",
        "colab": {
          "base_uri": "https://localhost:8080/",
          "height": 171
        }
      },
      "execution_count": 5,
      "outputs": [
        {
          "output_type": "display_data",
          "data": {
            "text/plain": [
              "<IPython.core.display.HTML object>"
            ],
            "text/html": [
              "<svg width=\"300\" height=\"150\">\n",
              "    <rect width=\"100%\" height=\"100%\" fill=\"#F3F3F7\" />\n",
              "\n",
              "<line x1=\"150\" y1=\"75\" x2=\"230.0\" y2=\"75.0\"\n",
              "    stroke=\"#663399\" stroke-width=\"2\" />\n",
              "<line x1=\"230.0\" y1=\"75.0\" x2=\"230.0\" y2=\"35.0\"\n",
              "    stroke=\"#663399\" stroke-width=\"2\" />\n",
              "<line x1=\"230.0\" y1=\"35.0\" x2=\"150.0\" y2=\"35.0\"\n",
              "    stroke=\"#663399\" stroke-width=\"2\" />\n",
              "<line x1=\"150.0\" y1=\"35.0\" x2=\"150.0\" y2=\"75.0\"\n",
              "    stroke=\"#663399\" stroke-width=\"2\" />\n",
              "\n",
              "<g transform=\"rotate(0.0,150.0,75.0) translate(150.0, 75.0)\">\n",
              "    <circle stroke=\"#63A375\" stroke-width=\"2\" fill=\"transparent\" r=\"5.5\" cx=\"0\" cy=\"0\"/>\n",
              "    <polygon points=\"0,12 2,9 -2,9\" style=\"fill:#63A375;stroke:#63A375;stroke-width:2\"/>\n",
              "</g>\n",
              "\n",
              "</svg>"
            ]
          },
          "metadata": {}
        }
      ]
    },
    {
      "cell_type": "markdown",
      "source": [
        "A rectangle is a parallelogram with an angle of 90, so the rectangle function simply calls parallelogram with the angle hard coded as 90."
      ],
      "metadata": {
        "id": "fgqQb_-0fkPV"
      }
    },
    {
      "cell_type": "code",
      "source": [
        "def rhombus(length,angle):\n",
        "  parallelogram(angle,length,length)\n",
        "rhombus(60,50)"
      ],
      "metadata": {
        "id": "jY2IZw9Ndc6d",
        "outputId": "e9f7b06a-dbad-47ff-a5c7-cf687b69ee21",
        "colab": {
          "base_uri": "https://localhost:8080/",
          "height": 171
        }
      },
      "execution_count": 6,
      "outputs": [
        {
          "output_type": "display_data",
          "data": {
            "text/plain": [
              "<IPython.core.display.HTML object>"
            ],
            "text/html": [
              "<svg width=\"300\" height=\"150\">\n",
              "    <rect width=\"100%\" height=\"100%\" fill=\"#F3F3F7\" />\n",
              "\n",
              "<line x1=\"150\" y1=\"75\" x2=\"210.0\" y2=\"75.0\"\n",
              "    stroke=\"#663399\" stroke-width=\"2\" />\n",
              "<line x1=\"210.0\" y1=\"75.0\" x2=\"248.6\" y2=\"29.0\"\n",
              "    stroke=\"#663399\" stroke-width=\"2\" />\n",
              "<line x1=\"248.6\" y1=\"29.0\" x2=\"188.6\" y2=\"29.0\"\n",
              "    stroke=\"#663399\" stroke-width=\"2\" />\n",
              "<line x1=\"188.6\" y1=\"29.0\" x2=\"150.0\" y2=\"75.0\"\n",
              "    stroke=\"#663399\" stroke-width=\"2\" />\n",
              "\n",
              "<g transform=\"rotate(40.0,150.0,75.0) translate(150.0, 75.0)\">\n",
              "    <circle stroke=\"#63A375\" stroke-width=\"2\" fill=\"transparent\" r=\"5.5\" cx=\"0\" cy=\"0\"/>\n",
              "    <polygon points=\"0,12 2,9 -2,9\" style=\"fill:#63A375;stroke:#63A375;stroke-width:2\"/>\n",
              "</g>\n",
              "\n",
              "</svg>"
            ]
          },
          "metadata": {}
        }
      ]
    },
    {
      "cell_type": "markdown",
      "source": [
        "A rhombus is a parallelogram with equal side lengths, so the rhombus function calls parallelogram with the same length used for both horizontal and vertical associated sides."
      ],
      "metadata": {
        "id": "3U7SBwD2fuAw"
      }
    }
  ]
}